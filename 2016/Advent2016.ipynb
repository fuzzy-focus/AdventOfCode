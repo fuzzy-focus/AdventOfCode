{
 "cells": [
  {
   "cell_type": "markdown",
   "metadata": {},
   "source": [
    "# Advent of Code 2016\n",
    "[see here](http://adventofcode.com/2016)"
   ]
  },
  {
   "cell_type": "markdown",
   "metadata": {},
   "source": [
    "## Preparation\n",
    "This is inspired by [Peter Norvigs solution](https://github.com/norvig/pytudes/blob/master/ipynb/Advent%20of%20Code.ipynb)"
   ]
  },
  {
   "cell_type": "code",
   "execution_count": 1,
   "metadata": {
    "collapsed": true
   },
   "outputs": [],
   "source": [
    "# Python 3.x\n",
    "import re\n",
    "import numpy as np\n",
    "import math\n",
    "import urllib.request\n",
    "\n",
    "from collections import Counter, defaultdict, namedtuple, deque\n",
    "from functools   import lru_cache, reduce\n",
    "from itertools   import permutations, combinations, chain, cycle, product, islice\n",
    "from heapq       import heappop, heappush\n",
    "\n",
    "def Input(day):\n",
    "    \"Open this day's input file.\"\n",
    "    \n",
    "    filename = 'input/input{}.txt'.format(day)\n",
    "    try:\n",
    "        with open(filename, 'r') as f:\n",
    "            text = f.read()\n",
    "        return text\n",
    "    except FileNotFoundError:\n",
    "        url = 'http://adventofcode.com/2016/day/{}/input'.format(day)\n",
    "        print('input file not found. opening browser...')\n",
    "        import webbrowser\n",
    "        webbrowser.open(url)\n",
    "\n",
    "def fs(*items): return frozenset(items)\n",
    "cat = ''.join\n",
    "first = lambda x: list(x)[0]\n",
    "\n",
    "def shift(it, n):\n",
    "    return it[n:] + it[:n]\n",
    "\n",
    "def rot(original,clockwise=True):\n",
    "    '''rotate 2D matrix'''\n",
    "    if clockwise:\n",
    "        return list(zip(*original[::-1]))\n",
    "    else:\n",
    "        return list(zip(*original[::-1]))[::-1]\n",
    "\n",
    "def prod(it):\n",
    "    return reduce(lambda x,y: x*y, it)\n",
    "\n",
    "def grep(pattern, lines):\n",
    "    \"Print lines that match pattern.\"\n",
    "    for line in lines:\n",
    "        if re.search(pattern, line):\n",
    "            print(line)\n",
    "\n",
    "def groupby(iterable, key=lambda it: it):\n",
    "    \"Return a dic whose keys are key(it) and whose values are all the elements of iterable with that key.\"\n",
    "    dic = defaultdict(list)\n",
    "    for it in iterable:\n",
    "        dic[key(it)].append(it)\n",
    "    return dic\n",
    "\n",
    "def powerset(iterable):\n",
    "    \"Yield all subsets of items.\"\n",
    "    items = list(iterable)\n",
    "    for r in range(len(items)+1):\n",
    "        for c in combinations(items, r):\n",
    "            yield c\n",
    "\n",
    "def neighbors4(point): \n",
    "    \"The four neighbors (without diagonals).\"\n",
    "    x, y = point\n",
    "    return ((x+1, y), (x-1, y), (x, y+1), (x, y-1))\n",
    "\n",
    "def neighbors8(point): \n",
    "    \"The eight neighbors (with diagonals).\"\n",
    "    x, y = point \n",
    "    return ((x+1, y), (x-1, y), (x, y+1), (x, y-1),\n",
    "            (X+1, y+1), (x-1, y-1), (x+1, y-1), (x-1, y+1))\n",
    "\n",
    "def cityblock_distance(p, q=(0, 0)): \n",
    "    \"City block distance between two points.\"\n",
    "    return abs(p[0] - q[0]) + abs(p[1] - q[1])\n",
    "\n",
    "def euclidean_distance(p, q=(0, 0)): \n",
    "    \"Euclidean (hypotenuse) distance between two points.\"\n",
    "    return math.hypot(p[0] - q[0], p[1] - q[1])\n",
    "\n",
    "def locate2D(m, val):\n",
    "    '''locate value in 2D list'''\n",
    "    for i, line in enumerate(m):\n",
    "        j=-1\n",
    "        try:\n",
    "            j = line.index(val)\n",
    "        except ValueError:\n",
    "            continue\n",
    "        break\n",
    "    else:\n",
    "        i = -1\n",
    "    return (i,j)\n",
    "\n",
    "def trace1(f):\n",
    "    \"Print a trace of the input and output of a function on one line.\"\n",
    "    def traced_f(*args):\n",
    "        result = f(*args)\n",
    "        print('{}({}) = {}'.format(f.__name__, ', '.join(map(str, args)), result))\n",
    "        return result\n",
    "    return traced_f\n",
    "\n",
    "def astar_search(start, h_func, moves_func):\n",
    "    \"Find a shortest sequence of states from start to a goal state (a state s with h_func(s) == 0).\"\n",
    "    frontier  = [(h_func(start), start)] # A priority queue, ordered by path length, f = g + h\n",
    "    previous  = {start: None}  # start state has no previous state; other states will\n",
    "    path_cost = {start: 0}     # The cost of the best path to a state.\n",
    "    while frontier:\n",
    "        (f, s) = heappop(frontier)\n",
    "        if h_func(s) == 0:\n",
    "            return Path(previous, s)\n",
    "        for s2 in moves_func(s):\n",
    "            new_cost = path_cost[s] + 1\n",
    "            if s2 not in path_cost or new_cost < path_cost[s2]:\n",
    "                heappush(frontier, (new_cost + h_func(s2), s2))\n",
    "                path_cost[s2] = new_cost\n",
    "                previous[s2] = s\n",
    "    return dict(fail=True, front=len(frontier), prev=len(previous))\n",
    "\n",
    "def bfs(start, moves_func, dest=None, max_step=None):\n",
    "    frontier  = [(0, start)] # A priority queue, ordered by path length, f = g + h\n",
    "    previous  = {start: None}  # start state has no previous state; other states will\n",
    "    path_cost = {start: 0}     # The cost of the best path to a state.\n",
    "    while frontier:\n",
    "        (f, s) = heappop(frontier)\n",
    "        if s == dest:\n",
    "            return Path(previous, s)\n",
    "        if f == max_step:\n",
    "            break\n",
    "        for s2 in moves_func(s):\n",
    "            new_cost = path_cost[s] + 1\n",
    "            if s2 not in path_cost or new_cost < path_cost[s2]:\n",
    "                heappush(frontier, (new_cost, s2))\n",
    "                path_cost[s2] = new_cost\n",
    "                previous[s2] = s\n",
    "    return dict(fail=True, front=len(frontier), prev=len(previous), cost=path_cost)\n",
    "    \n",
    "    \n",
    "                \n",
    "def Path(previous, s): \n",
    "    \"Return a list of states that lead to state s, according to the previous dict.\"\n",
    "    return ([] if (s is None) else Path(previous, previous[s]) + [s])"
   ]
  },
  {
   "cell_type": "markdown",
   "metadata": {},
   "source": [
    "## Day 1"
   ]
  },
  {
   "cell_type": "code",
   "execution_count": null,
   "metadata": {
    "collapsed": true
   },
   "outputs": [],
   "source": [
    "Point = complex             \n",
    "N, S, E, W = 1j, -1j, 1, -1 # Unit vectors for headings\n",
    "\n",
    "def distance(point): \n",
    "    \"City block distance between point and the origin.\"\n",
    "    return abs(point.real) + abs(point.imag)\n",
    "\n",
    "def how_far(moves):\n",
    "    \"After following moves, how far away from the origin do we end up?\"\n",
    "    loc, heading = 0, N # Begin at origin, heading North\n",
    "    for (turn, dist) in parse(moves):\n",
    "        heading *= turn\n",
    "        loc += heading * dist\n",
    "    return distance(loc)\n",
    "\n",
    "def parse(text):\n",
    "    \"Return a list of (turn, distance) pairs from text of form 'R2, L42, ...'\"\n",
    "    turns = dict(L=N, R=S)\n",
    "    return [(turns[RL], int(d))\n",
    "           for (RL, d) in re.findall(r'(R|L)(\\d+)', text)]\n",
    "\n",
    "assert distance(Point(3, 4)) == 7 # City block distance; Euclidean distance would be 5\n",
    "assert parse('R2, L42') == [(S, 2), (N, 42)]\n",
    "assert how_far(\"R2, L3\") == 5\n",
    "assert how_far(\"R2, R2, R2\") == 2\n",
    "assert how_far(\"R5, L5, R5, R3\") == 12\n",
    "how_far(Input(1))"
   ]
  },
  {
   "cell_type": "code",
   "execution_count": null,
   "metadata": {
    "collapsed": true
   },
   "outputs": [],
   "source": [
    "\"\"\"Part 2. first place that is visited twice.\"\"\"\n",
    "\n",
    "Point = complex             \n",
    "N, S, E, W = 1j, -1j, 1, -1 # Unit vectors for headings\n",
    "\n",
    "def distance(point): \n",
    "    \"City block distance between point and the origin.\"\n",
    "    return abs(point.real) + abs(point.imag)\n",
    "\n",
    "def how_far(moves):\n",
    "    \"After following moves, how far away from the origin do we end up?\"\n",
    "    visited = set()\n",
    "    loc, heading = 0, N # Begin at origin, heading North\n",
    "    for (turn, dist) in parse(moves):\n",
    "        heading *= turn\n",
    "        for _ in range(dist):\n",
    "            loc += heading\n",
    "            if loc in visited:\n",
    "                return distance(loc)\n",
    "            else:\n",
    "                visited.add(loc)\n",
    "    return distance(loc)\n",
    "\n",
    "def parse(text):\n",
    "    \"Return a list of (turn, distance) pairs from text of form 'R2, L42, ...'\"\n",
    "    turns = dict(L=N, R=S)\n",
    "    return [(turns[RL], int(d))\n",
    "           for (RL, d) in re.findall(r'(R|L)(\\d+)', text)]\n",
    "\n",
    "how_far(Input(1))"
   ]
  },
  {
   "cell_type": "markdown",
   "metadata": {},
   "source": [
    "## Day 2"
   ]
  },
  {
   "cell_type": "code",
   "execution_count": null,
   "metadata": {
    "collapsed": true
   },
   "outputs": [],
   "source": [
    "Keypad = str.split\n",
    "\n",
    "keypad = Keypad(\"\"\"\n",
    ".....\n",
    ".123.\n",
    ".456.\n",
    ".789.\n",
    ".....\n",
    "\"\"\")\n",
    "\n",
    "assert keypad[2][2] == '5'\n",
    "\n",
    "off = '.'\n",
    "\n",
    "def decode(instructions, x=2, y=2):\n",
    "    \"\"\"Follow instructions, keeping track of x, y position, and\n",
    "    yielding the key at the end of each line of instructions.\"\"\"\n",
    "    for line in instructions:\n",
    "        for C in line:\n",
    "            x, y = move(C, x, y)\n",
    "        yield keypad[y][x]\n",
    "\n",
    "def move(C, x, y):\n",
    "    \"Make the move corresponding to this character (L/R/U/D)\"\n",
    "    if   C == 'L' and keypad[y][x-1] is not off: x -= 1\n",
    "    elif C == 'R' and keypad[y][x+1] is not off: x += 1\n",
    "    elif C == 'U' and keypad[y-1][x] is not off: y -= 1\n",
    "    elif C == 'D' and keypad[y+1][x] is not off: y += 1\n",
    "    return x, y\n",
    "\n",
    "assert move('U', 2, 2) == (2, 1)\n",
    "assert move('U', 2, 1) == (2, 1)\n",
    "assert cat(decode(\"ULL RRDDD LURDL UUUUD\".split())) == '1985'\n",
    "\n",
    "cat(decode(Input(2).strip().split('\\n')))"
   ]
  },
  {
   "cell_type": "code",
   "execution_count": null,
   "metadata": {
    "collapsed": true
   },
   "outputs": [],
   "source": [
    "keypad = Keypad(\"\"\"\n",
    ".......\n",
    "...1...\n",
    "..234..\n",
    ".56789.\n",
    "..ABC..\n",
    "...D...\n",
    ".......\n",
    "\"\"\")\n",
    "\n",
    "assert keypad[3][1] == '5'\n",
    "\n",
    "cat(decode(Input(2).strip().split('\\n'), x=1, y=3))"
   ]
  },
  {
   "cell_type": "markdown",
   "metadata": {},
   "source": [
    "## Day 3"
   ]
  },
  {
   "cell_type": "code",
   "execution_count": null,
   "metadata": {
    "collapsed": true
   },
   "outputs": [],
   "source": [
    "def is_triangle(sides):\n",
    "    a,b,c = sorted(sides)\n",
    "    return a+b>c and a+c>b and b+c>a\n",
    "\n",
    "def parse(text):\n",
    "    triangle_list = []\n",
    "    for line in text.split('\\n'):\n",
    "        sides = tuple(int(word) for word in re.findall(r'\\S+',line))\n",
    "        if sides:\n",
    "            triangle_list.append(sides)\n",
    "    return triangle_list\n",
    "\n",
    "triangles = parse(Input(3))\n",
    "print('part 1: ' + str(len([tri for tri in triangles if is_triangle(tri)])))\n",
    "from itertools import chain, zip_longest\n",
    "triangles2 = chain(*zip(*triangles))\n",
    "def grouper(iterable, n, fillvalue=None):\n",
    "    \"Collect data into fixed-length chunks or blocks\"\n",
    "    # grouper('ABCDEFG', 3, 'x') --> ABC DEF Gxx\n",
    "    args = [iter(iterable)] * n\n",
    "    return zip_longest(fillvalue=fillvalue, *args)\n",
    "triangles2 = grouper(triangles2,3)\n",
    "print('part 2: ' + str(len([tri for tri in triangles2 if is_triangle(tri)])))"
   ]
  },
  {
   "cell_type": "markdown",
   "metadata": {},
   "source": [
    "## Day 4 "
   ]
  },
  {
   "cell_type": "code",
   "execution_count": null,
   "metadata": {
    "collapsed": true
   },
   "outputs": [],
   "source": [
    "from collections import Counter\n",
    "rooms = Input(4).strip().split('\\n')\n",
    "pattern = re.compile(r'(?P<name>[-a-z]+)-(?P<sector>\\d+)\\[(?P<check>[a-z]+)\\]')\n",
    "\n",
    "def parse_room(room):\n",
    "    return pattern.match(room).groupdict()\n",
    "\n",
    "def check_room(room):\n",
    "    c = Counter(room['name'].replace('-',''))\n",
    "    check = cat(sorted(c, key=lambda x: (-c[x],x))[:5])\n",
    "    return check == room['check']\n",
    "    \n",
    "rooms = [parse_room(room) for room in rooms]\n",
    "rooms = [room for room in rooms if check_room(room)]\n",
    "sum(int(room['sector']) for room in rooms)"
   ]
  },
  {
   "cell_type": "code",
   "execution_count": null,
   "metadata": {
    "collapsed": true
   },
   "outputs": [],
   "source": [
    "def alpha_rot(n):\n",
    "    return cat(chr(ord('a')+(i+n)%26) for i in range(26))\n",
    "def decrypt_name(n):\n",
    "    t = str.maketrans(alpha_rot(0)+'-', alpha_rot(n)+' ')\n",
    "    return lambda s: s.translate(t)\n",
    "assert decrypt_name(343)('qzmt-zixmtkozy-ivhz') == 'very encrypted name'\n",
    "for room in rooms:\n",
    "    sector = int(room['sector'])\n",
    "    dec = decrypt_name(sector)\n",
    "    dec_name = dec(room['name'])\n",
    "    if 'pole' in dec_name:\n",
    "        print(room['sector'] + ' ' + dec_name)"
   ]
  },
  {
   "cell_type": "markdown",
   "metadata": {},
   "source": [
    "## Day 5"
   ]
  },
  {
   "cell_type": "code",
   "execution_count": null,
   "metadata": {
    "collapsed": true
   },
   "outputs": [],
   "source": [
    "door_id = 'abbhdwsy'\n",
    "import hashlib\n",
    "def door_md5(door_id, i):\n",
    "    m = hashlib.md5()\n",
    "    m.update(bytes(door_id + str(i),'utf-8'))\n",
    "    return m.hexdigest()\n",
    "\n",
    "assert door_md5('abc',3231929)[:6] == '000001'\n",
    "\n",
    "def gen_pwd(door_id):\n",
    "    pwd = ''\n",
    "    i = 0\n",
    "    while len(pwd) < 8:\n",
    "        h = door_md5(door_id, i)\n",
    "        if h.startswith('00000'):\n",
    "            pwd += h[5]\n",
    "        i+=1\n",
    "    return pwd\n",
    "\n",
    "#assert gen_pwd('abc') == '18f47a30'\n",
    "gen_pwd(door_id)"
   ]
  },
  {
   "cell_type": "code",
   "execution_count": null,
   "metadata": {
    "collapsed": true
   },
   "outputs": [],
   "source": [
    "def gen_pwd2(door_id):\n",
    "    pwd = '_'*8\n",
    "    i = 0\n",
    "    print(pwd)\n",
    "    while '_' in pwd:\n",
    "        h = door_md5(door_id, i)\n",
    "        pos = int(h[5],base=16)\n",
    "        if h.startswith('00000') and pos < 8 and pwd[pos] == '_':\n",
    "            pwd = pwd[:pos]+ h[6] + pwd[pos+1:]\n",
    "            print(pwd)\n",
    "        i+=1\n",
    "    return pwd\n",
    "gen_pwd2(door_id)"
   ]
  },
  {
   "cell_type": "markdown",
   "metadata": {},
   "source": [
    "## Day 6"
   ]
  },
  {
   "cell_type": "code",
   "execution_count": null,
   "metadata": {
    "collapsed": true
   },
   "outputs": [],
   "source": [
    "msgs = Input(6).split()\n",
    "cols = list(zip(*msgs))\n",
    "from collections import Counter\n",
    "message = cat(Counter(col).most_common(1)[0][0] for col in cols)\n",
    "print(message)\n",
    "message2 = cat(Counter(col).most_common()[-1][0] for col in cols)\n",
    "print(message2)"
   ]
  },
  {
   "cell_type": "markdown",
   "metadata": {},
   "source": [
    "## Day 7"
   ]
  },
  {
   "cell_type": "code",
   "execution_count": null,
   "metadata": {
    "collapsed": true
   },
   "outputs": [],
   "source": [
    "ips = Input(7).split()\n",
    "abba = re.compile(r'(\\w)(?!\\1)(\\w)\\2\\1')\n",
    "split = re.compile(r'(\\w+)+')\n",
    "\n",
    "def check_TLS(ip):\n",
    "    parts = split.findall(ip)\n",
    "    good_abba = False\n",
    "    bad_abba = False\n",
    "    for i, part in enumerate(parts):\n",
    "        if abba.search(part):\n",
    "            if i%2: #0-> outside of []. 1-> inside of []\n",
    "                bad_abba = True\n",
    "            else:\n",
    "                good_abba = True\n",
    "    return good_abba and not bad_abba\n",
    "\n",
    "assert check_TLS('abba[mnop]qrst') == True\n",
    "assert check_TLS('abcd[bddb]xyyx') == False\n",
    "assert check_TLS('aaaa[qwer]tyui') == False\n",
    "assert check_TLS('ioxxoj[asdfgh]zxcvbn') == True\n",
    "\n",
    "def check_SSL(ip):\n",
    "    pass\n",
    "\n",
    "assert check_SSL('aba[bab]xyz')\n",
    "assert check_SSL('xyx[xyx]xyx') == False\n",
    "assert check_SSL('aaa[kek]eke')\n",
    "assert check_SSL('zazbz[bzb]cdb')\n",
    "\n",
    "ips = [ip for ip in ips if check_TLS(ip)]\n",
    "len(ips)\n"
   ]
  },
  {
   "cell_type": "markdown",
   "metadata": {
    "collapsed": true
   },
   "source": [
    "## Day 8\n",
    "Format for instructions:\n",
    "```\n",
    "rect 2x1\n",
    "rotate row y=0 by 5\n",
    "rotate column x=0 by 1\n",
    "```"
   ]
  },
  {
   "cell_type": "code",
   "execution_count": null,
   "metadata": {
    "collapsed": true
   },
   "outputs": [],
   "source": [
    "instructions = Input(8).splitlines()\n",
    "rect = re.compile(r'rect (?P<width>\\d+)x(?P<height>\\d+)')\n",
    "rotr = re.compile(r'rotate row y=(?P<row>\\d+) by (?P<shift>\\d+)')\n",
    "rotc = re.compile(r'rotate column x=(?P<col>\\d+) by (?P<shift>\\d+)')\n",
    "\n",
    "def get_param(pattern, text):\n",
    "    match = pattern.findall(text)\n",
    "    if not match: return\n",
    "    return tuple(int(x) for x in match[0])\n",
    "\n",
    "FILLCHAR = '@'\n",
    "WIDTH, HEIGHT = 50,6\n",
    "disp = [[' ' for _ in range(WIDTH)] for _ in range(HEIGHT)]\n",
    "for line in instructions:\n",
    "    param = get_param(rect,line)\n",
    "    if param:\n",
    "        width, height = param\n",
    "        for i, j in product(range(width), range(height)):\n",
    "            disp[j][i] = FILLCHAR\n",
    "        continue\n",
    "    param = get_param(rotr, line)\n",
    "    if param:\n",
    "        row, shift = param\n",
    "        disp[row] = disp[row][-shift:] + disp[row][:-shift]\n",
    "        continue\n",
    "    param = get_param(rotc, line)\n",
    "    if param:\n",
    "        disp = list(zip(*disp))\n",
    "        row, shift = param\n",
    "        disp[row] = disp[row][-shift:] + disp[row][:-shift]\n",
    "        disp = list(list(row) for row in zip(*disp))\n",
    "        continue\n",
    "dispstr = '\\n'.join(cat(line) for line in disp)\n",
    "print('#Pixels lit: '+ str(dispstr.count(FILLCHAR)))\n",
    "print('Password:')\n",
    "print(dispstr)"
   ]
  },
  {
   "cell_type": "markdown",
   "metadata": {},
   "source": [
    "## Day 9"
   ]
  },
  {
   "cell_type": "code",
   "execution_count": null,
   "metadata": {
    "collapsed": true
   },
   "outputs": [],
   "source": [
    "ctext = Input(9).strip()\n",
    "mark = re.compile(r'\\((?P<len>\\d+)x(?P<rep>\\d+)\\)')\n",
    "def decompress(ctext):\n",
    "    dtext = ''\n",
    "    pos = 0\n",
    "    while pos < len(ctext):\n",
    "        m = mark.search(ctext, pos)\n",
    "        if not m:\n",
    "            dtext += ctext[pos:]\n",
    "            pos = len(ctext)\n",
    "            break\n",
    "        start = m.start()\n",
    "        end = m.end()\n",
    "        length, repeat = int(m.groupdict()['len']), int(m.groupdict()['rep'])\n",
    "        dtext += ctext[pos:start]\n",
    "        dtext += ctext[end:end+length] * repeat\n",
    "        pos = end+length\n",
    "    return dtext\n",
    "\n",
    "assert decompress('ADVENT') == 'ADVENT'\n",
    "assert decompress('A(1x5)BC') == 'ABBBBBC'\n",
    "assert decompress('(3x3)XYZ') == 'XYZXYZXYZ'\n",
    "assert decompress('A(2x2)BCD(2x2)EFG') == 'ABCBCDEFEFG'\n",
    "assert decompress('(6x1)(1x3)A') == '(1x3)A'\n",
    "assert decompress('X(8x2)(3x3)ABCY') == 'X(3x3)ABC(3x3)ABCY'\n",
    "\n",
    "\n",
    "dtext = decompress(ctext)\n",
    "print(dtext[:200] + ' ...')\n",
    "print('Total Length: ' + str(len(dtext)))"
   ]
  },
  {
   "cell_type": "code",
   "execution_count": null,
   "metadata": {
    "collapsed": true
   },
   "outputs": [],
   "source": [
    "def decompress2len(ctext):\n",
    "    dtext = 0 #is now length\n",
    "    pos = 0\n",
    "    while pos < len(ctext):\n",
    "        m = mark.search(ctext, pos)\n",
    "        if not m:\n",
    "            dtext += len(ctext) - pos\n",
    "            pos = len(ctext)\n",
    "            break\n",
    "        start = m.start()\n",
    "        end = m.end()\n",
    "        length, repeat = int(m.groupdict()['len']), int(m.groupdict()['rep'])\n",
    "        dtext += start-pos\n",
    "        dtext += decompress2len(ctext[end:end+length]) * repeat\n",
    "        pos = end+length\n",
    "    return dtext\n",
    "\n",
    "\n",
    "assert decompress2len('(27x12)(20x12)(13x14)(7x10)(1x12)A') == 241920\n",
    "assert decompress2len('(25x3)(3x3)ABC(2x3)XY(5x2)PQRSTX(18x9)(3x2)TWO(5x7)SEVEN') == 445\n",
    "\n",
    "dtext = decompress2len(ctext)\n",
    "print('Total Length: ' + str(dtext))"
   ]
  },
  {
   "cell_type": "markdown",
   "metadata": {},
   "source": [
    "## Day 10"
   ]
  },
  {
   "cell_type": "code",
   "execution_count": null,
   "metadata": {
    "collapsed": true
   },
   "outputs": [],
   "source": [
    "instr = Input(10).strip()\n",
    "TARGET = set((17,61))\n",
    "#print(log[:497] + '\\n...')\n",
    "pat_rec = re.compile(r'value (\\d+) goes to (\\w+ \\d+)')\n",
    "pat_giv = re.compile(r'(\\w+ \\d+) gives low to (\\w+ \\d+) and high to (\\w+ \\d+)')\n",
    "\n",
    "def give(stash, recipient, value, target=None):\n",
    "    stash[recipient].add(value)\n",
    "    if len(stash[recipient]) == 2:\n",
    "        s = stash[recipient]\n",
    "        if s == target: print('{} has {}'.format(recipient,s))\n",
    "        stash[recipient] = set()\n",
    "        give(stash, flow[recipient][0], min(s),target)\n",
    "        give(stash, flow[recipient][1], max(s),target)\n",
    "\n",
    "flow = {giver: (low, high) for giver, low, high in pat_giv.findall(instr)}\n",
    "stash = defaultdict(set)\n",
    "for val, dest in pat_rec.findall(instr):\n",
    "    give(stash, dest, int(val),TARGET)\n",
    "\n",
    "outputs = ['output '+str(i) for i in range(3)]\n",
    "print('{} = {}'.format(' * '.join(outputs), prod(stash[o].pop() for o in outputs)))"
   ]
  },
  {
   "cell_type": "markdown",
   "metadata": {},
   "source": [
    "## Day 11"
   ]
  },
  {
   "cell_type": "code",
   "execution_count": null,
   "metadata": {
    "collapsed": true
   },
   "outputs": [],
   "source": [
    "locs = Input(11).strip()\n",
    "#print(locs)\n",
    "loc_pat  = re.compile(r'The \\w+ floor contains (.*)[.]')\n",
    "none_pat = 'nothing relevant'\n",
    "gen_pat  = re.compile(r'(\\w+) generator')\n",
    "chip_pat = re.compile(r'(\\w+)-compatible microchip')\n",
    "\n",
    "floors = dict()\n",
    "elements = set()\n",
    "state = dict()\n",
    "for floor, content in enumerate(loc_pat.findall(locs)):\n",
    "    floors[floor] = {'G':set(), 'M':set()}\n",
    "    if content == none_pat:\n",
    "        continue\n",
    "    for element in gen_pat.findall(content):\n",
    "        floors[floor]['G'].add(element)\n",
    "        elements.add(element)\n",
    "    for element in chip_pat.findall(content):\n",
    "        floors[floor]['M'].add(element)\n",
    "        elements.add(element)\n",
    "legal_floors = set(floors.keys())\n",
    "elements = {chr(ord('A')+i) : el for i,el in enumerate(sorted(elements))}\n",
    "for floor in floors:\n",
    "    state[floor] = fs(*([el+'G' for el,ell in elements.items() if ell in floors[floor]['G']]+\n",
    "                        [el+'M' for el,ell in elements.items() if ell in floors[floor]['M']]))\n",
    "    \n",
    "\n",
    "state     "
   ]
  },
  {
   "cell_type": "code",
   "execution_count": null,
   "metadata": {
    "collapsed": true
   },
   "outputs": [],
   "source": [
    "def _el_info(floor,el): return '{} {}'.format(' M'[el in floor['M']], ' G'[el in floor['G']]) #helper    \n",
    "def diagram(floors, elements, elevator=0):\n",
    "    'will format and display a state'\n",
    "    elements = sorted(elements)\n",
    "    fstr = '{: <2} | {: <1} | '+' | '.join('{: ^'+str(max(len(e),4))+'}' for e in elements)\n",
    "    header = fstr.format('F','E',*elements)\n",
    "    print(header + '\\n' + '-'*len(header))\n",
    "    for floor in reversed(sorted(floors.keys())):\n",
    "        el_info = [_el_info(floors[floor],el) for el in elements]\n",
    "        print(fstr.format(floor, ' E'[floor==elevator], *el_info))\n",
    "\n",
    "diagram(floors, elements.values(), 0)    "
   ]
  },
  {
   "cell_type": "markdown",
   "metadata": {},
   "source": [
    "## Day 12"
   ]
  },
  {
   "cell_type": "code",
   "execution_count": 76,
   "metadata": {
    "collapsed": false
   },
   "outputs": [
    {
     "name": "stdout",
     "output_type": "stream",
     "text": [
      "Part 1 - Value of Register a: 318007\n"
     ]
    }
   ],
   "source": [
    "inst = Input(12).strip().splitlines()\n",
    "#print('\\n'.join('{: >4}: {}'.format(i, instr) for i,instr in enumerate(inst)))\n",
    "#print('#'*10)\n",
    "reg = {chr(ord('a')+i): 0 for i in range(4)}\n",
    "def cpy(pos,x,y):\n",
    "    if x in reg:\n",
    "        reg[y] = reg[x]\n",
    "    else:\n",
    "        reg[y] = int(x)\n",
    "    return pos+1\n",
    "def inc(pos,r):\n",
    "    reg[r] += 1\n",
    "    return pos+1\n",
    "def dec(pos,r):\n",
    "    reg[r] -= 1\n",
    "    return pos+1\n",
    "def jnz(pos,x,y):\n",
    "    if x in reg and reg[x] != 0:\n",
    "        return pos + int(y)\n",
    "    elif x not in reg and x != 0:\n",
    "        return pos + int(y )\n",
    "    else:\n",
    "        return pos+1\n",
    "cpy_pat = re.compile(r'cpy (\\w+) (\\w+)')\n",
    "inc_pat = re.compile(r'inc (\\w+)')\n",
    "dec_pat = re.compile(r'dec (\\w+)')\n",
    "jnz_pat = re.compile(r'jnz (\\w+) ([-+]?\\w+)')\n",
    "pos = 0\n",
    "patterns = (cpy_pat, inc_pat, dec_pat, jnz_pat)\n",
    "funs = (cpy, inc, dec, jnz)\n",
    "while pos < len(inst):\n",
    "    cmd = inst[pos]\n",
    "    m = first(filter(lambda x: x[1] ,enumerate(pat.findall(cmd) for pat in patterns)))\n",
    "    pos = funs[m[0]](pos,*m[1][0])\n",
    "print('Part 1 - Value of Register a: '+str(reg['a']))    "
   ]
  },
  {
   "cell_type": "code",
   "execution_count": 28,
   "metadata": {
    "collapsed": false
   },
   "outputs": [
    {
     "name": "stdout",
     "output_type": "stream",
     "text": [
      "Part 2 - Value of Register a: 9227661\n"
     ]
    }
   ],
   "source": [
    "reg = {chr(ord('a')+i): 0 for i in range(4)}\n",
    "reg['c'] = 1\n",
    "pos=0\n",
    "while pos < len(inst):\n",
    "    cmd = inst[pos]\n",
    "    m = first(filter(lambda x: x[1] ,enumerate(pat.findall(cmd) for pat in patterns)))\n",
    "    pos = funs[m[0]](pos,*m[1][0])\n",
    "print('Part 2 - Value of Register a: '+str(reg['a']))    "
   ]
  },
  {
   "cell_type": "markdown",
   "metadata": {},
   "source": [
    "## Day 13"
   ]
  },
  {
   "cell_type": "code",
   "execution_count": 97,
   "metadata": {
    "collapsed": false
   },
   "outputs": [
    {
     "name": "stdout",
     "output_type": "stream",
     "text": [
      "Partial Maze:\n",
      "██████████████████████████████████\n",
      "████ ███   █ █  █ ██    █   ██ █  \n",
      "█PS███ █   █  █    ██ █   █    █  \n",
      "█P█  █ ██ ███████ █ █ ████ ██ ███ \n",
      "█PP█ █ ██ █    ██   █  █ ████ ████\n",
      "██PP██ ██ █  █   ███ █     █     █\n",
      "█ █P██  ████████ █ █████   █  ██ █\n",
      "█  PPPPPPPPP ███     █████ █████  \n",
      "███ ██ ████P  █ ██    █  █ █  █ ██\n",
      "█ █  █ ██ █P█ ██████  █ ██  █ ████\n",
      "████      █PP█  █  ████ ███  █  █ \n",
      "█████  ███ █P██ █ █   █  █ █ ██ ██\n",
      "█ ██████ ███P ███  ██ █  ███  ██ █\n",
      "█  ██  █ PPPP  ███ █  ███      █ █\n",
      "█      ██P██ █     █    █ ██ █ ███\n",
      "█████ █ █P██   ███ ██   ██ █  █  █\n",
      "█  ██  ██P█ ███  █ ███ █ ██ █  █  \n",
      "██ ███ █PP█   █ ██   █  █ █  █    \n",
      "██  █  █P██████ █████ █  ███  ██ █\n",
      "█   ██ █P██  █   ██ █ ██ ████  █ █\n",
      "██   █  PPPP █      █     █ ███   \n",
      "███ ███████P████████ ██ █ ███ ██  \n",
      "███ █   ███P██PPP█ ██ █  █     ██ \n",
      "███ █     █PPPP█PP█ ██ █ ████ █ █ \n",
      "█  ███ ██ █ ███ █P██ ███   ██  ██ \n",
      "██  ██ █  ██  ██ P █     █  ██ █  \n",
      "███    █   ███ █ P ██ █████ █  █  \n",
      "██ ██ ███ █  █ ██P█ ███  █  ██ ███\n",
      "█████  ██  █ █ ██PP█PPPPP█   █ █  \n",
      "█  █ █   █  ██  ██PPP███P██ ██  █ \n",
      "█  ██ ██  █ ███ █ ████ █P██ ███ █ \n",
      "██  ███████  █  █     ██PPPP █  ██\n",
      "████  █      █  ███ █ █ ███PP█    \n",
      "█  ██ █  ████████ ███ ███ ██P██  █\n",
      "██   ████    █       █   █ █P█████\n",
      "█  █    █  █ █ ██  █ ███  ██P██   \n",
      "████████████ █ █████    █ █ PPPP█ \n",
      "█  ██  █    ██  █    ██ █ █  ██P█ \n",
      "█    █ ██ █ █ █ █ ███ █  ██████P█ \n",
      "██ █  █ █ █ ██  ██  ██ █     █PP██\n",
      "███ █   █ ██ █   █ █ ██████  █P█D \n",
      "█ █  ███   █ ██ ██ ██  ██ █  █PPP \n",
      "████ █ █ █ ████ ██  █     ██  ██  \n",
      "\n",
      "█: wall, S: start, D: destination, P: path\n",
      "Minimum number of steps: 86\n"
     ]
    }
   ],
   "source": [
    "NUM = int(Input(13).strip())\n",
    "DEST = 31,39\n",
    "START = 1,1\n",
    "def is_wall(point):\n",
    "    x,y = point\n",
    "    if x < 0 or y < 0: return True \n",
    "    return bin(x*x + 3*x + 2*x*y + y + y*y+NUM).count('1') % 2 != 0 \n",
    "\n",
    "def moves_func(point):\n",
    "    return [np for np in neighbors4(point) if not is_wall(np)]\n",
    "def h_func(point):\n",
    "    return cityblock_distance(point,DEST)\n",
    "\n",
    "path = astar_search(START,h_func,moves_func)\n",
    "xmax, ymax = list(map(max,zip(*path)))\n",
    "maze = [[' █'[is_wall((x,y))] for x in range(-1,xmax+2)] for y in range(-1,ymax+2)]\n",
    "for x,y in path:\n",
    "    maze[y+1][x+1] = 'P'  # +1 since we draw the maze starting at \"-1\"\n",
    "maze[START[1]+1][START[0]+1] = 'S'\n",
    "maze[DEST[1]+1][DEST[0]+1] = 'D'\n",
    "print('Partial Maze:\\n' + '\\n'.join(cat(line) for line in maze) + '\\n\\n█: wall, S: start, D: destination, P: path')\n",
    "print('Minimum number of steps: '+str(len(path)-1)) # -1 because the start is included in path"
   ]
  },
  {
   "cell_type": "code",
   "execution_count": 94,
   "metadata": {
    "collapsed": false
   },
   "outputs": [
    {
     "name": "stdout",
     "output_type": "stream",
     "text": [
      "Number of reachable positions in 50 steps: 127\n"
     ]
    }
   ],
   "source": [
    "print('Number of reachable positions in 50 steps: ' + str(len(bfs(START, moves_func, max_step=50)['cost'])))"
   ]
  },
  {
   "cell_type": "markdown",
   "metadata": {},
   "source": [
    "## Day 14"
   ]
  },
  {
   "cell_type": "code",
   "execution_count": 116,
   "metadata": {
    "collapsed": false
   },
   "outputs": [
    {
     "name": "stdout",
     "output_type": "stream",
     "text": [
      "Part 1: found 64th hash at index 15035 : 3100d6c71100016ac85a3c243c87e3bb\n"
     ]
    }
   ],
   "source": [
    "salt = Input(14).strip()\n",
    "import hashlib\n",
    "@lru_cache(maxsize=1000000)\n",
    "def gen_hash(salt, i):\n",
    "    m = hashlib.md5()\n",
    "    m.update(bytes(salt + str(i),'utf-8'))\n",
    "    return m.hexdigest()\n",
    "pat3 = re.compile(r'(\\w)\\1\\1')\n",
    "pat5 = lambda s: re.compile(s+r'{5}')\n",
    "hashes = []\n",
    "i = 0\n",
    "while len(hashes) < 64:\n",
    "    current = gen_hash(salt,i)\n",
    "    triples = pat3.findall(current)\n",
    "    if triples:\n",
    "        p5 = pat5(first(triples))\n",
    "        for j in range(1,1001):\n",
    "            if p5.findall(gen_hash(salt,i+j)):\n",
    "                hashes.append(current)\n",
    "                break\n",
    "    i+=1\n",
    "print('Part 1: found 64th hash at index '+str(i-1)+' : '+hashes[-1])"
   ]
  },
  {
   "cell_type": "code",
   "execution_count": 118,
   "metadata": {
    "collapsed": false
   },
   "outputs": [
    {
     "name": "stdout",
     "output_type": "stream",
     "text": [
      "Part 2: found 64th hash at index 19968 : 0f3cec9efe3b6c6f38f514f4fa87eee6\n"
     ]
    }
   ],
   "source": [
    "@lru_cache(maxsize=1000000)\n",
    "def gen_stretched_hash(salt, i):\n",
    "    m = hashlib.md5()\n",
    "    m.update(bytes(salt + str(i),'utf-8'))\n",
    "    nh = m.hexdigest()\n",
    "    for i in range(2016):\n",
    "        m = hashlib.md5()\n",
    "        m.update(bytes(nh,'utf-8'))\n",
    "        nh = m.hexdigest()\n",
    "    return nh\n",
    "pat3 = re.compile(r'(\\w)\\1\\1')\n",
    "pat5 = lambda s: re.compile(s+r'{5}')\n",
    "hashes = []\n",
    "i = 0\n",
    "while len(hashes) < 64:\n",
    "    current = gen_stretched_hash(salt,i)\n",
    "    triples = pat3.findall(current)\n",
    "    if triples:\n",
    "        p5 = pat5(first(triples))\n",
    "        for j in range(1,1001):\n",
    "            if p5.findall(gen_stretched_hash(salt,i+j)):\n",
    "                hashes.append(current)\n",
    "                break\n",
    "    i+=1\n",
    "print('Part 2: found 64th hash at index '+str(i-1)+' : '+hashes[-1])"
   ]
  },
  {
   "cell_type": "markdown",
   "metadata": {},
   "source": [
    "## Day 15"
   ]
  },
  {
   "cell_type": "code",
   "execution_count": 135,
   "metadata": {
    "collapsed": false
   },
   "outputs": [
    {
     "name": "stdout",
     "output_type": "stream",
     "text": [
      "Part 1: aligned state after 16824 s\n"
     ]
    }
   ],
   "source": [
    "inst = Input(15).strip()\n",
    "disc = namedtuple('disc', 'id numpos time curpos')\n",
    "state = [disc(*map(int,re.compile(r'\\d+').findall(line))) for line in inst.split('\\n')]\n",
    "def gen_pos(i,state):\n",
    "    return [(d.curpos + d.id + i) % d.numpos for d in state]\n",
    "i=0\n",
    "while any(gen_pos(i,state)):\n",
    "    i+=1\n",
    "print('Part 1: aligned state after '+str(i)+' s')"
   ]
  },
  {
   "cell_type": "code",
   "execution_count": 136,
   "metadata": {
    "collapsed": false
   },
   "outputs": [
    {
     "name": "stdout",
     "output_type": "stream",
     "text": [
      "Part 2: aligned state after 3543984 s\n"
     ]
    }
   ],
   "source": [
    "state.append(disc(7,11,0,0))\n",
    "i=0\n",
    "while any(gen_pos(i,state)):\n",
    "    i+=1\n",
    "print('Part 2: aligned state after '+str(i)+' s')"
   ]
  },
  {
   "cell_type": "markdown",
   "metadata": {},
   "source": [
    "## Day 16"
   ]
  },
  {
   "cell_type": "code",
   "execution_count": 241,
   "metadata": {
    "collapsed": true
   },
   "outputs": [],
   "source": [
    "state = Input(16).strip()\n",
    "DISK_SIZE = 272\n",
    "\n",
    "def dragon(a):\n",
    "    return a + '0' + cat(reversed(a)).replace('0','x').replace('1','0').replace('x','1')\n",
    "\n",
    "def checksum(a):\n",
    "    s = ''\n",
    "    while a:\n",
    "        p1, p2, *a = a\n",
    "        if p1 == p2: s += '1'\n",
    "        else: s+='0'\n",
    "    return s\n",
    "def checksum2(a):\n",
    "    a1 = int(a[0::2],2)\n",
    "    a2 = int(a[1::2].replace('0','x').replace('1','0').replace('x','1'),2)\n",
    "    #print(bin(a2))\n",
    "    #a2 ^=  2**(a2.bit_length()+1)-1\n",
    "    #a2 = ~a2\n",
    "    #print(bin(a2))\n",
    "    return bin(a1^a2)[2:]\n",
    "\n",
    "def gen_checksum(initial_state, disk_size):\n",
    "    state = initial_state\n",
    "    while len(state) < disk_size:\n",
    "        state = dragon(state)\n",
    "    state = state[:disk_size]\n",
    "    print(state[:500])\n",
    "    s = checksum(state)\n",
    "    while len(s) % 2 == 0:\n",
    "        s = checksum(s)\n",
    "    return s"
   ]
  },
  {
   "cell_type": "code",
   "execution_count": 242,
   "metadata": {
    "collapsed": false
   },
   "outputs": [
    {
     "name": "stdout",
     "output_type": "stream",
     "text": [
      "10001110011110000011110000110001110010001110011110000111110000110001110010001110011110000011110000110001110110001110011110000111110000110001110010001110011110000011110000110001110010001110011110000111110000110001110110001110011110000011110000110001110110001110011110000111\n",
      "Part 1: checksum is 10010101010011101\n",
      "10001110011110000011110000110001110010001110011110000111110000110001110010001110011110000011110000110001110110001110011110000111110000110001110010001110011110000011110000110001110010001110011110000111110000110001110110001110011110000011110000110001110110001110011110000111110000110001110010001110011110000011110000110001110010001110011110000111110000110001110010001110011110000011110000110001110110001110011110000111110000110001110110001110011110000011110000110001110010001110011110000111110000110001\n"
     ]
    },
    {
     "ename": "KeyboardInterrupt",
     "evalue": "",
     "output_type": "error",
     "traceback": [
      "\u001b[0;31m---------------------------------------------------------------------------\u001b[0m",
      "\u001b[0;31mKeyboardInterrupt\u001b[0m                         Traceback (most recent call last)",
      "\u001b[0;32m<ipython-input-242-ef4d8b59c64c>\u001b[0m in \u001b[0;36m<module>\u001b[0;34m()\u001b[0m\n\u001b[1;32m      1\u001b[0m \u001b[0mprint\u001b[0m\u001b[0;34m(\u001b[0m\u001b[0;34m'Part 1: checksum is '\u001b[0m\u001b[0;34m+\u001b[0m\u001b[0mstr\u001b[0m\u001b[0;34m(\u001b[0m\u001b[0mgen_checksum\u001b[0m\u001b[0;34m(\u001b[0m\u001b[0mstate\u001b[0m\u001b[0;34m,\u001b[0m \u001b[0mDISK_SIZE\u001b[0m\u001b[0;34m)\u001b[0m\u001b[0;34m)\u001b[0m\u001b[0;34m)\u001b[0m\u001b[0;34m\u001b[0m\u001b[0m\n\u001b[0;32m----> 2\u001b[0;31m \u001b[0mprint\u001b[0m\u001b[0;34m(\u001b[0m\u001b[0;34m'Part 2: checksum is '\u001b[0m\u001b[0;34m+\u001b[0m\u001b[0mstr\u001b[0m\u001b[0;34m(\u001b[0m\u001b[0mgen_checksum\u001b[0m\u001b[0;34m(\u001b[0m\u001b[0mstate\u001b[0m\u001b[0;34m,\u001b[0m \u001b[0;36m35651584\u001b[0m\u001b[0;34m)\u001b[0m\u001b[0;34m)\u001b[0m\u001b[0;34m)\u001b[0m\u001b[0;34m\u001b[0m\u001b[0m\n\u001b[0m",
      "\u001b[0;32m<ipython-input-241-f3ef9bf7df11>\u001b[0m in \u001b[0;36mgen_checksum\u001b[0;34m(initial_state, disk_size)\u001b[0m\n\u001b[1;32m     27\u001b[0m     \u001b[0mstate\u001b[0m \u001b[0;34m=\u001b[0m \u001b[0mstate\u001b[0m\u001b[0;34m[\u001b[0m\u001b[0;34m:\u001b[0m\u001b[0mdisk_size\u001b[0m\u001b[0;34m]\u001b[0m\u001b[0;34m\u001b[0m\u001b[0m\n\u001b[1;32m     28\u001b[0m     \u001b[0mprint\u001b[0m\u001b[0;34m(\u001b[0m\u001b[0mstate\u001b[0m\u001b[0;34m[\u001b[0m\u001b[0;34m:\u001b[0m\u001b[0;36m500\u001b[0m\u001b[0;34m]\u001b[0m\u001b[0;34m)\u001b[0m\u001b[0;34m\u001b[0m\u001b[0m\n\u001b[0;32m---> 29\u001b[0;31m     \u001b[0ms\u001b[0m \u001b[0;34m=\u001b[0m \u001b[0mchecksum\u001b[0m\u001b[0;34m(\u001b[0m\u001b[0mstate\u001b[0m\u001b[0;34m)\u001b[0m\u001b[0;34m\u001b[0m\u001b[0m\n\u001b[0m\u001b[1;32m     30\u001b[0m     \u001b[0;32mwhile\u001b[0m \u001b[0mlen\u001b[0m\u001b[0;34m(\u001b[0m\u001b[0ms\u001b[0m\u001b[0;34m)\u001b[0m \u001b[0;34m%\u001b[0m \u001b[0;36m2\u001b[0m \u001b[0;34m==\u001b[0m \u001b[0;36m0\u001b[0m\u001b[0;34m:\u001b[0m\u001b[0;34m\u001b[0m\u001b[0m\n\u001b[1;32m     31\u001b[0m         \u001b[0ms\u001b[0m \u001b[0;34m=\u001b[0m \u001b[0mchecksum\u001b[0m\u001b[0;34m(\u001b[0m\u001b[0ms\u001b[0m\u001b[0;34m)\u001b[0m\u001b[0;34m\u001b[0m\u001b[0m\n",
      "\u001b[0;32m<ipython-input-241-f3ef9bf7df11>\u001b[0m in \u001b[0;36mchecksum\u001b[0;34m(a)\u001b[0m\n\u001b[1;32m      8\u001b[0m     \u001b[0ms\u001b[0m \u001b[0;34m=\u001b[0m \u001b[0;34m''\u001b[0m\u001b[0;34m\u001b[0m\u001b[0m\n\u001b[1;32m      9\u001b[0m     \u001b[0;32mwhile\u001b[0m \u001b[0ma\u001b[0m\u001b[0;34m:\u001b[0m\u001b[0;34m\u001b[0m\u001b[0m\n\u001b[0;32m---> 10\u001b[0;31m         \u001b[0mp1\u001b[0m\u001b[0;34m,\u001b[0m \u001b[0mp2\u001b[0m\u001b[0;34m,\u001b[0m \u001b[0;34m*\u001b[0m\u001b[0ma\u001b[0m \u001b[0;34m=\u001b[0m \u001b[0ma\u001b[0m\u001b[0;34m\u001b[0m\u001b[0m\n\u001b[0m\u001b[1;32m     11\u001b[0m         \u001b[0;32mif\u001b[0m \u001b[0mp1\u001b[0m \u001b[0;34m==\u001b[0m \u001b[0mp2\u001b[0m\u001b[0;34m:\u001b[0m \u001b[0ms\u001b[0m \u001b[0;34m+=\u001b[0m \u001b[0;34m'1'\u001b[0m\u001b[0;34m\u001b[0m\u001b[0m\n\u001b[1;32m     12\u001b[0m         \u001b[0;32melse\u001b[0m\u001b[0;34m:\u001b[0m \u001b[0ms\u001b[0m\u001b[0;34m+=\u001b[0m\u001b[0;34m'0'\u001b[0m\u001b[0;34m\u001b[0m\u001b[0m\n",
      "\u001b[0;31mKeyboardInterrupt\u001b[0m: "
     ]
    }
   ],
   "source": [
    "print('Part 1: checksum is '+str(gen_checksum(state, DISK_SIZE)))\n",
    "print('Part 2: checksum is '+str(gen_checksum(state, 35651584)))"
   ]
  },
  {
   "cell_type": "code",
   "execution_count": 240,
   "metadata": {
    "collapsed": false
   },
   "outputs": [
    {
     "name": "stdout",
     "output_type": "stream",
     "text": [
      "272\n",
      "0110010111111110110110010101111110110110010111111110100110010101111110110110010111111110110110010101111110100110010111111110100110010101\n",
      "110010111111110110110010101111110110110010111111110100110010101111110110110010111111110110110010101111110100110010111111110100110010101\n"
     ]
    }
   ],
   "source": [
    "while len(state) < DISK_SIZE:\n",
    "    state = dragon(state)\n",
    "state = state[:DISK_SIZE]\n",
    "print(len(state))\n",
    "print(checksum(state))\n",
    "print(checksum2(state))"
   ]
  },
  {
   "cell_type": "code",
   "execution_count": null,
   "metadata": {
    "collapsed": true
   },
   "outputs": [],
   "source": []
  },
  {
   "cell_type": "code",
   "execution_count": null,
   "metadata": {
    "collapsed": true
   },
   "outputs": [],
   "source": []
  },
  {
   "cell_type": "markdown",
   "metadata": {},
   "source": [
    "## Day  18"
   ]
  },
  {
   "cell_type": "code",
   "execution_count": 16,
   "metadata": {
    "collapsed": false
   },
   "outputs": [
    {
     "name": "stdout",
     "output_type": "stream",
     "text": [
      "The generated field of traps looks like this:\n",
      "\n",
      "^..^^.^^^..^^.^...^^^^^....^.^..^^^.^.^.^^...^.^.^.^.^^.....^.^^.^.^.^.^.^.^^..^^^^^...^.....^....^.\n",
      ".^^^^.^.^^^^^..^.^^...^^..^...^^^.^.....^^^.^........^^^...^..^^...........^^^^^...^^.^.^...^.^..^.^\n",
      "^^..^...^...^^^..^^^.^^^^^.^.^^.^..^...^^.^..^......^^.^^.^.^^^^^.........^^...^^.^^^....^.^...^^...\n",
      "^^^^.^.^.^.^^.^^^^.^.^...^...^^..^^.^.^^^..^^.^....^^^.^^...^...^^.......^^^^.^^^.^.^^..^...^.^^^^..\n",
      "^..^.......^^.^..^....^.^.^.^^^^^^^...^.^^^^^..^..^^.^.^^^.^.^.^^^^.....^^..^.^.^...^^^^.^.^..^..^^.\n",
      ".^^.^.....^^^..^^.^..^......^.....^^.^..^...^^^.^^^^...^.^.....^..^^...^^^^^.....^.^^..^....^^.^^^^^\n",
      "^^^..^...^^.^^^^^..^^.^....^.^...^^^..^^.^.^^.^.^..^^.^...^...^.^^^^^.^^...^^...^..^^^^.^..^^^.^...^\n",
      "^.^^^.^.^^^.^...^^^^^..^..^...^.^^.^^^^^...^^....^^^^..^.^.^.^..^...^.^^^.^^^^.^.^^^..^..^^^.^..^.^.\n",
      "..^.^...^.^..^.^^...^^^.^^.^.^..^^.^...^^.^^^^..^^..^^^.......^^.^.^..^.^.^..^...^.^^^.^^^.^..^^...^\n",
      ".^...^.^...^^..^^^.^^.^.^^....^^^^..^.^^^.^..^^^^^^^^.^^.....^^^....^^.....^^.^.^..^.^.^.^..^^^^^.^.\n",
      "^.^.^...^.^^^^^^.^.^^...^^^..^^..^^^..^.^..^^^......^.^^^...^^.^^..^^^^...^^^....^^.......^^^...^..^\n",
      ".....^.^..^....^...^^^.^^.^^^^^^^^.^^^...^^^.^^....^..^.^^.^^^.^^^^^..^^.^^.^^..^^^^.....^^.^^.^.^^.\n",
      "....^...^^.^..^.^.^^.^.^^.^......^.^.^^.^^.^.^^^..^.^^..^^.^.^.^...^^^^^.^^.^^^^^..^^...^^^.^^...^^^\n",
      "...^.^.^^^..^^....^^...^^..^....^....^^.^^...^.^^^..^^^^^^......^.^^...^.^^.^...^^^^^^.^^.^.^^^.^^.^\n",
      "..^....^.^^^^^^..^^^^.^^^^^.^..^.^..^^^.^^^.^..^.^^^^....^^....^..^^^.^..^^..^.^^....^.^^...^.^.^^..\n",
      ".^.^..^..^....^^^^..^.^...^..^^...^^^.^.^.^..^^..^..^^..^^^^..^.^^^.^..^^^^^^..^^^..^..^^^.^....^^^.\n",
      "^...^^.^^.^..^^..^^^...^.^.^^^^^.^^.^......^^^^^^.^^^^^^^..^^^..^.^..^^^....^^^^.^^^.^^^.^..^..^^.^^\n",
      ".^.^^^.^^..^^^^^^^.^^.^....^...^.^^..^....^^....^.^.....^^^^.^^^...^^^.^^..^^..^.^.^.^.^..^^.^^^^.^^\n",
      "^..^.^.^^^^^.....^.^^..^..^.^.^..^^^^.^..^^^^..^...^...^^..^.^.^^.^^.^.^^^^^^^^.........^^^^.^..^.^^\n",
      ".^^....^...^^...^..^^^^.^^.....^^^..^..^^^..^^^.^.^.^.^^^^^....^^.^^...^......^^.......^^..^..^^..^^\n",
      "^^^^..^.^.^^^^.^.^^^..^.^^^...^^.^^^.^^^.^^^^.^.......^...^^..^^^.^^^.^.^....^^^^.....^^^^^.^^^^^^^^\n",
      "^..^^^....^..^...^.^^^..^.^^.^^^.^.^.^.^.^..^..^.....^.^.^^^^^^.^.^.^....^..^^..^^...^^...^.^......^\n",
      ".^^^.^^..^.^^.^.^..^.^^^..^^.^.^..........^^.^^.^...^....^....^......^..^.^^^^^^^^^.^^^^.^...^....^.\n",
      "^^.^.^^^^..^^....^^..^.^^^^^....^........^^^.^^..^.^.^..^.^..^.^....^.^^..^.......^.^..^..^.^.^..^.^\n",
      "^^...^..^^^^^^..^^^^^..^...^^..^.^......^^.^.^^^^.....^^...^^...^..^..^^^^.^.....^...^^.^^.....^^...\n",
      "^^^.^.^^^....^^^^...^^^.^.^^^^^...^....^^^...^..^^...^^^^.^^^^.^.^^.^^^..^..^...^.^.^^^.^^^...^^^^..\n",
      "^.^...^.^^..^^..^^.^^.^...^...^^.^.^..^^.^^.^.^^^^^.^^..^.^..^...^^.^.^^^.^^.^.^....^.^.^.^^.^^..^^.\n",
      "...^.^..^^^^^^^^^^.^^..^.^.^.^^^....^^^^.^^...^...^.^^^^...^^.^.^^^...^.^.^^....^..^......^^.^^^^^^^\n",
      "..^...^^^........^.^^^^......^.^^..^^..^.^^^.^.^.^..^..^^.^^^...^.^^.^....^^^..^.^^.^....^^^.^.....^\n",
      ".^.^.^^.^^......^..^..^^....^..^^^^^^^^..^.^......^^.^^^^.^.^^.^..^^..^..^^.^^^..^^..^..^^.^..^...^.\n",
      "^....^^.^^^....^.^^.^^^^^..^.^^^......^^^...^....^^^.^..^...^^..^^^^^^.^^^^.^.^^^^^^^.^^^^..^^.^.^.^\n",
      ".^..^^^.^.^^..^..^^.^...^^^..^.^^....^^.^^.^.^..^^.^..^^.^.^^^^^^....^.^..^...^.....^.^..^^^^^......\n",
      "^.^^^.^...^^^^.^^^^..^.^^.^^^..^^^..^^^.^^....^^^^..^^^^...^....^^..^...^^.^.^.^...^...^^^...^^.....\n",
      "..^.^..^.^^..^.^..^^^..^^.^.^^^^.^^^^.^.^^^..^^..^^^^..^^.^.^..^^^^^.^.^^^......^.^.^.^^.^^.^^^^....\n",
      ".^...^^..^^^^...^^^.^^^^^...^..^.^..^...^.^^^^^^^^..^^^^^....^^^...^...^.^^....^......^^.^^.^..^^...\n",
      "^.^.^^^^^^..^^.^^.^.^...^^.^.^^...^^.^.^..^......^^^^...^^..^^.^^.^.^.^..^^^..^.^....^^^.^^..^^^^^..\n",
      "....^....^^^^^.^^....^.^^^...^^^.^^^....^^.^....^^..^^.^^^^^^^.^^......^^^.^^^...^..^^.^.^^^^^...^^.\n",
      "...^.^..^^...^.^^^..^..^.^^.^^.^.^.^^..^^^..^..^^^^^^^.^.....^.^^^....^^.^.^.^^.^.^^^^...^...^^.^^^^\n",
      "..^...^^^^^.^..^.^^^.^^..^^.^^.....^^^^^.^^^.^^^.....^..^...^..^.^^..^^^.....^^...^..^^.^.^.^^^.^..^\n",
      ".^.^.^^...^..^^..^.^.^^^^^^.^^^...^^...^.^.^.^.^^...^.^^.^.^.^^..^^^^^.^^...^^^^.^.^^^^.....^.^..^^.\n",
      "Day 18 part 1: there are 2016 safe tiles\n"
     ]
    }
   ],
   "source": [
    "traps = Input(18).strip()\n",
    "trap_parents = set(['^^.','.^^','^..','..^'])\n",
    "\n",
    "def gen_room(initial_row, num_rows):\n",
    "    rows = [initial_row]\n",
    "    for i in range(num_rows-1):\n",
    "        pr = '.' + rows[i] + '.' # prev row\n",
    "        row = ''\n",
    "        for triple in zip(pr[:-2],pr[1:-1],pr[2:]):\n",
    "            row += '.^'[cat(triple) in trap_parents]\n",
    "        rows.append(row)\n",
    "    return rows\n",
    "\n",
    "rows = gen_room(traps, 40)\n",
    "print('The generated field of traps looks like this:\\n\\n' + '\\n'.join(rows))\n",
    "print('Day 18 part 1: there are {} safe tiles'.format(cat(rows).count('.')))"
   ]
  },
  {
   "cell_type": "code",
   "execution_count": 17,
   "metadata": {
    "collapsed": false
   },
   "outputs": [
    {
     "name": "stdout",
     "output_type": "stream",
     "text": [
      "Wall time: 13.7 s\n",
      "Day 18 part 2: there are 19998750 safe tiles\n"
     ]
    }
   ],
   "source": [
    "%time rows = gen_room(traps, 400000)\n",
    "print('Day 18 part 2: there are {} safe tiles'.format(cat(rows).count('.')))"
   ]
  },
  {
   "cell_type": "markdown",
   "metadata": {},
   "source": [
    "## Day 20"
   ]
  },
  {
   "cell_type": "code",
   "execution_count": 13,
   "metadata": {
    "collapsed": false
   },
   "outputs": [
    {
     "name": "stdout",
     "output_type": "stream",
     "text": [
      "Day 20 part 1: lowest allowed IP is 22887907\n"
     ]
    }
   ],
   "source": [
    "ranges = Input(20).strip()\n",
    "ranges = sorted([list(map(int,r.split('-'))) for r in ranges.splitlines()])\n",
    "low = 0\n",
    "for lo, hi in ranges:\n",
    "    if lo <= low: low = max(hi + 1,low)\n",
    "print('Day 20 part 1: lowest allowed IP is '+str(low))"
   ]
  },
  {
   "cell_type": "markdown",
   "metadata": {},
   "source": [
    "## Day 24\n",
    "TSM with only 5040 posible paths. Fun."
   ]
  },
  {
   "cell_type": "code",
   "execution_count": 285,
   "metadata": {
    "collapsed": false
   },
   "outputs": [
    {
     "name": "stdout",
     "output_type": "stream",
     "text": [
      "Day 24 part 1: the shortest route takes 498 steps (visit order: ['0', '1', '6', '4', '2', '3', '7', '5']).\n"
     ]
    }
   ],
   "source": [
    "maze = Input(24).strip()\n",
    "poi = sorted(re.findall(r'\\d+',maze))\n",
    "maze = maze.split()\n",
    "poi_coord = {i: locate2D(maze,i) for i in poi}\n",
    "routes = [[poi[0]] + list(line) for line in permutations(poi[1:])] # always start at 0\n",
    "\n",
    "def moves_func(point):\n",
    "    return [(x,y) for x, y in neighbors4(point) if maze[x][y] != '#']\n",
    "\n",
    "dists = dict()\n",
    "for a, b in combinations(poi,2):\n",
    "    hfunc = lambda point: cityblock_distance(point,poi_coord[b])\n",
    "    path = astar_search(poi_coord[a],hfunc,moves_func)\n",
    "    dists[fs(a, b)] = len(path) -1\n",
    "\n",
    "costs = [(sum(dists[fs(a, b)] for a, b in zip(route[:-1],route[1:])), route) for route in routes]\n",
    "cost, path = min(costs)\n",
    "print('Day 24 part 1: the shortest route takes {} steps (visit order: {}).'.format(cost,path))"
   ]
  },
  {
   "cell_type": "code",
   "execution_count": 286,
   "metadata": {
    "collapsed": false
   },
   "outputs": [
    {
     "name": "stdout",
     "output_type": "stream",
     "text": [
      "Day 24 part 2: the shortest route that ends back at 0 takes 804 steps (visit order: ['0', '1', '2', '3', '7', '5', '4', '6', '0']).\n"
     ]
    }
   ],
   "source": [
    "routes = [[poi[0]] + list(line) + [poi[0]] for line in permutations(poi[1:])] # always start and end at 0\n",
    "costs = [(sum(dists[fs(a, b)] for a, b in zip(route[:-1],route[1:])), route) for route in routes]\n",
    "cost, path = min(costs)\n",
    "print('Day 24 part 2: the shortest route that ends back at 0 takes {} steps (visit order: {}).'.format(cost,path))"
   ]
  },
  {
   "cell_type": "code",
   "execution_count": null,
   "metadata": {
    "collapsed": true
   },
   "outputs": [],
   "source": []
  }
 ],
 "metadata": {
  "kernelspec": {
   "display_name": "Python 3",
   "language": "python",
   "name": "python3"
  },
  "language_info": {
   "codemirror_mode": {
    "name": "ipython",
    "version": 3
   },
   "file_extension": ".py",
   "mimetype": "text/x-python",
   "name": "python",
   "nbconvert_exporter": "python",
   "pygments_lexer": "ipython3",
   "version": "3.5.0"
  }
 },
 "nbformat": 4,
 "nbformat_minor": 1
}
