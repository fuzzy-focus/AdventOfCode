{
 "cells": [
  {
   "cell_type": "markdown",
   "metadata": {},
   "source": [
    "# Advent of Code 2016\n",
    "[see here](http://adventofcode.com/2016)"
   ]
  },
  {
   "cell_type": "markdown",
   "metadata": {},
   "source": [
    "## Preparation\n",
    "This is inspired by [Peter Norvigs solution](https://github.com/norvig/pytudes/blob/master/ipynb/Advent%20of%20Code.ipynb)"
   ]
  },
  {
   "cell_type": "code",
   "execution_count": 65,
   "metadata": {
    "collapsed": false
   },
   "outputs": [],
   "source": [
    "# Python 3.x\n",
    "import re\n",
    "import numpy as np\n",
    "import math\n",
    "import urllib.request\n",
    "\n",
    "from collections import Counter, defaultdict, namedtuple, deque\n",
    "from functools   import lru_cache, reduce\n",
    "from itertools   import permutations, combinations, chain, cycle, product, islice\n",
    "from heapq       import heappop, heappush\n",
    "\n",
    "def Input(day):\n",
    "    \"Open this day's input file.\"\n",
    "    \n",
    "    filename = 'input/input{}.txt'.format(day)\n",
    "    try:\n",
    "        with open(filename, 'r') as f:\n",
    "            text = f.read()\n",
    "        return text\n",
    "    except FileNotFoundError:\n",
    "        url = 'http://adventofcode.com/2016/day/{}/input'.format(day)\n",
    "        print('input file not found. opening browser...')\n",
    "        import webbrowser\n",
    "        webbrowser.open(url)\n",
    "\n",
    "cat = ''.join\n",
    "\n",
    "def prod(it):\n",
    "    return reduce(lambda x,y: x*y, it)\n",
    "\n",
    "def grep(pattern, lines):\n",
    "    \"Print lines that match pattern.\"\n",
    "    for line in lines:\n",
    "        if re.search(pattern, line):\n",
    "            print(line)\n",
    "\n",
    "def groupby(iterable, key=lambda it: it):\n",
    "    \"Return a dic whose keys are key(it) and whose values are all the elements of iterable with that key.\"\n",
    "    dic = defaultdict(list)\n",
    "    for it in iterable:\n",
    "        dic[key(it)].append(it)\n",
    "    return dic\n",
    "\n",
    "def powerset(iterable):\n",
    "    \"Yield all subsets of items.\"\n",
    "    items = list(iterable)\n",
    "    for r in range(len(items)+1):\n",
    "        for c in combinations(items, r):\n",
    "            yield c\n",
    "\n",
    "def neighbors4(point): \n",
    "    \"The four neighbors (without diagonals).\"\n",
    "    x, y = point\n",
    "    return ((x+1, y), (x-1, y), (x, y+1), (x, y-1))\n",
    "\n",
    "def neighbors8(point): \n",
    "    \"The eight neighbors (with diagonals).\"\n",
    "    x, y = point \n",
    "    return ((x+1, y), (x-1, y), (x, y+1), (x, y-1),\n",
    "            (X+1, y+1), (x-1, y-1), (x+1, y-1), (x-1, y+1))\n",
    "\n",
    "def cityblock_distance(p, q=(0, 0)): \n",
    "    \"City block distance between two points.\"\n",
    "    return abs(X(p) - X(q)) + abs(Y(p) - Y(q))\n",
    "\n",
    "def euclidean_distance(p, q=(0, 0)): \n",
    "    \"Euclidean (hypotenuse) distance between two points.\"\n",
    "    return math.hypot(X(p) - X(q), Y(p) - Y(q))\n",
    "\n",
    "def trace1(f):\n",
    "    \"Print a trace of the input and output of a function on one line.\"\n",
    "    def traced_f(*args):\n",
    "        result = f(*args)\n",
    "        print('{}({}) = {}'.format(f.__name__, ', '.join(map(str, args)), result))\n",
    "        return result\n",
    "    return traced_f\n",
    "\n",
    "def astar_search(start, h_func, moves_func):\n",
    "    \"Find a shortest sequence of states from start to a goal state (a state s with h_func(s) == 0).\"\n",
    "    frontier  = [(h_func(start), start)] # A priority queue, ordered by path length, f = g + h\n",
    "    previous  = {start: None}  # start state has no previous state; other states will\n",
    "    path_cost = {start: 0}     # The cost of the best path to a state.\n",
    "    while frontier:\n",
    "        (f, s) = heappop(frontier)\n",
    "        if h_func(s) == 0:\n",
    "            return Path(previous, s)\n",
    "        for s2 in moves_func(s):\n",
    "            new_cost = path_cost[s] + 1\n",
    "            if s2 not in path_cost or new_cost < path_cost[s2]:\n",
    "                heappush(frontier, (new_cost + h_func(s2), s2))\n",
    "                path_cost[s2] = new_cost\n",
    "                previous[s2] = s\n",
    "    return dict(fail=True, front=len(frontier), prev=len(previous))\n",
    "                \n",
    "def Path(previous, s): \n",
    "    \"Return a list of states that lead to state s, according to the previous dict.\"\n",
    "    return ([] if (s is None) else Path(previous, previous[s]) + [s])"
   ]
  },
  {
   "cell_type": "markdown",
   "metadata": {},
   "source": [
    "## Day 1"
   ]
  },
  {
   "cell_type": "code",
   "execution_count": 16,
   "metadata": {
    "collapsed": false
   },
   "outputs": [
    {
     "data": {
      "text/plain": [
       "239.0"
      ]
     },
     "execution_count": 16,
     "metadata": {},
     "output_type": "execute_result"
    }
   ],
   "source": [
    "Point = complex             \n",
    "N, S, E, W = 1j, -1j, 1, -1 # Unit vectors for headings\n",
    "\n",
    "def distance(point): \n",
    "    \"City block distance between point and the origin.\"\n",
    "    return abs(point.real) + abs(point.imag)\n",
    "\n",
    "def how_far(moves):\n",
    "    \"After following moves, how far away from the origin do we end up?\"\n",
    "    loc, heading = 0, N # Begin at origin, heading North\n",
    "    for (turn, dist) in parse(moves):\n",
    "        heading *= turn\n",
    "        loc += heading * dist\n",
    "    return distance(loc)\n",
    "\n",
    "def parse(text):\n",
    "    \"Return a list of (turn, distance) pairs from text of form 'R2, L42, ...'\"\n",
    "    turns = dict(L=N, R=S)\n",
    "    return [(turns[RL], int(d))\n",
    "           for (RL, d) in re.findall(r'(R|L)(\\d+)', text)]\n",
    "\n",
    "assert distance(Point(3, 4)) == 7 # City block distance; Euclidean distance would be 5\n",
    "assert parse('R2, L42') == [(S, 2), (N, 42)]\n",
    "assert how_far(\"R2, L3\") == 5\n",
    "assert how_far(\"R2, R2, R2\") == 2\n",
    "assert how_far(\"R5, L5, R5, R3\") == 12\n",
    "how_far(Input(1))"
   ]
  },
  {
   "cell_type": "code",
   "execution_count": 3,
   "metadata": {
    "collapsed": false
   },
   "outputs": [
    {
     "data": {
      "text/plain": [
       "141.0"
      ]
     },
     "execution_count": 3,
     "metadata": {},
     "output_type": "execute_result"
    }
   ],
   "source": [
    "\"\"\"Part 2. first place that is visited twice.\"\"\"\n",
    "\n",
    "Point = complex             \n",
    "N, S, E, W = 1j, -1j, 1, -1 # Unit vectors for headings\n",
    "\n",
    "def distance(point): \n",
    "    \"City block distance between point and the origin.\"\n",
    "    return abs(point.real) + abs(point.imag)\n",
    "\n",
    "def how_far(moves):\n",
    "    \"After following moves, how far away from the origin do we end up?\"\n",
    "    visited = set()\n",
    "    loc, heading = 0, N # Begin at origin, heading North\n",
    "    for (turn, dist) in parse(moves):\n",
    "        heading *= turn\n",
    "        for _ in range(dist):\n",
    "            loc += heading\n",
    "            if loc in visited:\n",
    "                return distance(loc)\n",
    "            else:\n",
    "                visited.add(loc)\n",
    "    return distance(loc)\n",
    "\n",
    "def parse(text):\n",
    "    \"Return a list of (turn, distance) pairs from text of form 'R2, L42, ...'\"\n",
    "    turns = dict(L=N, R=S)\n",
    "    return [(turns[RL], int(d))\n",
    "           for (RL, d) in re.findall(r'(R|L)(\\d+)', text)]\n",
    "\n",
    "how_far(Input(1))"
   ]
  },
  {
   "cell_type": "markdown",
   "metadata": {},
   "source": [
    "## Day 2"
   ]
  },
  {
   "cell_type": "code",
   "execution_count": 29,
   "metadata": {
    "collapsed": false
   },
   "outputs": [
    {
     "data": {
      "text/plain": [
       "'56983'"
      ]
     },
     "execution_count": 29,
     "metadata": {},
     "output_type": "execute_result"
    }
   ],
   "source": [
    "Keypad = str.split\n",
    "\n",
    "keypad = Keypad(\"\"\"\n",
    ".....\n",
    ".123.\n",
    ".456.\n",
    ".789.\n",
    ".....\n",
    "\"\"\")\n",
    "\n",
    "assert keypad[2][2] == '5'\n",
    "\n",
    "off = '.'\n",
    "\n",
    "def decode(instructions, x=2, y=2):\n",
    "    \"\"\"Follow instructions, keeping track of x, y position, and\n",
    "    yielding the key at the end of each line of instructions.\"\"\"\n",
    "    for line in instructions:\n",
    "        for C in line:\n",
    "            x, y = move(C, x, y)\n",
    "        yield keypad[y][x]\n",
    "\n",
    "def move(C, x, y):\n",
    "    \"Make the move corresponding to this character (L/R/U/D)\"\n",
    "    if   C == 'L' and keypad[y][x-1] is not off: x -= 1\n",
    "    elif C == 'R' and keypad[y][x+1] is not off: x += 1\n",
    "    elif C == 'U' and keypad[y-1][x] is not off: y -= 1\n",
    "    elif C == 'D' and keypad[y+1][x] is not off: y += 1\n",
    "    return x, y\n",
    "\n",
    "assert move('U', 2, 2) == (2, 1)\n",
    "assert move('U', 2, 1) == (2, 1)\n",
    "assert cat(decode(\"ULL RRDDD LURDL UUUUD\".split())) == '1985'\n",
    "\n",
    "cat(decode(Input(2).strip().split('\\n')))"
   ]
  },
  {
   "cell_type": "code",
   "execution_count": 31,
   "metadata": {
    "collapsed": false
   },
   "outputs": [
    {
     "data": {
      "text/plain": [
       "'8B8B1'"
      ]
     },
     "execution_count": 31,
     "metadata": {},
     "output_type": "execute_result"
    }
   ],
   "source": [
    "keypad = Keypad(\"\"\"\n",
    ".......\n",
    "...1...\n",
    "..234..\n",
    ".56789.\n",
    "..ABC..\n",
    "...D...\n",
    ".......\n",
    "\"\"\")\n",
    "\n",
    "assert keypad[3][1] == '5'\n",
    "\n",
    "cat(decode(Input(2).strip().split('\\n'), x=1, y=3))"
   ]
  },
  {
   "cell_type": "markdown",
   "metadata": {},
   "source": [
    "## Day 3"
   ]
  },
  {
   "cell_type": "code",
   "execution_count": 32,
   "metadata": {
    "collapsed": false
   },
   "outputs": [
    {
     "name": "stdout",
     "output_type": "stream",
     "text": [
      "part 1: 917\n",
      "part 2: 1649\n"
     ]
    }
   ],
   "source": [
    "def is_triangle(sides):\n",
    "    a,b,c = sorted(sides)\n",
    "    return a+b>c and a+c>b and b+c>a\n",
    "\n",
    "def parse(text):\n",
    "    triangle_list = []\n",
    "    for line in text.split('\\n'):\n",
    "        sides = tuple(int(word) for word in re.findall(r'\\S+',line))\n",
    "        if sides:\n",
    "            triangle_list.append(sides)\n",
    "    return triangle_list\n",
    "\n",
    "triangles = parse(Input(3))\n",
    "print('part 1: ' + str(len([tri for tri in triangles if is_triangle(tri)])))\n",
    "from itertools import chain, zip_longest\n",
    "triangles2 = chain(*zip(*triangles))\n",
    "def grouper(iterable, n, fillvalue=None):\n",
    "    \"Collect data into fixed-length chunks or blocks\"\n",
    "    # grouper('ABCDEFG', 3, 'x') --> ABC DEF Gxx\n",
    "    args = [iter(iterable)] * n\n",
    "    return zip_longest(fillvalue=fillvalue, *args)\n",
    "triangles2 = grouper(triangles2,3)\n",
    "print('part 2: ' + str(len([tri for tri in triangles2 if is_triangle(tri)])))"
   ]
  },
  {
   "cell_type": "markdown",
   "metadata": {},
   "source": [
    "## Day 4 "
   ]
  },
  {
   "cell_type": "code",
   "execution_count": 33,
   "metadata": {
    "collapsed": false
   },
   "outputs": [
    {
     "data": {
      "text/plain": [
       "173787"
      ]
     },
     "execution_count": 33,
     "metadata": {},
     "output_type": "execute_result"
    }
   ],
   "source": [
    "from collections import Counter\n",
    "rooms = Input(4).strip().split('\\n')\n",
    "pattern = re.compile(r'(?P<name>[-a-z]+)-(?P<sector>\\d+)\\[(?P<check>[a-z]+)\\]')\n",
    "\n",
    "def parse_room(room):\n",
    "    return pattern.match(room).groupdict()\n",
    "\n",
    "def check_room(room):\n",
    "    c = Counter(room['name'].replace('-',''))\n",
    "    check = cat(sorted(c, key=lambda x: (-c[x],x))[:5])\n",
    "    return check == room['check']\n",
    "    \n",
    "rooms = [parse_room(room) for room in rooms]\n",
    "rooms = [room for room in rooms if check_room(room)]\n",
    "sum(int(room['sector']) for room in rooms)"
   ]
  },
  {
   "cell_type": "code",
   "execution_count": 34,
   "metadata": {
    "collapsed": false
   },
   "outputs": [
    {
     "name": "stdout",
     "output_type": "stream",
     "text": [
      "548 northpole object storage\n"
     ]
    }
   ],
   "source": [
    "def alpha_rot(n):\n",
    "    return cat(chr(ord('a')+(i+n)%26) for i in range(26))\n",
    "def decrypt_name(n):\n",
    "    t = str.maketrans(alpha_rot(0)+'-', alpha_rot(n)+' ')\n",
    "    return lambda s: s.translate(t)\n",
    "assert decrypt_name(343)('qzmt-zixmtkozy-ivhz') == 'very encrypted name'\n",
    "for room in rooms:\n",
    "    sector = int(room['sector'])\n",
    "    dec = decrypt_name(sector)\n",
    "    dec_name = dec(room['name'])\n",
    "    if 'pole' in dec_name:\n",
    "        print(room['sector'] + ' ' + dec_name)"
   ]
  },
  {
   "cell_type": "markdown",
   "metadata": {},
   "source": [
    "## Day 5"
   ]
  },
  {
   "cell_type": "code",
   "execution_count": 170,
   "metadata": {
    "collapsed": false
   },
   "outputs": [
    {
     "data": {
      "text/plain": [
       "'801b56a7'"
      ]
     },
     "execution_count": 170,
     "metadata": {},
     "output_type": "execute_result"
    }
   ],
   "source": [
    "door_id = 'abbhdwsy'\n",
    "import hashlib\n",
    "def door_md5(door_id, i):\n",
    "    m = hashlib.md5()\n",
    "    m.update(bytes(door_id + str(i),'utf-8'))\n",
    "    return m.hexdigest()\n",
    "\n",
    "assert door_md5('abc',3231929)[:6] == '000001'\n",
    "\n",
    "def gen_pwd(door_id):\n",
    "    pwd = ''\n",
    "    i = 0\n",
    "    while len(pwd) < 8:\n",
    "        h = door_md5(door_id, i)\n",
    "        if h.startswith('00000'):\n",
    "            pwd += h[5]\n",
    "        i+=1\n",
    "    return pwd\n",
    "\n",
    "#assert gen_pwd('abc') == '18f47a30'\n",
    "gen_pwd(door_id)"
   ]
  },
  {
   "cell_type": "code",
   "execution_count": 185,
   "metadata": {
    "collapsed": false
   },
   "outputs": [
    {
     "name": "stdout",
     "output_type": "stream",
     "text": [
      "________\n",
      "4_______\n",
      "42______\n",
      "42___1__\n",
      "42___19_\n",
      "42___197\n",
      "424__197\n",
      "424_0197\n",
      "424a0197\n"
     ]
    },
    {
     "data": {
      "text/plain": [
       "'424a0197'"
      ]
     },
     "execution_count": 185,
     "metadata": {},
     "output_type": "execute_result"
    }
   ],
   "source": [
    "def gen_pwd2(door_id):\n",
    "    pwd = '_'*8\n",
    "    i = 0\n",
    "    print(pwd)\n",
    "    while '_' in pwd:\n",
    "        h = door_md5(door_id, i)\n",
    "        pos = int(h[5],base=16)\n",
    "        if h.startswith('00000') and pos < 8 and pwd[pos] == '_':\n",
    "            pwd = pwd[:pos]+ h[6] + pwd[pos+1:]\n",
    "            print(pwd)\n",
    "        i+=1\n",
    "    return pwd\n",
    "gen_pwd2(door_id)"
   ]
  },
  {
   "cell_type": "markdown",
   "metadata": {},
   "source": [
    "## Day 6"
   ]
  },
  {
   "cell_type": "code",
   "execution_count": 197,
   "metadata": {
    "collapsed": false
   },
   "outputs": [
    {
     "name": "stdout",
     "output_type": "stream",
     "text": [
      "liwvqppc\n",
      "caqfbzlh\n"
     ]
    }
   ],
   "source": [
    "msgs = Input(6).split()\n",
    "cols = list(zip(*msgs))\n",
    "from collections import Counter\n",
    "message = cat(Counter(col).most_common(1)[0][0] for col in cols)\n",
    "print(message)\n",
    "message2 = cat(Counter(col).most_common()[-1][0] for col in cols)\n",
    "print(message2)"
   ]
  },
  {
   "cell_type": "markdown",
   "metadata": {},
   "source": [
    "## Day 7"
   ]
  },
  {
   "cell_type": "code",
   "execution_count": 40,
   "metadata": {
    "collapsed": false
   },
   "outputs": [
    {
     "data": {
      "text/plain": [
       "110"
      ]
     },
     "execution_count": 40,
     "metadata": {},
     "output_type": "execute_result"
    }
   ],
   "source": [
    "ips = Input(7).split()\n",
    "abba = re.compile(r'(\\w)(?!\\1)(\\w)\\2\\1')\n",
    "split = re.compile(r'(\\w+)+')\n",
    "\n",
    "def check_TLS(ip):\n",
    "    parts = split.findall(ip)\n",
    "    good_abba = False\n",
    "    bad_abba = False\n",
    "    for i, part in enumerate(parts):\n",
    "        if abba.search(part):\n",
    "            if i%2: #0-> outside of []. 1-> inside of []\n",
    "                bad_abba = True\n",
    "            else:\n",
    "                good_abba = True\n",
    "    return good_abba and not bad_abba\n",
    "\n",
    "assert check_TLS('abba[mnop]qrst') == True\n",
    "assert check_TLS('abcd[bddb]xyyx') == False\n",
    "assert check_TLS('aaaa[qwer]tyui') == False\n",
    "assert check_TLS('ioxxoj[asdfgh]zxcvbn') == True\n",
    "\n",
    "def check_SSL(ip):\n",
    "    pass\n",
    "\n",
    "assert check_SSL('aba[bab]xyz')\n",
    "assert check_SSL('xyx[xyx]xyx') == False\n",
    "assert check_SSL('aaa[kek]eke')\n",
    "assert check_SSL('zazbz[bzb]cdb')\n",
    "\n",
    "ips = [ip for ip in ips if check_TLS(ip)]\n",
    "len(ips)\n"
   ]
  },
  {
   "cell_type": "markdown",
   "metadata": {
    "collapsed": true
   },
   "source": [
    "## Day 8\n",
    "Format for instructions:\n",
    "```\n",
    "rect 2x1\n",
    "rotate row y=0 by 5\n",
    "rotate column x=0 by 1\n",
    "```"
   ]
  },
  {
   "cell_type": "code",
   "execution_count": 41,
   "metadata": {
    "collapsed": false
   },
   "outputs": [
    {
     "name": "stdout",
     "output_type": "stream",
     "text": [
      "#Pixels lit: 121\n",
      "Password:\n",
      "@@@  @  @ @@@  @  @  @@  @@@@  @@  @@@@  @@@ @    \n",
      "@  @ @  @ @  @ @  @ @  @ @    @  @ @      @  @    \n",
      "@  @ @  @ @  @ @  @ @    @@@  @  @ @@@    @  @    \n",
      "@@@  @  @ @@@  @  @ @    @    @  @ @      @  @    \n",
      "@ @  @  @ @ @  @  @ @  @ @    @  @ @      @  @    \n",
      "@  @  @@  @  @  @@   @@  @@@@  @@  @@@@  @@@ @@@@ \n"
     ]
    }
   ],
   "source": [
    "instructions = Input(8).splitlines()\n",
    "rect = re.compile(r'rect (?P<width>\\d+)x(?P<height>\\d+)')\n",
    "rotr = re.compile(r'rotate row y=(?P<row>\\d+) by (?P<shift>\\d+)')\n",
    "rotc = re.compile(r'rotate column x=(?P<col>\\d+) by (?P<shift>\\d+)')\n",
    "\n",
    "def get_param(pattern, text):\n",
    "    match = pattern.findall(text)\n",
    "    if not match: return\n",
    "    return tuple(int(x) for x in match[0])\n",
    "\n",
    "FILLCHAR = '@'\n",
    "WIDTH, HEIGHT = 50,6\n",
    "disp = [[' ' for _ in range(WIDTH)] for _ in range(HEIGHT)]\n",
    "for line in instructions:\n",
    "    param = get_param(rect,line)\n",
    "    if param:\n",
    "        width, height = param\n",
    "        for i, j in product(range(width), range(height)):\n",
    "            disp[j][i] = FILLCHAR\n",
    "        continue\n",
    "    param = get_param(rotr, line)\n",
    "    if param:\n",
    "        row, shift = param\n",
    "        disp[row] = disp[row][-shift:] + disp[row][:-shift]\n",
    "        continue\n",
    "    param = get_param(rotc, line)\n",
    "    if param:\n",
    "        disp = list(zip(*disp))\n",
    "        row, shift = param\n",
    "        disp[row] = disp[row][-shift:] + disp[row][:-shift]\n",
    "        disp = list(list(row) for row in zip(*disp))\n",
    "        continue\n",
    "dispstr = '\\n'.join(cat(line) for line in disp)\n",
    "print('#Pixels lit: '+ str(dispstr.count(FILLCHAR)))\n",
    "print('Password:')\n",
    "print(dispstr)"
   ]
  },
  {
   "cell_type": "markdown",
   "metadata": {},
   "source": [
    "## Day 9"
   ]
  },
  {
   "cell_type": "code",
   "execution_count": 31,
   "metadata": {
    "collapsed": false
   },
   "outputs": [
    {
     "name": "stdout",
     "output_type": "stream",
     "text": [
      "(22x7)(4x15)XOPG(7x9)JDPAKGM(8x8)ALGCJRZQ(38x1)(4x10)VNSW(12x10)BZPAZABYKIDJ(3x14)IHF(40x15)(34x8)UGTIHCTVONZPPIWUAEGHGFJUNTIMIELOLW(6x1)XLMMKD(22x7)(4x15)XOPG(7x9)JDPAKGM(8x8)ALGCJRZQ(38x1)(4x10)VNSW ...\n",
      "Total Length: 107035\n"
     ]
    }
   ],
   "source": [
    "ctext = Input(9).strip()\n",
    "mark = re.compile(r'\\((?P<len>\\d+)x(?P<rep>\\d+)\\)')\n",
    "def decompress(ctext):\n",
    "    dtext = ''\n",
    "    pos = 0\n",
    "    while pos < len(ctext):\n",
    "        m = mark.search(ctext, pos)\n",
    "        if not m:\n",
    "            dtext += ctext[pos:]\n",
    "            pos = len(ctext)\n",
    "            break\n",
    "        start = m.start()\n",
    "        end = m.end()\n",
    "        length, repeat = int(m.groupdict()['len']), int(m.groupdict()['rep'])\n",
    "        dtext += ctext[pos:start]\n",
    "        dtext += ctext[end:end+length] * repeat\n",
    "        pos = end+length\n",
    "    return dtext\n",
    "\n",
    "assert decompress('ADVENT') == 'ADVENT'\n",
    "assert decompress('A(1x5)BC') == 'ABBBBBC'\n",
    "assert decompress('(3x3)XYZ') == 'XYZXYZXYZ'\n",
    "assert decompress('A(2x2)BCD(2x2)EFG') == 'ABCBCDEFEFG'\n",
    "assert decompress('(6x1)(1x3)A') == '(1x3)A'\n",
    "assert decompress('X(8x2)(3x3)ABCY') == 'X(3x3)ABC(3x3)ABCY'\n",
    "\n",
    "\n",
    "dtext = decompress(ctext)\n",
    "print(dtext[:200] + ' ...')\n",
    "print('Total Length: ' + str(len(dtext)))"
   ]
  },
  {
   "cell_type": "code",
   "execution_count": 37,
   "metadata": {
    "collapsed": false
   },
   "outputs": [
    {
     "name": "stdout",
     "output_type": "stream",
     "text": [
      "Total Length: 11451628995\n"
     ]
    }
   ],
   "source": [
    "def decompress2len(ctext):\n",
    "    dtext = 0 #is now length\n",
    "    pos = 0\n",
    "    while pos < len(ctext):\n",
    "        m = mark.search(ctext, pos)\n",
    "        if not m:\n",
    "            dtext += len(ctext) - pos\n",
    "            pos = len(ctext)\n",
    "            break\n",
    "        start = m.start()\n",
    "        end = m.end()\n",
    "        length, repeat = int(m.groupdict()['len']), int(m.groupdict()['rep'])\n",
    "        dtext += start-pos\n",
    "        dtext += decompress2len(ctext[end:end+length]) * repeat\n",
    "        pos = end+length\n",
    "    return dtext\n",
    "\n",
    "\n",
    "assert decompress2len('(27x12)(20x12)(13x14)(7x10)(1x12)A') == 241920\n",
    "assert decompress2len('(25x3)(3x3)ABC(2x3)XY(5x2)PQRSTX(18x9)(3x2)TWO(5x7)SEVEN') == 445\n",
    "\n",
    "dtext = decompress2len(ctext)\n",
    "print('Total Length: ' + str(dtext))"
   ]
  },
  {
   "cell_type": "markdown",
   "metadata": {},
   "source": [
    "## Day 10"
   ]
  },
  {
   "cell_type": "code",
   "execution_count": 69,
   "metadata": {
    "collapsed": false
   },
   "outputs": [
    {
     "name": "stdout",
     "output_type": "stream",
     "text": [
      "bot 27 has {17, 61}\n",
      "output 0 * output 1 * output 2 = 13727\n"
     ]
    }
   ],
   "source": [
    "instr = Input(10).strip()\n",
    "TARGET = set((17,61))\n",
    "#print(log[:497] + '\\n...')\n",
    "pat_rec = re.compile(r'value (\\d+) goes to (\\w+ \\d+)')\n",
    "pat_giv = re.compile(r'(\\w+ \\d+) gives low to (\\w+ \\d+) and high to (\\w+ \\d+)')\n",
    "\n",
    "def give(stash, recipient, value, target=None):\n",
    "    stash[recipient].add(value)\n",
    "    if len(stash[recipient]) == 2:\n",
    "        s = stash[recipient]\n",
    "        if s == target: print('{} has {}'.format(recipient,s))\n",
    "        stash[recipient] = set()\n",
    "        give(stash, flow[recipient][0], min(s),target)\n",
    "        give(stash, flow[recipient][1], max(s),target)\n",
    "\n",
    "flow = {giver: (low, high) for giver, low, high in pat_giv.findall(instr)}\n",
    "stash = defaultdict(set)\n",
    "for val, dest in pat_rec.findall(instr):\n",
    "    give(stash, dest, int(val),TARGET)\n",
    "\n",
    "outputs = ['output '+str(i) for i in range(3)]\n",
    "print('{} = {}'.format(' * '.join(outputs), prod(stash[o].pop() for o in outputs)))"
   ]
  },
  {
   "cell_type": "code",
   "execution_count": null,
   "metadata": {
    "collapsed": true
   },
   "outputs": [],
   "source": []
  }
 ],
 "metadata": {
  "kernelspec": {
   "display_name": "Python 3",
   "language": "python",
   "name": "python3"
  },
  "language_info": {
   "codemirror_mode": {
    "name": "ipython",
    "version": 3
   },
   "file_extension": ".py",
   "mimetype": "text/x-python",
   "name": "python",
   "nbconvert_exporter": "python",
   "pygments_lexer": "ipython3",
   "version": "3.5.0"
  }
 },
 "nbformat": 4,
 "nbformat_minor": 1
}
