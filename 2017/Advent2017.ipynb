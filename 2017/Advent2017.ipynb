{
 "cells": [
  {
   "cell_type": "markdown",
   "metadata": {},
   "source": [
    "# Advent of Code 2017\n",
    "\n",
    "[see here](https://adventofcode.com/2017/)"
   ]
  },
  {
   "cell_type": "markdown",
   "metadata": {},
   "source": [
    "## Preparation\n",
    "\n",
    "import of some useful libs and definition of some common utility functions"
   ]
  },
  {
   "cell_type": "code",
   "execution_count": 27,
   "metadata": {
    "collapsed": false
   },
   "outputs": [],
   "source": [
    "# Python 3.x\n",
    "import re\n",
    "import numpy as np\n",
    "import math\n",
    "import urllib.request\n",
    "import reprlib\n",
    "import operator\n",
    "import string\n",
    "\n",
    "from collections import Counter, defaultdict, namedtuple, deque\n",
    "from functools   import lru_cache, reduce\n",
    "from itertools   import permutations, combinations, chain, cycle, product, islice, count, repeat, filterfalse\n",
    "from heapq       import heappop, heappush\n",
    "\n",
    "def Input(day,strip=True):\n",
    "    \"Open this day's input file.\"\n",
    "    \n",
    "    filename = 'input/input{}.txt'.format(day)\n",
    "    try:\n",
    "        with open(filename, 'r') as f:\n",
    "            text = f.read()\n",
    "            if strip:\n",
    "                text = text.strip()\n",
    "        return text\n",
    "    except FileNotFoundError:\n",
    "        url = 'http://adventofcode.com/2017/day/{}/input'.format(day)\n",
    "        print('input file not found. opening browser...')\n",
    "        print('please save the file as \"input<#day>.txt in your input folder.')\n",
    "        import webbrowser\n",
    "        webbrowser.open(url)\n",
    "\n",
    "cat = ''.join\n",
    "def first(iterable, default=None): return next(iter(iterable), default)\n",
    "def fs(*items): return frozenset(items)\n",
    "\n",
    "def ilen(iterator): return sum(1 for _ in iterator)\n",
    "\n",
    "def ints(text,typ=int):\n",
    "    return list(map(typ,re.compile(r'[-+]?\\d*[.]?\\d+').findall(text)))\n",
    "\n",
    "def shift(it, n):\n",
    "    return it[n:] + it[:n]\n",
    "\n",
    "def rot(original,clockwise=True):\n",
    "    '''rotate 2D matrix'''\n",
    "    if clockwise:\n",
    "        return list(zip(*original[::-1]))\n",
    "    else:\n",
    "        return list(zip(*original[::-1]))[::-1]\n",
    "\n",
    "def locate2D(m, val):\n",
    "    '''locate value in 2D list'''\n",
    "    for i, line in enumerate(m):\n",
    "        j=-1\n",
    "        try:\n",
    "            j = line.index(val)\n",
    "        except ValueError:\n",
    "            continue\n",
    "        break\n",
    "    else:\n",
    "        i = -1\n",
    "    return (i,j)\n",
    "\n",
    "def dist_L1(p1,p2=(0,0)):\n",
    "    return abs(p2[0]-p1[0])+abs(p2[1]-p1[1])\n",
    "\n",
    "def dist_L2(p1,p2=(0,0)):\n",
    "    return math.hypot(p2[0]-p1[0],p2[1]-p1[1])\n",
    "\n",
    "def neighbors4(point): \n",
    "    \"The four neighbors (without diagonals).\"\n",
    "    x, y = point\n",
    "    return ((x+1, y), (x-1, y), (x, y+1), (x, y-1))\n",
    "\n",
    "def neighbors8(point): \n",
    "    \"The eight neighbors (with diagonals).\"\n",
    "    x, y = point \n",
    "    return ((x+1, y), (x-1, y), (x, y+1), (x, y-1),\n",
    "            (x+1, y+1), (x-1, y-1), (x+1, y-1), (x-1, y+1))\n",
    "\n",
    "from numbers import Number \n",
    "class Vector(object):\n",
    "    def __init__(self,*args):\n",
    "        if len(args) == 1:\n",
    "            if isinstance(args,Number):\n",
    "                self.vec = tuple(0 for _ in range(args))\n",
    "            else:\n",
    "                self.vec = tuple(*args)\n",
    "        else:\n",
    "            self.vec = tuple(args)\n",
    "    def __mul__(self, other):\n",
    "        if isinstance(other,Number):\n",
    "            return Vector(other * x for x in self.vec)\n",
    "        elif isinstance(other,Vector):\n",
    "            return sum(x*y for x,y in zip(self.vec, other.vec))\n",
    "        raise NotImplemented\n",
    "    def __add__(self,other):\n",
    "        return Vector(x+y for x,y in zip(self.vec, other.vec))\n",
    "    def __sub__(self,other):\n",
    "        return Vector(x-y for x,y in zip(self.vec, other.vec))\n",
    "    def __iter__(self):\n",
    "        return self.vec.__iter__()\n",
    "    def __len__(self):\n",
    "        return len(self.vec)\n",
    "    def __getitem__(self, key):\n",
    "        return self.vec[key]\n",
    "    def __repr__(self):\n",
    "        return 'Vector(' + str(self.vec)[1:-1] + ')'\n",
    "\n",
    "#display and debug functions\n",
    "def h1(s):\n",
    "    upr, brd, lwr = '▁', '█', '▔'\n",
    "    return upr*(len(s)+4) + '\\n'+brd+' ' + s + ' ' + brd +'\\n' + lwr*(len(s)+4)\n",
    "\n",
    "def h2(s, ch='-'):\n",
    "    return s + '\\n' + ch*len(s) + '\\n'\n",
    "\n",
    "h1 = lambda s: h2(s,'=')  #the other h1 is a bitch, apparently.\n",
    "\n",
    "def trace1(f):\n",
    "    \"Print a trace of the input and output of a function on one line.\"\n",
    "    rep = reprlib.aRepr\n",
    "    rep.maxother = 85\n",
    "    def traced_f(*args):\n",
    "        arg_strs = ', '.join(map(rep.repr, args))\n",
    "        result = f(*args)\n",
    "        print('{}({}) = {}'.format(f.__name__, arg_strs, result))\n",
    "        return result\n",
    "    return traced_f"
   ]
  },
  {
   "cell_type": "markdown",
   "metadata": {},
   "source": [
    "## Day 1"
   ]
  },
  {
   "cell_type": "code",
   "execution_count": 2,
   "metadata": {},
   "outputs": [
    {
     "name": "stdout",
     "output_type": "stream",
     "text": [
      "Day 1 part 1 result: 995\n",
      "========================\n",
      "\n"
     ]
    }
   ],
   "source": [
    "captcha = Input(1)\n",
    "matching = (int(x) for x,y in zip(captcha,shift(captcha,1)) if x==y)\n",
    "print(h1('Day 1 part 1 result: ' +str(sum(matching))))"
   ]
  },
  {
   "cell_type": "code",
   "execution_count": 3,
   "metadata": {},
   "outputs": [
    {
     "name": "stdout",
     "output_type": "stream",
     "text": [
      "Day 1 part 2 result: 1130\n",
      "=========================\n",
      "\n"
     ]
    }
   ],
   "source": [
    "matching = (int(x) for x,y in zip(captcha,shift(captcha,len(captcha)//2)) if x==y)\n",
    "print(h1('Day 1 part 2 result: ' +str(sum(matching))))"
   ]
  },
  {
   "cell_type": "markdown",
   "metadata": {},
   "source": [
    "## Day 2"
   ]
  },
  {
   "cell_type": "code",
   "execution_count": 4,
   "metadata": {},
   "outputs": [
    {
     "name": "stdout",
     "output_type": "stream",
     "text": [
      "Checksum is 48357\n",
      "=================\n",
      "\n"
     ]
    }
   ],
   "source": [
    "ss = Input(2)\n",
    "numbers = [[int(x) for x in line.split('\\t')] for line in ss.split('\\n')]\n",
    "checksum = sum(max(line)-min(line) for line in numbers)\n",
    "print(h1('Checksum is '+str(checksum)))"
   ]
  },
  {
   "cell_type": "code",
   "execution_count": 5,
   "metadata": {},
   "outputs": [
    {
     "name": "stdout",
     "output_type": "stream",
     "text": [
      "Result is 351\n",
      "=============\n",
      "\n"
     ]
    }
   ],
   "source": [
    "result = sum(first(int(max(x)/min(x)) for x in combinations(line,2) if max(x)%min(x) == 0) for line in numbers)\n",
    "print(h1('Result is '+str(result)))"
   ]
  },
  {
   "cell_type": "markdown",
   "metadata": {},
   "source": [
    "## Day 3"
   ]
  },
  {
   "cell_type": "code",
   "execution_count": 6,
   "metadata": {},
   "outputs": [
    {
     "name": "stdout",
     "output_type": "stream",
     "text": [
      "Test Spiral for N=7:\n",
      "--------------------\n",
      "\n",
      "37 36 35 34 33 32 31\n",
      "38 17 16 15 14 13 30\n",
      "39 18  5  4  3 12 29\n",
      "40 19  6  1  2 11 28\n",
      "41 20  7  8  9 10 27\n",
      "42 21 22 23 24 25 26\n",
      "43 44 45 46 47 48 49\n"
     ]
    }
   ],
   "source": [
    "s = int(Input(3))\n",
    "N = math.ceil(math.sqrt(s)) # minimum square size that contains s\n",
    "\n",
    "def disp_spiral(sp):\n",
    "    '''pretty-print spiral'''\n",
    "    sp = list(sp)\n",
    "    m = len(str(max(max(line) for line in sp)))\n",
    "    print('\\n'.join(' '.join('{: >{}}'.format(num,m) for num in line) for line in sp))\n",
    "    \n",
    "def gen_spiral(N):\n",
    "    '''generate NxN spiral (highest number n^2)'''\n",
    "    nums = [[j for j in range((i-1)*(i-1)+1,i*i+1)] for i in range(2,N+1)]\n",
    "    square = [[1]]\n",
    "    for num in nums:\n",
    "        a, b = num[:len(square)],num[len(square):]\n",
    "        square = rot(square) + [a]\n",
    "        square = rot(square) + [b]\n",
    "    return square\n",
    "\n",
    "print(h2('Test Spiral for N=7:'))\n",
    "disp_spiral(gen_spiral(7))"
   ]
  },
  {
   "cell_type": "code",
   "execution_count": 7,
   "metadata": {},
   "outputs": [
    {
     "name": "stdout",
     "output_type": "stream",
     "text": [
      "Part 1: 430 steps needed\n",
      "========================\n",
      "\n"
     ]
    }
   ],
   "source": [
    "sp = gen_spiral(N)\n",
    "d = dist_L1(locate2D(sp, 1),locate2D(sp, s))\n",
    "print(h1('Part 1: ' + str(d) + ' steps needed'))"
   ]
  },
  {
   "cell_type": "code",
   "execution_count": 8,
   "metadata": {},
   "outputs": [
    {
     "name": "stdout",
     "output_type": "stream",
     "text": [
      "Part 2: first value written larger than the puzzle input (312051) is 312453\n",
      "===========================================================================\n",
      "\n",
      "The generated spiral:\n",
      " 17370  17008  16295  15252  14267  13486   6591      0\n",
      " 35487    362    351    330    304    147   6444      0\n",
      " 37402    747     11     10      5    142   6155      0\n",
      " 39835    806     23      1      4    133   5733 312453\n",
      " 42452    880     25      1      2    122   5336 295229\n",
      " 45220    931     26     54     57     59   5022 279138\n",
      " 47108    957   1968   2105   2275   2391   2450 266330\n",
      " 48065  98098 103128 109476 116247 123363 128204 130654\n"
     ]
    }
   ],
   "source": [
    "ns = [[0 for _ in range(N)] for _ in range(N)] #generate zero filled square of same size\n",
    "x,y = locate2D(sp,1) # use spiral as index\n",
    "ns[x][y] = 1\n",
    "i,n = 1,1\n",
    "while n < s:\n",
    "    i+=1\n",
    "    x,y = locate2D(sp,i)\n",
    "    neighbors = neighbors8((x,y))\n",
    "    n = 0\n",
    "    for xn, yn in neighbors:\n",
    "        try: n += ns[xn][yn]\n",
    "        except IndexError: pass\n",
    "    ns[x][y] = n\n",
    "print(h1('Part 2: first value written larger than the puzzle input (' + str(s) + ') is ' + str(n)))\n",
    "print('The generated spiral:')\n",
    "disp_spiral([line for line in rot([line for line in ns if any(line)]) if any(line)])"
   ]
  },
  {
   "cell_type": "markdown",
   "metadata": {},
   "source": [
    "## Day 4"
   ]
  },
  {
   "cell_type": "code",
   "execution_count": 9,
   "metadata": {},
   "outputs": [
    {
     "name": "stdout",
     "output_type": "stream",
     "text": [
      "Day 4 part 1: there are 325 valid passwords.\n",
      "============================================\n",
      "\n"
     ]
    }
   ],
   "source": [
    "passwords = Input(4).splitlines()\n",
    "word = re.compile(r'\\w+')\n",
    "pass_words = {password: word.findall(password) for password in passwords}\n",
    "valid = [pwd for pwd,words in pass_words.items() if len(words) == len(set(words))]\n",
    "print(h1('Day 4 part 1: there are {} valid passwords.'.format(len(valid))))"
   ]
  },
  {
   "cell_type": "code",
   "execution_count": 10,
   "metadata": {},
   "outputs": [
    {
     "name": "stdout",
     "output_type": "stream",
     "text": [
      "Day 4 part 2: there are 119 valid passwords.\n",
      "============================================\n",
      "\n"
     ]
    }
   ],
   "source": [
    "# sorting the words takes care of anagrams since all sorted anagrams are equal.\n",
    "pass_words = {password: [cat(sorted(w)) for w in word.findall(password)] for password in passwords}\n",
    "valid = [pwd for pwd,words in pass_words.items() if len(words) == len(set(words))]\n",
    "print(h1('Day 4 part 2: there are {} valid passwords.'.format(len(valid))))"
   ]
  },
  {
   "cell_type": "markdown",
   "metadata": {},
   "source": [
    "## Day 5"
   ]
  },
  {
   "cell_type": "code",
   "execution_count": 11,
   "metadata": {},
   "outputs": [
    {
     "name": "stdout",
     "output_type": "stream",
     "text": [
      "Day 5 part 1: escaped the maze after 325922 steps\n",
      "=================================================\n",
      "\n"
     ]
    }
   ],
   "source": [
    "jmp = list(map(int,Input(5).splitlines()))\n",
    "def run(jmps, modfun=lambda x: x + 1):\n",
    "    jmp = list(jmps)\n",
    "    ip = 0 # instruction pointer\n",
    "    steps = 0\n",
    "    while ip < len(jmp):\n",
    "        nip  = ip + jmp[ip]\n",
    "        jmp[ip] = modfun(jmp[ip])\n",
    "        ip = nip\n",
    "        steps += 1\n",
    "    return steps\n",
    "assert run([0, 3, 0, 1, -3]) == 5 # example given in the \n",
    "steps = run(jmp)\n",
    "print(h1('Day 5 part 1: escaped the maze after {} steps'.format(steps)))"
   ]
  },
  {
   "cell_type": "code",
   "execution_count": 12,
   "metadata": {},
   "outputs": [
    {
     "name": "stdout",
     "output_type": "stream",
     "text": [
      "Day 5 part 2: escaped the maze after 24490906 steps\n",
      "===================================================\n",
      "\n"
     ]
    }
   ],
   "source": [
    "modfun = lambda x: x+1 if x < 3 else x-1\n",
    "assert run([0, 3, 0, 1, -3], modfun) == 10 # example given in the \n",
    "steps = run(jmp, modfun)\n",
    "print(h1('Day 5 part 2: escaped the maze after {} steps'.format(steps)))"
   ]
  },
  {
   "cell_type": "markdown",
   "metadata": {},
   "source": [
    "## Day 6"
   ]
  },
  {
   "cell_type": "code",
   "execution_count": 13,
   "metadata": {},
   "outputs": [
    {
     "name": "stdout",
     "output_type": "stream",
     "text": [
      "Day 6 part 1: infinite loop entered after 6681 steps\n",
      "====================================================\n",
      "\n",
      "Day 6 part 2: length of infinite loop is 2392 steps\n",
      "===================================================\n",
      "\n"
     ]
    }
   ],
   "source": [
    "s = tuple(map(int,Input(6).split()))\n",
    "def distr(banks):\n",
    "    banks = list(banks)\n",
    "    i, v = max(enumerate(banks),key = lambda x: (x[1],-x[0]))\n",
    "    banks[i] = 0\n",
    "    for j in range(v): banks[(i + j + 1) % len(banks)] += 1\n",
    "    return tuple(banks)\n",
    "\n",
    "def realloc(banks):\n",
    "    seen = set([banks])\n",
    "    for it in count(1):\n",
    "        banks = distr(banks)\n",
    "        if banks in seen: return it, banks\n",
    "        seen.add(banks)\n",
    "\n",
    "assert realloc((0, 2, 7, 0)) == (5, (2, 4, 1, 2)), 'example from challenge desc'\n",
    "assert realloc((4, 10, 4, 1, 8, 4, 9, 14, 5, 1, 14, 15, 0, 15, 3, 5))[0] == 12841, 'example from norvigs solution'\n",
    "it, s = realloc(s)\n",
    "print(h1('Day 6 part 1: infinite loop entered after {} steps'.format(it)))\n",
    "it, s = realloc(distr(s))\n",
    "print(h1('Day 6 part 2: length of infinite loop is {} steps'.format(it)))"
   ]
  },
  {
   "cell_type": "markdown",
   "metadata": {},
   "source": [
    "## Day 7"
   ]
  },
  {
   "cell_type": "code",
   "execution_count": 14,
   "metadata": {
    "collapsed": true
   },
   "outputs": [],
   "source": [
    "nodes_text = Input(7)\n",
    "test_text = '''\n",
    "pbga (66)\n",
    "xhth (57)\n",
    "ebii (61)\n",
    "havc (66)\n",
    "ktlj (57)\n",
    "fwft (72) -> ktlj, cntj, xhth\n",
    "qoyq (66)\n",
    "padx (45) -> pbga, havc, qoyq\n",
    "tknk (41) -> ugml, padx, fwft\n",
    "jptl (61)\n",
    "ugml (68) -> gyxo, ebii, jptl\n",
    "gyxo (61)\n",
    "cntj (57)'''.strip()\n",
    "\n",
    "\n",
    "class Node(object):\n",
    "    def __init__(self, name, weight, children=tuple(), parent=None):\n",
    "        self.name = name\n",
    "        self.weight = int(weight)\n",
    "        self.parent = parent\n",
    "        self.children = set(children)\n",
    "        \n",
    "    def __repr__(self):\n",
    "        chld = set(ch.name for ch in self.children)\n",
    "        fstr = 'Node(name={name}, weight={weight}, children={chld}' + (\", parent='{parent.name}'\" if self.parent else '') +')'\n",
    "        return fstr.format(chld=chld,**self.__dict__)\n",
    "    \n",
    "    @property\n",
    "    def total_weight(self):\n",
    "        return self.weight + sum(chld.total_weight for chld in self.children)\n",
    "    \n",
    "\n",
    "def set_parents(nodes):\n",
    "    '''replace the name of the node.parent with the actual parent node'''\n",
    "    for node in nodes.values():\n",
    "        for chld in node.children:\n",
    "            nodes[chld].parent = node\n",
    "    return nodes\n",
    "\n",
    "def set_children(nodes):\n",
    "    '''replace the name of the node.children with the actual child nodes'''\n",
    "    for node in nodes.values():\n",
    "        node.children = set(nodes[chld] for chld in node.children)\n",
    "    return nodes\n",
    "\n",
    "def find_root(nodes):\n",
    "    return first(node for node in nodes.values() if node.parent == None)\n",
    "\n",
    "def populate_tree(text):\n",
    "    '''build tree from input text'''\n",
    "    split = re.compile(r'\\w+').findall\n",
    "    nodes = {n: Node(n, w, c)  for n,w,*c in map(split,text.splitlines())}\n",
    "    nodes = set_parents(nodes)\n",
    "    nodes = set_children(nodes)\n",
    "    return nodes\n",
    "\n",
    "assert find_root(populate_tree(test_text)).name == 'tknk', 'example from challenge description'"
   ]
  },
  {
   "cell_type": "code",
   "execution_count": 15,
   "metadata": {},
   "outputs": [
    {
     "name": "stdout",
     "output_type": "stream",
     "text": [
      "Day 7 part 1: the root disk is \"gmcrj\".\n",
      "=======================================\n",
      "\n"
     ]
    }
   ],
   "source": [
    "tree = populate_tree(nodes_text)\n",
    "root = find_root(tree)\n",
    "print(h1('Day 7 part 1: the root disk is \"' + root.name +'\".'))"
   ]
  },
  {
   "cell_type": "code",
   "execution_count": 16,
   "metadata": {},
   "outputs": [
    {
     "name": "stdout",
     "output_type": "stream",
     "text": [
      "Day 7 part 2: the unbalanced disk is \"mdbtyw\", it should weight 391 (currently 396).\n",
      "====================================================================================\n",
      "\n"
     ]
    }
   ],
   "source": [
    "def find_unbalanced(root_node):\n",
    "    '''returns the node causing imbalance or the root node'''\n",
    "    weights = {chld: chld.total_weight for chld in root_node.children}\n",
    "    if len(set(weights.values())) == 1:\n",
    "        return root_node\n",
    "    cnt=Counter(w for _,w in weights.items())\n",
    "    odd_weight = min(cnt,key=cnt.get)\n",
    "    return find_unbalanced(first(node for node, w in weights.items() if w == odd_weight))\n",
    "\n",
    "unbalanced = find_unbalanced(root)\n",
    "balanced_weight = first(set(chld.total_weight for chld in unbalanced.parent.children) - {unbalanced.total_weight})\n",
    "diff_to_other = balanced_weight - unbalanced.total_weight\n",
    "print(h1('Day 7 part 2: the unbalanced disk is \"{}\", it should weight {} (currently {}).'.format(unbalanced.name, \n",
    "                                                                                              unbalanced.weight + diff_to_other,\n",
    "                                                                                              unbalanced.weight\n",
    "                                                                                              )))"
   ]
  },
  {
   "cell_type": "markdown",
   "metadata": {},
   "source": [
    "## Day 8"
   ]
  },
  {
   "cell_type": "code",
   "execution_count": 17,
   "metadata": {},
   "outputs": [
    {
     "name": "stdout",
     "output_type": "stream",
     "text": [
      "Day 8 part 1: highest value in any register (post execution) is 4877\n",
      "====================================================================\n",
      "\n",
      "Day 8 part 2: highest value in any register (during execution) is 5471\n",
      "======================================================================\n",
      "\n"
     ]
    }
   ],
   "source": [
    "def read_instr(text = None):\n",
    "    if text == None:\n",
    "        text = Input(8)\n",
    "    instr = text.splitlines()\n",
    "    # \"translate\" expressions\n",
    "    Instruction = namedtuple('Instruction', 'dest, op, param, cmp1, cmp_op, cmp2')\n",
    "    instr = [Instruction(*inst.replace(' if','').split(' ')) for inst in instr]\n",
    "    return instr\n",
    "\n",
    "def gen_cmp_ops(cmps):\n",
    "    '''find the int-functions that implement the needed comparisions'''\n",
    "    # get all int dunder-functions and their docs\n",
    "    op_docs = {eval('int.'+f): eval('int.'+f+'.__doc__') for f in dir(int) if f.startswith('__')}\n",
    "    # find int functions where their docs include the needed comparision\n",
    "    cmp_ops = {cmp: fun for cmp, (fun, doc) in product(cmps,op_docs.items()) if doc != None and 'self'+cmp+'value' in doc}\n",
    "    return cmp_ops\n",
    "\n",
    "def exec_instr(registers, inst, cmp_ops):\n",
    "    cmp1, cmp2 = expr(registers,inst.cmp1), expr(registers,inst.cmp2)\n",
    "    op1, op2 = expr(registers,inst.dest), expr(registers,inst.param)\n",
    "    if cmp_ops[inst.cmp_op](cmp1, cmp2):\n",
    "        registers[inst.dest] = num_op[inst.op](op1, op2)\n",
    "    return registers\n",
    "    \n",
    "# create register dict and expression lookup\n",
    "expr = lambda registers, e: registers[e] if e.isalpha() else int(e)\n",
    "# create numerical operation dict\n",
    "num_op = {'inc': int.__add__,\n",
    "          'dec': int.__sub__,\n",
    "         }\n",
    "\n",
    "def run(text=None):\n",
    "    registers = defaultdict(int)\n",
    "    instructions = read_instr(text)\n",
    "    cmp_ops = gen_cmp_ops({i.cmp_op for i in instructions})\n",
    "    max_all = 0\n",
    "    for inst in instructions:\n",
    "        registers = exec_instr(registers, inst, cmp_ops)\n",
    "        max_all = max(max_all, max(registers.values()))\n",
    "    return registers, max_all\n",
    "\n",
    "test_inst = '''b inc 5 if a > 1\n",
    "a inc 1 if b < 5\n",
    "c dec -10 if a >= 1\n",
    "c inc -20 if c == 10'''\n",
    "\n",
    "assert max(run(test_inst)[0].values()) == 1\n",
    "\n",
    "reg, max_all = run()\n",
    "print(h1('Day 8 part 1: highest value in any register (post execution) is ' + str(max(reg.values()))))\n",
    "print(h1('Day 8 part 2: highest value in any register (during execution) is ' + str(max_all)))"
   ]
  },
  {
   "cell_type": "markdown",
   "metadata": {},
   "source": [
    "## Day 9"
   ]
  },
  {
   "cell_type": "code",
   "execution_count": 18,
   "metadata": {},
   "outputs": [
    {
     "name": "stdout",
     "output_type": "stream",
     "text": [
      "Day 9 part 1: the score of the groups is 13154\n",
      "==============================================\n",
      "\n"
     ]
    }
   ],
   "source": [
    "stream = Input(9)\n",
    "trash = re.compile(r',?<(!!|!>|[^>])*>,?') # regexp that matches trash\n",
    "\n",
    "def _score(group,level=1):\n",
    "    '''score nested lists according to the rules'''\n",
    "    if group == []:\n",
    "        return level\n",
    "    return level + sum(_score(subgroup,level+1) for subgroup in group)\n",
    "\n",
    "def score(stream):\n",
    "    filtered_stream = trash.sub('',stream)   #remove trash\n",
    "    #replace {} with [] because sets of sets wont work\n",
    "    list_stream = filtered_stream.replace('{','[').replace('}',']')\n",
    "    lists = eval(list_stream) # eval as python\n",
    "    return _score(lists)\n",
    "\n",
    "# example tests from the challenge description\n",
    "assert score('{}') == 1\n",
    "assert score('{{{}}}') == 6\n",
    "assert score('{{},{}}') == 5\n",
    "assert score('{{{},{},{{}}}}') == 16\n",
    "assert score('{<a>,<a>,<a>,<a>}') == 1\n",
    "assert score('{{<ab>},{<ab>},{<ab>},{<ab>}}') == 9\n",
    "assert score('{{<!!>},{<!!>},{<!!>},{<!!>}}') == 9\n",
    "assert score('{{<a!>},{<a!>},{<a!>},{<ab>}}') == 3\n",
    "\n",
    "print(h1('Day 9 part 1: the score of the groups is ' + str(score(stream))))"
   ]
  },
  {
   "cell_type": "code",
   "execution_count": 19,
   "metadata": {},
   "outputs": [
    {
     "name": "stdout",
     "output_type": "stream",
     "text": [
      "Day 9 part 2: there are 6369 trash characters in the stream.\n",
      "============================================================\n",
      "\n"
     ]
    }
   ],
   "source": [
    "escapes = re.compile(r'!.') # matches the escape sequences specified in the challenge\n",
    "def count_trash(stream):\n",
    "    trashes = [match.group(0).strip(',')[1:-1] for match in trash.finditer(stream)]\n",
    "    clean_trashes = [escapes.sub('',trash) for trash in trashes]\n",
    "    return sum(len(trash) for trash in clean_trashes)\n",
    "\n",
    "# example tests from the challenge description\n",
    "assert count_trash('<>') ==  0\n",
    "assert count_trash('<random characters>') == 17\n",
    "assert count_trash('<<<<>') == 3\n",
    "assert count_trash('<{!>}>') == 2\n",
    "assert count_trash('<!!>') == 0\n",
    "assert count_trash('<!!!>>') == 0\n",
    "assert count_trash('<{o\"i!a,<{i<a>') == 10\n",
    "\n",
    "print(h1('Day 9 part 2: there are {} trash characters in the stream.'.format(count_trash(stream))))"
   ]
  },
  {
   "cell_type": "markdown",
   "metadata": {},
   "source": [
    "## Day 10"
   ]
  },
  {
   "cell_type": "code",
   "execution_count": 2,
   "metadata": {
    "scrolled": false
   },
   "outputs": [
    {
     "name": "stdout",
     "output_type": "stream",
     "text": [
      "Day 10 part 1: the first two numbers of the list multiplied give 15990\n",
      "======================================================================\n",
      "\n"
     ]
    }
   ],
   "source": [
    "data = Input(10)\n",
    "testlen = (3, 4, 1, 5)\n",
    "\n",
    "def knot_hash(lengths, llen=256, repeats=1):\n",
    "    clist = list(range(llen))\n",
    "    skip = 0\n",
    "    pos = 0\n",
    "    for l in chain.from_iterable(repeat(lengths,repeats)):\n",
    "        end = (pos + l) % llen\n",
    "        if l != 0:\n",
    "            if pos < end:\n",
    "                clist[pos:end] = reversed(clist[pos:end])\n",
    "            else: # if end < pos, the list wraps\n",
    "                part = list(reversed(clist[pos:] + clist[:end]))\n",
    "                clist[:end] = part[llen-pos:]\n",
    "                clist[pos:] = part[:llen-pos]\n",
    "        pos = (pos + l + skip) % llen\n",
    "        skip += 1\n",
    "    return clist\n",
    "\n",
    "assert knot_hash(testlen, 5) == [3, 4, 2, 1, 0], 'challenge example'\n",
    "\n",
    "lengths = list(map(int,data.split(',')))\n",
    "h = knot_hash(lengths)\n",
    "print(h1('Day 10 part 1: the first two numbers of the list multiplied give ' + str(h[0] * h[1])))"
   ]
  },
  {
   "cell_type": "code",
   "execution_count": 3,
   "metadata": {},
   "outputs": [
    {
     "name": "stdout",
     "output_type": "stream",
     "text": [
      "Day 10 part 2: the knot hash of the input data is 90adb097dd55dea8305c900372258ac6\n",
      "==================================================================================\n",
      "\n"
     ]
    }
   ],
   "source": [
    "def super_knots(data):\n",
    "    lenghts = [ord(c) for c in data] + [17, 31, 73, 47, 23] # as per description\n",
    "    sparse = knot_hash(lenghts,llen=256,repeats=64) \n",
    "    dense = [reduce(operator.xor,sparse[16*i:16*(i+1)]) for i in range(16)]\n",
    "    hexhash = cat('{:02X}'.format(x) for x in dense).lower()\n",
    "    return hexhash\n",
    "\n",
    "assert super_knots('') == 'a2582a3a0e66e6e86e3812dcb672a272'\n",
    "assert super_knots('AoC 2017') == '33efeb34ea91902bb2f59c9920caa6cd'\n",
    "assert super_knots('1,2,3') == '3efbe78a8d82f29979031a4aa0b16a9d'\n",
    "assert super_knots('1,2,4') == '63960835bcdc130f0b66d7ff4f6a5a8e'\n",
    "\n",
    "print(h1('Day 10 part 2: the knot hash of the input data is ' + super_knots(data)))"
   ]
  },
  {
   "cell_type": "markdown",
   "metadata": {},
   "source": [
    "## Day 11"
   ]
  },
  {
   "cell_type": "code",
   "execution_count": 22,
   "metadata": {},
   "outputs": [
    {
     "name": "stdout",
     "output_type": "stream",
     "text": [
      "Day 11 part 1: total distance reached from startpos is 705\n",
      "==========================================================\n",
      "\n"
     ]
    }
   ],
   "source": [
    "path = Input(11).split(',')\n",
    "c = Counter(path)\n",
    "dirs = (c['n']-c['s'],c['ne']-c['sw'],c['se']-c['nw'])\n",
    "\n",
    "def hex_dist(a,b=Vector(0,0,0)):\n",
    "    return .5 * sum(map(abs,Vector(a)-Vector(b)))\n",
    "\n",
    "#hex unit-vectors:\n",
    "n_dir = Vector(0,1,-1)\n",
    "ne_dir = Vector(1,0,-1)\n",
    "se_dir = Vector(1,-1,0)\n",
    "\n",
    "pos = n_dir * (c['n']-c['s']) + ne_dir * (c['ne']-c['sw']) + se_dir * (c['se']-c['nw'])\n",
    "print(h1('Day 11 part 1: total distance reached from startpos is '+ str(int(hex_dist(pos)))))"
   ]
  },
  {
   "cell_type": "code",
   "execution_count": 23,
   "metadata": {},
   "outputs": [
    {
     "name": "stdout",
     "output_type": "stream",
     "text": [
      "Day 11 part 2: furthest distance reached from startpos is 1469\n",
      "==============================================================\n",
      "\n"
     ]
    }
   ],
   "source": [
    "c = Counter()\n",
    "max_dist = 0\n",
    "for node in path:\n",
    "    c.update([node])\n",
    "    pos = n_dir * (c['n']-c['s']) + ne_dir * (c['ne']-c['sw']) + se_dir * (c['se']-c['nw'])\n",
    "    max_dist = max(max_dist, hex_dist(pos))\n",
    "print(h1('Day 11 part 2: furthest distance reached from startpos is '+ str(int(max_dist))))"
   ]
  },
  {
   "cell_type": "markdown",
   "metadata": {},
   "source": [
    "## Day 12"
   ]
  },
  {
   "cell_type": "code",
   "execution_count": 27,
   "metadata": {},
   "outputs": [
    {
     "name": "stdout",
     "output_type": "stream",
     "text": [
      "Day 12 part 1: there are 306 programs reachable from program 0\n",
      "==============================================================\n",
      "\n",
      "Day 12 part 2: there are 200 isolated program groups\n",
      "====================================================\n",
      "\n"
     ]
    }
   ],
   "source": [
    "data = Input(12).splitlines()\n",
    "subgraphs = []\n",
    "for line in data:\n",
    "    nodes = ints(line)\n",
    "    subgraphs.append(set(nodes))\n",
    "\n",
    "disjoint_subgraphs = []\n",
    "for sg_new in subgraphs:\n",
    "    sgs_temp = []\n",
    "    for sg in disjoint_subgraphs:\n",
    "        if sg & sg_new: \n",
    "            sg_new |= sg\n",
    "        else: \n",
    "            sgs_temp.append(sg)\n",
    "    sgs_temp.append(sg_new)\n",
    "    disjoint_subgraphs = sgs_temp\n",
    "\n",
    "group_zero = first(filter(lambda s: 0 in s, disjoint_subgraphs))\n",
    "    \n",
    "print(h1('Day 12 part 1: there are {} programs reachable from program 0'.format(len(group_zero))))\n",
    "print(h1('Day 12 part 2: there are {} isolated program groups'.format(len(disjoint_subgraphs))))"
   ]
  },
  {
   "cell_type": "markdown",
   "metadata": {},
   "source": [
    "## Day 13"
   ]
  },
  {
   "cell_type": "code",
   "execution_count": 19,
   "metadata": {},
   "outputs": [
    {
     "name": "stdout",
     "output_type": "stream",
     "text": [
      "Day 13 part 1: breach severity level is 1840\n",
      "============================================\n",
      "\n"
     ]
    }
   ],
   "source": [
    "data = list(map(ints, Input(13).splitlines()))\n",
    "severity = lambda layers, delay=0: sum(r*d for r,d in layers if (r + delay) % (2*(d-1)) == 0)\n",
    "assert severity([[0, 3], [1, 2], [4, 4], [6, 4]]) == 24, 'challenge example'\n",
    "print(h1('Day 13 part 1: breach severity level is ' + str(severity(data))))"
   ]
  },
  {
   "cell_type": "code",
   "execution_count": 40,
   "metadata": {},
   "outputs": [
    {
     "name": "stdout",
     "output_type": "stream",
     "text": [
      "Day 13 part 2: wait for 3850260 ps for safe passage.\n",
      "====================================================\n",
      "\n"
     ]
    }
   ],
   "source": [
    "not_caught = lambda layers, delay=0: all((r + delay) % (2*(d-1)) for r,d in layers)\n",
    "\n",
    "def first_safe_path(data):\n",
    "    return first(filter(lambda t: caught(data,t),count()))\n",
    "\n",
    "assert not_caught([[0, 3], [1, 2], [4, 4], [6, 4]],10), 'challenge example'\n",
    "assert first_safe_path([[0, 3], [1, 2], [4, 4], [6, 4]]) == 10 , 'challenge example'\n",
    "\n",
    "print(h1('Day 13 part 2: wait for {} ps for safe passage.'.format(first_safe_path(data))))"
   ]
  },
  {
   "cell_type": "markdown",
   "metadata": {},
   "source": [
    "## Day 14"
   ]
  },
  {
   "cell_type": "code",
   "execution_count": 4,
   "metadata": {},
   "outputs": [
    {
     "name": "stdout",
     "output_type": "stream",
     "text": [
      "Day 14 part 1: there are 8106 used squares in the grid\n",
      "======================================================\n",
      "\n"
     ]
    }
   ],
   "source": [
    "passwd = Input(14)\n",
    "def binhash(n=128,passwd=passwd):\n",
    "    for row in range(n):\n",
    "        hexhash = super_knots(passwd+'-'+str(row))  # See Day 10\n",
    "        yield '{:0>128b}'.format(int(hexhash,16))\n",
    "\n",
    "count_used = lambda passwd: cat(row for row in binhash(passwd=passwd)).count('1')\n",
    "\n",
    "assert count_used('flqrgnkx') == 8108, \"challenge example\"\n",
    "\n",
    "print(h1('Day 14 part 1: there are {} used squares in the grid'.format(count_used(passwd))))"
   ]
  },
  {
   "cell_type": "code",
   "execution_count": 11,
   "metadata": {},
   "outputs": [
    {
     "name": "stdout",
     "output_type": "stream",
     "text": [
      "Day 14 part 2: there are 1164 disjoint groups found in the grid\n",
      "===============================================================\n",
      "\n"
     ]
    }
   ],
   "source": [
    "def group_grid(passwd):\n",
    "    grid = [row for row in binhash(passwd=passwd)]\n",
    "    ungrouped = {(i,j) for i,j in product(range(len(grid)),repeat=2) if grid[i][j] == '1'}\n",
    "    while ungrouped:\n",
    "        group = set()\n",
    "        candidates = (ungrouped.pop(),)\n",
    "        while candidates:\n",
    "            candidate, *candidates = candidates\n",
    "            group.add(candidate)\n",
    "            ungrouped.discard(candidate)\n",
    "            candidates.extend(cn for cn in neighbors4(candidate) if cn not in group and cn in ungrouped)\n",
    "        yield group\n",
    "\n",
    "assert len(list(group_grid('flqrgnkx'))) == 1242, 'challenge example'\n",
    "\n",
    "print(h1('Day 14 part 2: there are {} disjoint groups found in the grid'.format(len(list(group_grid(passwd))))))"
   ]
  },
  {
   "cell_type": "markdown",
   "metadata": {},
   "source": [
    "## Day 15"
   ]
  },
  {
   "cell_type": "code",
   "execution_count": 80,
   "metadata": {
    "collapsed": false
   },
   "outputs": [
    {
     "name": "stdout",
     "output_type": "stream",
     "text": [
      "Wall time: 28.4 s\n"
     ]
    }
   ],
   "source": [
    "A_start, B_start = ints(Input(15))\n",
    "N = 40000000\n",
    "FA = 16807\n",
    "FB = 48271\n",
    "DIV = 2147483647\n",
    "\n",
    "def generator_pairs(a, b, N=None):\n",
    "    for _ in (range(N) if N else count()):\n",
    "        a, b = a * FA % DIV, b * FB % DIV\n",
    "        yield a, b\n",
    "\n",
    "def judge_pairs(pair_iter):\n",
    "    for i, (a, b) in enumerate(pair_iter):\n",
    "        if (a-b) % 2**16 == 0: yield i\n",
    "            \n",
    "%time assert ilen(judge_pairs(generator_pairs(65, 8921, N))) == 588, 'challenge example part 1'"
   ]
  },
  {
   "cell_type": "code",
   "execution_count": 43,
   "metadata": {
    "collapsed": false
   },
   "outputs": [
    {
     "name": "stdout",
     "output_type": "stream",
     "text": [
      "Wall time: 29.1 s\n",
      "Day 15 part 1: final count is 592\n",
      "=================================\n",
      "\n"
     ]
    }
   ],
   "source": [
    "%time fcount = ilen(judge_pairs(generator_pairs(A_start, B_start, N)))\n",
    "print(h1('Day 15 part 1: final count is ' + str(fcount)))"
   ]
  },
  {
   "cell_type": "code",
   "execution_count": 85,
   "metadata": {
    "collapsed": false
   },
   "outputs": [
    {
     "name": "stdout",
     "output_type": "stream",
     "text": [
      "Wall time: 19.4 s\n"
     ]
    }
   ],
   "source": [
    "N = 5000000\n",
    "MOD_A = 4\n",
    "MOD_B = 8\n",
    "\n",
    "def generator(val, fact, mod=1, N=None):\n",
    "    cnt = count()\n",
    "    while True:\n",
    "        val = val * fact % DIV\n",
    "        if 0 == val % mod:\n",
    "            yield val\n",
    "            if next(cnt) == N-1:\n",
    "                return\n",
    "\n",
    "assert list(zip(generator(65,FA,1,5),generator(8921,FB,1,5))) == list(generator_pairs(65,8921,5))\n",
    "\n",
    "gen_pairs = lambda a, b, N: zip(generator(a,FA,MOD_A,N),generator(b,FB,MOD_B,N))\n",
    "assert first(judge_pairs(gen_pairs(65,8921,1056))) == 1055\n",
    "%time assert ilen(judge_pairs(gen_pairs(65,8921,N))) == 309"
   ]
  },
  {
   "cell_type": "code",
   "execution_count": 86,
   "metadata": {
    "collapsed": false
   },
   "outputs": [
    {
     "name": "stdout",
     "output_type": "stream",
     "text": [
      "Wall time: 19.4 s\n",
      "Day 15 part 2: final count is 320\n",
      "=================================\n",
      "\n"
     ]
    }
   ],
   "source": [
    "%time fcount = ilen(judge_pairs(gen_pairs(A_start, B_start, N)))\n",
    "print(h1('Day 15 part 2: final count is ' + str(fcount)))"
   ]
  },
  {
   "cell_type": "markdown",
   "metadata": {},
   "source": [
    "## Day 16"
   ]
  },
  {
   "cell_type": "code",
   "execution_count": null,
   "metadata": {},
   "outputs": [],
   "source": [
    "data = Input(16)"
   ]
  },
  {
   "cell_type": "markdown",
   "metadata": {},
   "source": [
    "## Day 16\n",
    "\n",
    "- Spin, written **sX**, makes X programs move from the end to the front, but maintain their order otherwise. (For example, s3 on abcde produces cdeab).\n",
    "- Exchange, written **xA/B**, makes the programs at positions A and B swap places.\n",
    "- Partner, written **pA/B**, makes the programs named A and B swap places.\n"
   ]
  },
  {
   "cell_type": "code",
   "execution_count": 75,
   "metadata": {},
   "outputs": [
    {
     "name": "stdout",
     "output_type": "stream",
     "text": [
      "Day 16 part 1: state after the dance: lgpkniodmjacfbeh\n",
      "======================================================\n",
      "\n"
     ]
    }
   ],
   "source": [
    "instr = Input(16).split(',')\n",
    "passwd = string.ascii_lowercase[:16]\n",
    "\n",
    "# lambdas, beautiful and readable!\n",
    "spin     = lambda s, n: s[-int(n):] + s[:-int(n)]\n",
    "swap_pos = lambda s, x, y: s[:min(int(x),int(y))] + s[max(int(x),int(y))] + s[min(int(x),int(y))+1:max(int(x),int(y))] + s[min(int(x),int(y))] + s[max(int(x),int(y))+1:]\n",
    "swap_let = lambda s, x, y: swap_pos(s,s.index(x),s.index(y))\n",
    "\n",
    "functions = [spin, swap_pos, swap_let]\n",
    "\n",
    "patterns = [re.compile(r's(\\d+)'),\n",
    "            re.compile(r'x(\\d+)/(\\d+)'),\n",
    "            re.compile(r'p(\\w)/(\\w)'),\n",
    "            ]\n",
    "\n",
    "patfun = list(zip(patterns, functions))\n",
    "\n",
    "def scramble(instructions, passwd):\n",
    "    for inst in instructions:\n",
    "        for pat, fun in patfun:\n",
    "            match = pat.match(inst)\n",
    "            if match:\n",
    "                passwd = fun(passwd, *match.groups())\n",
    "                break\n",
    "    return passwd\n",
    "\n",
    "assert scramble(['s1','x3/4','pe/b'],'abcde') == 'baedc'\n",
    "print(h1('Day 16 part 1: state after the dance: ' + scramble(instr, passwd)))"
   ]
  },
  {
   "cell_type": "code",
   "execution_count": 77,
   "metadata": {},
   "outputs": [
    {
     "name": "stdout",
     "output_type": "stream",
     "text": [
      "detected loop of length 42 starting at iteration 0\n",
      "\n",
      "Day 16 part 2: state after the 1000000000th dance: hklecbpnjigoafmd\n",
      "===================================================================\n",
      "\n"
     ]
    }
   ],
   "source": [
    "passwd = string.ascii_lowercase[:16]\n",
    "\n",
    "pwds = dict()\n",
    "for i in count():\n",
    "    passwd = scramble(instr, passwd)\n",
    "    if passwd not in pwds:\n",
    "        pwds[passwd] = i\n",
    "    else:\n",
    "        print('detected loop of length {} starting at iteration {}\\n'.format(i-pwds[passwd],pwds[passwd]))\n",
    "        break\n",
    "loop_length, loop_start = i-pwds[passwd],pwds[passwd]\n",
    "\n",
    "N = 1000000000\n",
    "actual_N = loop_start + ((N - loop_start-1) % loop_length)\n",
    "result = first(pwd for pwd,ndx in pwds.items() if ndx == actual_N)\n",
    "print(h1('Day 16 part 2: state after the 1000000000th dance: ' + result))"
   ]
  },
  {
   "cell_type": "markdown",
   "metadata": {},
   "source": [
    "## Day 17"
   ]
  },
  {
   "cell_type": "code",
   "execution_count": 48,
   "metadata": {},
   "outputs": [
    {
     "name": "stdout",
     "output_type": "stream",
     "text": [
      "Day 17 part 1: value of register is: 1971\n",
      "=========================================\n",
      "\n"
     ]
    }
   ],
   "source": [
    "step = int(Input(17)) # 303\n",
    "state = [0]\n",
    "pos = 0\n",
    "for i in range(1,2018):\n",
    "    pos = (pos - step) % len(state) # build in reverse to use insert\n",
    "    state.insert(pos, i)\n",
    "print(h1('Day 17 part 1: value of register is: ' + str(state[state.index(2017)-1])))"
   ]
  },
  {
   "cell_type": "code",
   "execution_count": 49,
   "metadata": {},
   "outputs": [
    {
     "name": "stdout",
     "output_type": "stream",
     "text": [
      "CPU times: user 4.59 s, sys: 0 ns, total: 4.59 s\n",
      "Wall time: 4.59 s\n",
      "Day 17 part 1: value of register 1 after 50000000 iterations is: 17202899\n",
      "=========================================================================\n",
      "\n"
     ]
    }
   ],
   "source": [
    "def spinlock(step, N):\n",
    "    pos = 0\n",
    "    p = 0\n",
    "    for i in range(1,N):\n",
    "        pos = 1 + (pos + step) % i\n",
    "        if pos == 1:\n",
    "            p = i\n",
    "    return p\n",
    "%time result = spinlock(step,50000000)\n",
    "print(h1('Day 17 part 1: value of register 1 after 50000000 iterations is: ' + str(result)))"
   ]
  },
  {
   "cell_type": "markdown",
   "metadata": {},
   "source": [
    "## Day 18"
   ]
  },
  {
   "cell_type": "code",
   "execution_count": null,
   "metadata": {},
   "outputs": [],
   "source": [
    "data = Input(18)"
   ]
  }
 ],
 "metadata": {
  "kernelspec": {
   "display_name": "Python 3",
   "language": "python",
   "name": "python3"
  },
  "language_info": {
   "codemirror_mode": {
    "name": "ipython",
    "version": 3
   },
   "file_extension": ".py",
   "mimetype": "text/x-python",
   "name": "python",
   "nbconvert_exporter": "python",
   "pygments_lexer": "ipython3",
   "version": "3.5.2"
  }
 },
 "nbformat": 4,
 "nbformat_minor": 1
}
