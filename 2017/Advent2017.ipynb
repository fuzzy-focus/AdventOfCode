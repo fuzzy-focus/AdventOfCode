{
 "cells": [
  {
   "cell_type": "markdown",
   "metadata": {},
   "source": [
    "# Advent of Code 2017\n",
    "\n",
    "[see here](https://adventofcode.com/2017/)"
   ]
  },
  {
   "cell_type": "markdown",
   "metadata": {},
   "source": [
    "## Preparation\n",
    "\n",
    "import of some useful libs and definition of some common utility functions"
   ]
  },
  {
   "cell_type": "code",
   "execution_count": 11,
   "metadata": {},
   "outputs": [],
   "source": [
    "# Python 3.x\n",
    "import re\n",
    "import numpy as np\n",
    "import math\n",
    "import urllib.request\n",
    "import reprlib\n",
    "\n",
    "from collections import Counter, defaultdict, namedtuple, deque\n",
    "from functools   import lru_cache\n",
    "from itertools   import permutations, combinations, chain, cycle, product, islice\n",
    "from heapq       import heappop, heappush\n",
    "\n",
    "def Input(day,strip=True):\n",
    "    \"Open this day's input file.\"\n",
    "    \n",
    "    filename = 'input/input{}.txt'.format(day)\n",
    "    try:\n",
    "        with open(filename, 'r') as f:\n",
    "            text = f.read()\n",
    "            if strip:\n",
    "                text = text.strip()\n",
    "        return text\n",
    "    except FileNotFoundError:\n",
    "        url = 'http://adventofcode.com/2017/day/{}/input'.format(day)\n",
    "        print('input file not found. opening browser...')\n",
    "        print('please save the file as \"input<#day>.txt in your input folder.')\n",
    "        import webbrowser\n",
    "        webbrowser.open(url)\n",
    "\n",
    "cat = ''.join\n",
    "first = lambda x: list(x)[0]\n",
    "\n",
    "def shift(it, n):\n",
    "    return it[n:] + it[:n]\n",
    "\n",
    "def rot(original,clockwise=True):\n",
    "    '''rotate 2D matrix'''\n",
    "    if clockwise:\n",
    "        return list(zip(*original[::-1]))\n",
    "    else:\n",
    "        return list(zip(*original[::-1]))[::-1]\n",
    "\n",
    "def locate2D(m, val):\n",
    "    '''locate value in 2D list'''\n",
    "    for i, line in enumerate(m):\n",
    "        j=-1\n",
    "        try:\n",
    "            j = line.index(val)\n",
    "        except ValueError:\n",
    "            continue\n",
    "        break\n",
    "    else:\n",
    "        i = -1\n",
    "    return (i,j)\n",
    "\n",
    "def dist_L1(p1,p2=(0,0)):\n",
    "    return abs(p2[0]-p1[0])+abs(p2[1]-p1[1])\n",
    "\n",
    "def dist_L2(p1,p2=(0,0)):\n",
    "    return math.hypot(p2[0]-p1[0],p2[1]-p1[1])\n",
    "\n",
    "def neighbors4(point): \n",
    "    \"The four neighbors (without diagonals).\"\n",
    "    x, y = point\n",
    "    return ((x+1, y), (x-1, y), (x, y+1), (x, y-1))\n",
    "\n",
    "def neighbors8(point): \n",
    "    \"The eight neighbors (with diagonals).\"\n",
    "    x, y = point \n",
    "    return ((x+1, y), (x-1, y), (x, y+1), (x, y-1),\n",
    "            (x+1, y+1), (x-1, y-1), (x+1, y-1), (x-1, y+1))\n",
    "\n",
    "#display and debug functions\n",
    "def h1(s):\n",
    "    return s + '\\n' + '='*len(s) + '\\n'\n",
    "\n",
    "def trace1(f):\n",
    "    \"Print a trace of the input and output of a function on one line.\"\n",
    "    def traced_f(*args):\n",
    "        result = f(*args)\n",
    "        print('{}({}) = {}'.format(f.__name__, ', '.join(map(reprlib.repr, args)), result))\n",
    "        return result\n",
    "    return traced_f"
   ]
  },
  {
   "cell_type": "markdown",
   "metadata": {},
   "source": [
    "## Day 1"
   ]
  },
  {
   "cell_type": "code",
   "execution_count": 2,
   "metadata": {},
   "outputs": [
    {
     "name": "stdout",
     "output_type": "stream",
     "text": [
      "Day 1 part 1 result: 995\n",
      "========================\n",
      "\n"
     ]
    }
   ],
   "source": [
    "captcha = Input(1)\n",
    "matching = (int(x) for x,y in zip(captcha,shift(captcha,1)) if x==y)\n",
    "print(h1('Day 1 part 1 result: ' +str(sum(matching))))"
   ]
  },
  {
   "cell_type": "code",
   "execution_count": 3,
   "metadata": {},
   "outputs": [
    {
     "name": "stdout",
     "output_type": "stream",
     "text": [
      "Day 1 part 2 result: 1130\n",
      "=========================\n",
      "\n"
     ]
    }
   ],
   "source": [
    "matching = (int(x) for x,y in zip(captcha,shift(captcha,len(captcha)//2)) if x==y)\n",
    "print(h1('Day 1 part 2 result: ' +str(sum(matching))))"
   ]
  },
  {
   "cell_type": "markdown",
   "metadata": {},
   "source": [
    "## Day 2"
   ]
  },
  {
   "cell_type": "code",
   "execution_count": 4,
   "metadata": {},
   "outputs": [
    {
     "name": "stdout",
     "output_type": "stream",
     "text": [
      "Checksum is 48357\n",
      "=================\n",
      "\n"
     ]
    }
   ],
   "source": [
    "ss = Input(2)\n",
    "numbers = [[int(x) for x in line.split('\\t')] for line in ss.split('\\n')]\n",
    "checksum = sum(max(line)-min(line) for line in numbers)\n",
    "print(h1('Checksum is '+str(checksum)))"
   ]
  },
  {
   "cell_type": "code",
   "execution_count": 5,
   "metadata": {},
   "outputs": [
    {
     "name": "stdout",
     "output_type": "stream",
     "text": [
      "Result is 351\n",
      "=============\n",
      "\n"
     ]
    }
   ],
   "source": [
    "result = sum(first(int(max(x)/min(x)) for x in combinations(line,2) if max(x)%min(x) == 0) for line in numbers)\n",
    "print(h1('Result is '+str(result)))"
   ]
  },
  {
   "cell_type": "markdown",
   "metadata": {},
   "source": [
    "## Day 3"
   ]
  },
  {
   "cell_type": "code",
   "execution_count": 10,
   "metadata": {},
   "outputs": [
    {
     "name": "stdout",
     "output_type": "stream",
     "text": [
      "Test Spiral for N=7:\n",
      "====================\n",
      "\n",
      "37 36 35 34 33 32 31\n",
      "38 17 16 15 14 13 30\n",
      "39 18  5  4  3 12 29\n",
      "40 19  6  1  2 11 28\n",
      "41 20  7  8  9 10 27\n",
      "42 21 22 23 24 25 26\n",
      "43 44 45 46 47 48 49\n"
     ]
    }
   ],
   "source": [
    "s = int(Input(3))\n",
    "N = math.ceil(math.sqrt(s)) # minimum square size that contains s\n",
    "\n",
    "def disp_spiral(sp):\n",
    "    '''pretty-print spiral'''\n",
    "    sp = list(sp)\n",
    "    m = len(str(max(max(line) for line in sp)))\n",
    "    print('\\n'.join(' '.join('{: >{}}'.format(num,m) for num in line) for line in sp))\n",
    "    \n",
    "def gen_spiral(N):\n",
    "    '''generate NxN spiral (highest number n^2)'''\n",
    "    nums = [[j for j in range((i-1)*(i-1)+1,i*i+1)] for i in range(2,N+1)]\n",
    "    square = [[1]]\n",
    "    for num in nums:\n",
    "        a, b = num[:len(square)],num[len(square):]\n",
    "        square = rot(square) + [a]\n",
    "        square = rot(square) + [b]\n",
    "    return square\n",
    "\n",
    "print(h1('Test Spiral for N=7:'))\n",
    "disp_spiral(gen_spiral(7))"
   ]
  },
  {
   "cell_type": "code",
   "execution_count": 7,
   "metadata": {},
   "outputs": [
    {
     "name": "stdout",
     "output_type": "stream",
     "text": [
      "Part 1: 430 steps needed\n",
      "========================\n",
      "\n"
     ]
    }
   ],
   "source": [
    "sp = gen_spiral(N)\n",
    "d = dist_L1(locate2D(sp, 1),locate2D(sp, s))\n",
    "print(h1('Part 1: ' + str(d) + ' steps needed'))"
   ]
  },
  {
   "cell_type": "code",
   "execution_count": 8,
   "metadata": {},
   "outputs": [
    {
     "name": "stdout",
     "output_type": "stream",
     "text": [
      "Part 2: first value written larger than the puzzle input (312051) is 312453\n",
      "===========================================================================\n",
      "\n",
      "The generated spiral:\n",
      " 17370  17008  16295  15252  14267  13486   6591      0\n",
      " 35487    362    351    330    304    147   6444      0\n",
      " 37402    747     11     10      5    142   6155      0\n",
      " 39835    806     23      1      4    133   5733 312453\n",
      " 42452    880     25      1      2    122   5336 295229\n",
      " 45220    931     26     54     57     59   5022 279138\n",
      " 47108    957   1968   2105   2275   2391   2450 266330\n",
      " 48065  98098 103128 109476 116247 123363 128204 130654\n"
     ]
    }
   ],
   "source": [
    "ns = [[0 for _ in range(N)] for _ in range(N)] #generate zero filled square of same size\n",
    "x,y = locate2D(sp,1) # use spiral as index\n",
    "ns[x][y] = 1\n",
    "i,n = 1,1\n",
    "while n < s:\n",
    "    i+=1\n",
    "    x,y = locate2D(sp,i)\n",
    "    neighbors = neighbors8((x,y))\n",
    "    n = 0\n",
    "    for xn, yn in neighbors:\n",
    "        try: n += ns[xn][yn]\n",
    "        except IndexError: pass\n",
    "    ns[x][y] = n\n",
    "print(h1('Part 2: first value written larger than the puzzle input (' + str(s) + ') is ' + str(n)))\n",
    "print('The generated spiral:')\n",
    "disp_spiral([line for line in rot([line for line in ns if any(line)]) if any(line)])"
   ]
  },
  {
   "cell_type": "markdown",
   "metadata": {},
   "source": [
    "## Day 4"
   ]
  },
  {
   "cell_type": "code",
   "execution_count": null,
   "metadata": {},
   "outputs": [],
   "source": [
    "s = Input(4)"
   ]
  }
 ],
 "metadata": {
  "kernelspec": {
   "display_name": "Python 3",
   "language": "python",
   "name": "python3"
  },
  "language_info": {
   "codemirror_mode": {
    "name": "ipython",
    "version": 3
   },
   "file_extension": ".py",
   "mimetype": "text/x-python",
   "name": "python",
   "nbconvert_exporter": "python",
   "pygments_lexer": "ipython3",
   "version": "3.5.2"
  }
 },
 "nbformat": 4,
 "nbformat_minor": 1
}
