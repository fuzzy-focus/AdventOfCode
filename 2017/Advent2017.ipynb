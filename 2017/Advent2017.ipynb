{
 "cells": [
  {
   "cell_type": "markdown",
   "metadata": {},
   "source": [
    "# Advent of Code 2017\n",
    "\n",
    "[see here](https://adventofcode.com/2017/)"
   ]
  },
  {
   "cell_type": "markdown",
   "metadata": {},
   "source": [
    "## Preparation\n",
    "\n",
    "import of some useful libs and definition of some common utility functions"
   ]
  },
  {
   "cell_type": "code",
   "execution_count": 1,
   "metadata": {},
   "outputs": [],
   "source": [
    "# Python 3.x\n",
    "import re\n",
    "import numpy as np\n",
    "import math\n",
    "import urllib.request\n",
    "import reprlib\n",
    "\n",
    "from collections import Counter, defaultdict, namedtuple, deque\n",
    "from functools   import lru_cache\n",
    "from itertools   import permutations, combinations, chain, cycle, product, islice, count\n",
    "from heapq       import heappop, heappush\n",
    "\n",
    "def Input(day,strip=True):\n",
    "    \"Open this day's input file.\"\n",
    "    \n",
    "    filename = 'input/input{}.txt'.format(day)\n",
    "    try:\n",
    "        with open(filename, 'r') as f:\n",
    "            text = f.read()\n",
    "            if strip:\n",
    "                text = text.strip()\n",
    "        return text\n",
    "    except FileNotFoundError:\n",
    "        url = 'http://adventofcode.com/2017/day/{}/input'.format(day)\n",
    "        print('input file not found. opening browser...')\n",
    "        print('please save the file as \"input<#day>.txt in your input folder.')\n",
    "        import webbrowser\n",
    "        webbrowser.open(url)\n",
    "\n",
    "cat = ''.join\n",
    "first = lambda x: list(x)[0]\n",
    "def fs(*items): return frozenset(items)\n",
    "\n",
    "def shift(it, n):\n",
    "    return it[n:] + it[:n]\n",
    "\n",
    "def rot(original,clockwise=True):\n",
    "    '''rotate 2D matrix'''\n",
    "    if clockwise:\n",
    "        return list(zip(*original[::-1]))\n",
    "    else:\n",
    "        return list(zip(*original[::-1]))[::-1]\n",
    "\n",
    "def locate2D(m, val):\n",
    "    '''locate value in 2D list'''\n",
    "    for i, line in enumerate(m):\n",
    "        j=-1\n",
    "        try:\n",
    "            j = line.index(val)\n",
    "        except ValueError:\n",
    "            continue\n",
    "        break\n",
    "    else:\n",
    "        i = -1\n",
    "    return (i,j)\n",
    "\n",
    "def dist_L1(p1,p2=(0,0)):\n",
    "    return abs(p2[0]-p1[0])+abs(p2[1]-p1[1])\n",
    "\n",
    "def dist_L2(p1,p2=(0,0)):\n",
    "    return math.hypot(p2[0]-p1[0],p2[1]-p1[1])\n",
    "\n",
    "def neighbors4(point): \n",
    "    \"The four neighbors (without diagonals).\"\n",
    "    x, y = point\n",
    "    return ((x+1, y), (x-1, y), (x, y+1), (x, y-1))\n",
    "\n",
    "def neighbors8(point): \n",
    "    \"The eight neighbors (with diagonals).\"\n",
    "    x, y = point \n",
    "    return ((x+1, y), (x-1, y), (x, y+1), (x, y-1),\n",
    "            (x+1, y+1), (x-1, y-1), (x+1, y-1), (x-1, y+1))\n",
    "\n",
    "#display and debug functions\n",
    "def h1(s):\n",
    "    upr, brd, lwr = '▁', '█', '▔'\n",
    "    return upr*(len(s)+4) + '\\n'+brd+' ' + s + ' ' + brd +'\\n' + lwr*(len(s)+4)\n",
    "\n",
    "def h2(s):\n",
    "    return s + '\\n' + '-'*len(s) + '\\n'\n",
    "\n",
    "def trace1(f):\n",
    "    \"Print a trace of the input and output of a function on one line.\"\n",
    "    rep = reprlib.aRepr\n",
    "    rep.maxother = 85\n",
    "    def traced_f(*args):\n",
    "        arg_strs = ', '.join(map(rep.repr, args))\n",
    "        result = f(*args)\n",
    "        print('{}({}) = {}'.format(f.__name__, arg_strs, result))\n",
    "        return result\n",
    "    return traced_f"
   ]
  },
  {
   "cell_type": "markdown",
   "metadata": {},
   "source": [
    "## Day 1"
   ]
  },
  {
   "cell_type": "code",
   "execution_count": 2,
   "metadata": {},
   "outputs": [
    {
     "name": "stdout",
     "output_type": "stream",
     "text": [
      "▁▁▁▁▁▁▁▁▁▁▁▁▁▁▁▁▁▁▁▁▁▁▁▁▁▁▁▁\n",
      "█ Day 1 part 1 result: 995 █\n",
      "▔▔▔▔▔▔▔▔▔▔▔▔▔▔▔▔▔▔▔▔▔▔▔▔▔▔▔▔\n"
     ]
    }
   ],
   "source": [
    "captcha = Input(1)\n",
    "matching = (int(x) for x,y in zip(captcha,shift(captcha,1)) if x==y)\n",
    "print(h1('Day 1 part 1 result: ' +str(sum(matching))))"
   ]
  },
  {
   "cell_type": "code",
   "execution_count": 3,
   "metadata": {},
   "outputs": [
    {
     "name": "stdout",
     "output_type": "stream",
     "text": [
      "▁▁▁▁▁▁▁▁▁▁▁▁▁▁▁▁▁▁▁▁▁▁▁▁▁▁▁▁▁\n",
      "█ Day 1 part 2 result: 1130 █\n",
      "▔▔▔▔▔▔▔▔▔▔▔▔▔▔▔▔▔▔▔▔▔▔▔▔▔▔▔▔▔\n"
     ]
    }
   ],
   "source": [
    "matching = (int(x) for x,y in zip(captcha,shift(captcha,len(captcha)//2)) if x==y)\n",
    "print(h1('Day 1 part 2 result: ' +str(sum(matching))))"
   ]
  },
  {
   "cell_type": "markdown",
   "metadata": {},
   "source": [
    "## Day 2"
   ]
  },
  {
   "cell_type": "code",
   "execution_count": 4,
   "metadata": {},
   "outputs": [
    {
     "name": "stdout",
     "output_type": "stream",
     "text": [
      "▁▁▁▁▁▁▁▁▁▁▁▁▁▁▁▁▁▁▁▁▁\n",
      "█ Checksum is 48357 █\n",
      "▔▔▔▔▔▔▔▔▔▔▔▔▔▔▔▔▔▔▔▔▔\n"
     ]
    }
   ],
   "source": [
    "ss = Input(2)\n",
    "numbers = [[int(x) for x in line.split('\\t')] for line in ss.split('\\n')]\n",
    "checksum = sum(max(line)-min(line) for line in numbers)\n",
    "print(h1('Checksum is '+str(checksum)))"
   ]
  },
  {
   "cell_type": "code",
   "execution_count": 5,
   "metadata": {},
   "outputs": [
    {
     "name": "stdout",
     "output_type": "stream",
     "text": [
      "▁▁▁▁▁▁▁▁▁▁▁▁▁▁▁▁▁\n",
      "█ Result is 351 █\n",
      "▔▔▔▔▔▔▔▔▔▔▔▔▔▔▔▔▔\n"
     ]
    }
   ],
   "source": [
    "result = sum(first(int(max(x)/min(x)) for x in combinations(line,2) if max(x)%min(x) == 0) for line in numbers)\n",
    "print(h1('Result is '+str(result)))"
   ]
  },
  {
   "cell_type": "markdown",
   "metadata": {},
   "source": [
    "## Day 3"
   ]
  },
  {
   "cell_type": "code",
   "execution_count": 6,
   "metadata": {},
   "outputs": [
    {
     "name": "stdout",
     "output_type": "stream",
     "text": [
      "Test Spiral for N=7:\n",
      "--------------------\n",
      "\n",
      "37 36 35 34 33 32 31\n",
      "38 17 16 15 14 13 30\n",
      "39 18  5  4  3 12 29\n",
      "40 19  6  1  2 11 28\n",
      "41 20  7  8  9 10 27\n",
      "42 21 22 23 24 25 26\n",
      "43 44 45 46 47 48 49\n"
     ]
    }
   ],
   "source": [
    "s = int(Input(3))\n",
    "N = math.ceil(math.sqrt(s)) # minimum square size that contains s\n",
    "\n",
    "def disp_spiral(sp):\n",
    "    '''pretty-print spiral'''\n",
    "    sp = list(sp)\n",
    "    m = len(str(max(max(line) for line in sp)))\n",
    "    print('\\n'.join(' '.join('{: >{}}'.format(num,m) for num in line) for line in sp))\n",
    "    \n",
    "def gen_spiral(N):\n",
    "    '''generate NxN spiral (highest number n^2)'''\n",
    "    nums = [[j for j in range((i-1)*(i-1)+1,i*i+1)] for i in range(2,N+1)]\n",
    "    square = [[1]]\n",
    "    for num in nums:\n",
    "        a, b = num[:len(square)],num[len(square):]\n",
    "        square = rot(square) + [a]\n",
    "        square = rot(square) + [b]\n",
    "    return square\n",
    "\n",
    "print(h2('Test Spiral for N=7:'))\n",
    "disp_spiral(gen_spiral(7))"
   ]
  },
  {
   "cell_type": "code",
   "execution_count": 7,
   "metadata": {},
   "outputs": [
    {
     "name": "stdout",
     "output_type": "stream",
     "text": [
      "▁▁▁▁▁▁▁▁▁▁▁▁▁▁▁▁▁▁▁▁▁▁▁▁▁▁▁▁\n",
      "█ Part 1: 430 steps needed █\n",
      "▔▔▔▔▔▔▔▔▔▔▔▔▔▔▔▔▔▔▔▔▔▔▔▔▔▔▔▔\n"
     ]
    }
   ],
   "source": [
    "sp = gen_spiral(N)\n",
    "d = dist_L1(locate2D(sp, 1),locate2D(sp, s))\n",
    "print(h1('Part 1: ' + str(d) + ' steps needed'))"
   ]
  },
  {
   "cell_type": "code",
   "execution_count": 8,
   "metadata": {},
   "outputs": [
    {
     "name": "stdout",
     "output_type": "stream",
     "text": [
      "▁▁▁▁▁▁▁▁▁▁▁▁▁▁▁▁▁▁▁▁▁▁▁▁▁▁▁▁▁▁▁▁▁▁▁▁▁▁▁▁▁▁▁▁▁▁▁▁▁▁▁▁▁▁▁▁▁▁▁▁▁▁▁▁▁▁▁▁▁▁▁▁▁▁▁▁▁▁▁\n",
      "█ Part 2: first value written larger than the puzzle input (312051) is 312453 █\n",
      "▔▔▔▔▔▔▔▔▔▔▔▔▔▔▔▔▔▔▔▔▔▔▔▔▔▔▔▔▔▔▔▔▔▔▔▔▔▔▔▔▔▔▔▔▔▔▔▔▔▔▔▔▔▔▔▔▔▔▔▔▔▔▔▔▔▔▔▔▔▔▔▔▔▔▔▔▔▔▔\n",
      "The generated spiral:\n",
      " 17370  17008  16295  15252  14267  13486   6591      0\n",
      " 35487    362    351    330    304    147   6444      0\n",
      " 37402    747     11     10      5    142   6155      0\n",
      " 39835    806     23      1      4    133   5733 312453\n",
      " 42452    880     25      1      2    122   5336 295229\n",
      " 45220    931     26     54     57     59   5022 279138\n",
      " 47108    957   1968   2105   2275   2391   2450 266330\n",
      " 48065  98098 103128 109476 116247 123363 128204 130654\n"
     ]
    }
   ],
   "source": [
    "ns = [[0 for _ in range(N)] for _ in range(N)] #generate zero filled square of same size\n",
    "x,y = locate2D(sp,1) # use spiral as index\n",
    "ns[x][y] = 1\n",
    "i,n = 1,1\n",
    "while n < s:\n",
    "    i+=1\n",
    "    x,y = locate2D(sp,i)\n",
    "    neighbors = neighbors8((x,y))\n",
    "    n = 0\n",
    "    for xn, yn in neighbors:\n",
    "        try: n += ns[xn][yn]\n",
    "        except IndexError: pass\n",
    "    ns[x][y] = n\n",
    "print(h1('Part 2: first value written larger than the puzzle input (' + str(s) + ') is ' + str(n)))\n",
    "print('The generated spiral:')\n",
    "disp_spiral([line for line in rot([line for line in ns if any(line)]) if any(line)])"
   ]
  },
  {
   "cell_type": "markdown",
   "metadata": {},
   "source": [
    "## Day 4"
   ]
  },
  {
   "cell_type": "code",
   "execution_count": 9,
   "metadata": {},
   "outputs": [
    {
     "name": "stdout",
     "output_type": "stream",
     "text": [
      "▁▁▁▁▁▁▁▁▁▁▁▁▁▁▁▁▁▁▁▁▁▁▁▁▁▁▁▁▁▁▁▁▁▁▁▁▁▁▁▁▁▁▁▁▁▁▁▁\n",
      "█ Day 4 part 1: there are 325 valid passwords. █\n",
      "▔▔▔▔▔▔▔▔▔▔▔▔▔▔▔▔▔▔▔▔▔▔▔▔▔▔▔▔▔▔▔▔▔▔▔▔▔▔▔▔▔▔▔▔▔▔▔▔\n"
     ]
    }
   ],
   "source": [
    "passwords = Input(4).splitlines()\n",
    "word = re.compile(r'\\w+')\n",
    "pass_words = {password: word.findall(password) for password in passwords}\n",
    "valid = [pwd for pwd,words in pass_words.items() if len(words) == len(set(words))]\n",
    "print(h1('Day 4 part 1: there are {} valid passwords.'.format(len(valid))))"
   ]
  },
  {
   "cell_type": "code",
   "execution_count": 10,
   "metadata": {},
   "outputs": [
    {
     "name": "stdout",
     "output_type": "stream",
     "text": [
      "▁▁▁▁▁▁▁▁▁▁▁▁▁▁▁▁▁▁▁▁▁▁▁▁▁▁▁▁▁▁▁▁▁▁▁▁▁▁▁▁▁▁▁▁▁▁▁▁\n",
      "█ Day 4 part 2: there are 119 valid passwords. █\n",
      "▔▔▔▔▔▔▔▔▔▔▔▔▔▔▔▔▔▔▔▔▔▔▔▔▔▔▔▔▔▔▔▔▔▔▔▔▔▔▔▔▔▔▔▔▔▔▔▔\n"
     ]
    }
   ],
   "source": [
    "# sorting the words takes care of anagrams since all sorted anagrams are equal.\n",
    "pass_words = {password: [cat(sorted(w)) for w in word.findall(password)] for password in passwords}\n",
    "valid = [pwd for pwd,words in pass_words.items() if len(words) == len(set(words))]\n",
    "print(h1('Day 4 part 2: there are {} valid passwords.'.format(len(valid))))"
   ]
  },
  {
   "cell_type": "markdown",
   "metadata": {},
   "source": [
    "## Day 5"
   ]
  },
  {
   "cell_type": "code",
   "execution_count": 11,
   "metadata": {},
   "outputs": [
    {
     "name": "stdout",
     "output_type": "stream",
     "text": [
      "▁▁▁▁▁▁▁▁▁▁▁▁▁▁▁▁▁▁▁▁▁▁▁▁▁▁▁▁▁▁▁▁▁▁▁▁▁▁▁▁▁▁▁▁▁▁▁▁▁▁▁▁▁\n",
      "█ Day 5 part 1: escaped the maze after 325922 steps █\n",
      "▔▔▔▔▔▔▔▔▔▔▔▔▔▔▔▔▔▔▔▔▔▔▔▔▔▔▔▔▔▔▔▔▔▔▔▔▔▔▔▔▔▔▔▔▔▔▔▔▔▔▔▔▔\n"
     ]
    }
   ],
   "source": [
    "jmp = list(map(int,Input(5).splitlines()))\n",
    "def run(jmps, modfun=lambda x: x + 1):\n",
    "    jmp = list(jmps)\n",
    "    ip = 0 # instruction pointer\n",
    "    steps = 0\n",
    "    while ip < len(jmp):\n",
    "        nip  = ip + jmp[ip]\n",
    "        jmp[ip] = modfun(jmp[ip])\n",
    "        ip = nip\n",
    "        steps += 1\n",
    "    return steps\n",
    "assert run([0, 3, 0, 1, -3]) == 5 # example given in the \n",
    "steps = run(jmp)\n",
    "print(h1('Day 5 part 1: escaped the maze after {} steps'.format(steps)))"
   ]
  },
  {
   "cell_type": "code",
   "execution_count": 12,
   "metadata": {},
   "outputs": [
    {
     "name": "stdout",
     "output_type": "stream",
     "text": [
      "▁▁▁▁▁▁▁▁▁▁▁▁▁▁▁▁▁▁▁▁▁▁▁▁▁▁▁▁▁▁▁▁▁▁▁▁▁▁▁▁▁▁▁▁▁▁▁▁▁▁▁▁▁▁▁\n",
      "█ Day 5 part 2: escaped the maze after 24490906 steps █\n",
      "▔▔▔▔▔▔▔▔▔▔▔▔▔▔▔▔▔▔▔▔▔▔▔▔▔▔▔▔▔▔▔▔▔▔▔▔▔▔▔▔▔▔▔▔▔▔▔▔▔▔▔▔▔▔▔\n"
     ]
    }
   ],
   "source": [
    "modfun = lambda x: x+1 if x < 3 else x-1\n",
    "assert run([0, 3, 0, 1, -3], modfun) == 10 # example given in the \n",
    "steps = run(jmp, modfun)\n",
    "print(h1('Day 5 part 2: escaped the maze after {} steps'.format(steps)))"
   ]
  },
  {
   "cell_type": "markdown",
   "metadata": {},
   "source": [
    "## Day 6"
   ]
  },
  {
   "cell_type": "code",
   "execution_count": 13,
   "metadata": {},
   "outputs": [
    {
     "name": "stdout",
     "output_type": "stream",
     "text": [
      "▁▁▁▁▁▁▁▁▁▁▁▁▁▁▁▁▁▁▁▁▁▁▁▁▁▁▁▁▁▁▁▁▁▁▁▁▁▁▁▁▁▁▁▁▁▁▁▁▁▁▁▁▁▁▁▁\n",
      "█ Day 6 part 1: infinite loop entered after 6681 steps █\n",
      "▔▔▔▔▔▔▔▔▔▔▔▔▔▔▔▔▔▔▔▔▔▔▔▔▔▔▔▔▔▔▔▔▔▔▔▔▔▔▔▔▔▔▔▔▔▔▔▔▔▔▔▔▔▔▔▔\n",
      "▁▁▁▁▁▁▁▁▁▁▁▁▁▁▁▁▁▁▁▁▁▁▁▁▁▁▁▁▁▁▁▁▁▁▁▁▁▁▁▁▁▁▁▁▁▁▁▁▁▁▁▁▁▁▁\n",
      "█ Day 6 part 2: length of infinite loop is 2392 steps █\n",
      "▔▔▔▔▔▔▔▔▔▔▔▔▔▔▔▔▔▔▔▔▔▔▔▔▔▔▔▔▔▔▔▔▔▔▔▔▔▔▔▔▔▔▔▔▔▔▔▔▔▔▔▔▔▔▔\n"
     ]
    }
   ],
   "source": [
    "s = tuple(map(int,Input(6).split()))\n",
    "def distr(banks):\n",
    "    banks = list(banks)\n",
    "    i, v = max(enumerate(banks),key = lambda x: (x[1],-x[0]))\n",
    "    banks[i] = 0\n",
    "    for j in range(v): banks[(i + j + 1) % len(banks)] += 1\n",
    "    return tuple(banks)\n",
    "\n",
    "def realloc(banks):\n",
    "    seen = set([banks])\n",
    "    for it in count(1):\n",
    "        banks = distr(banks)\n",
    "        if banks in seen: return it, banks\n",
    "        seen.add(banks)\n",
    "\n",
    "assert realloc((0, 2, 7, 0)) == (5, (2, 4, 1, 2)), 'example from challenge desc'\n",
    "assert realloc((4, 10, 4, 1, 8, 4, 9, 14, 5, 1, 14, 15, 0, 15, 3, 5))[0] == 12841, 'example from norvigs solution'\n",
    "it, s = realloc(s)\n",
    "print(h1('Day 6 part 1: infinite loop entered after {} steps'.format(it)))\n",
    "it, s = realloc(distr(s))\n",
    "print(h1('Day 6 part 2: length of infinite loop is {} steps'.format(it)))"
   ]
  },
  {
   "cell_type": "markdown",
   "metadata": {},
   "source": [
    "## Day 7"
   ]
  },
  {
   "cell_type": "code",
   "execution_count": 14,
   "metadata": {},
   "outputs": [],
   "source": [
    "nodes_text = Input(7)\n",
    "test_text = '''\n",
    "pbga (66)\n",
    "xhth (57)\n",
    "ebii (61)\n",
    "havc (66)\n",
    "ktlj (57)\n",
    "fwft (72) -> ktlj, cntj, xhth\n",
    "qoyq (66)\n",
    "padx (45) -> pbga, havc, qoyq\n",
    "tknk (41) -> ugml, padx, fwft\n",
    "jptl (61)\n",
    "ugml (68) -> gyxo, ebii, jptl\n",
    "gyxo (61)\n",
    "cntj (57)'''.strip()\n",
    "\n",
    "\n",
    "class Node(object):\n",
    "    def __init__(self, name, weight, children=tuple(), parent=None):\n",
    "        self.name = name\n",
    "        self.weight = int(weight)\n",
    "        self.parent = parent\n",
    "        self.children = set(children)\n",
    "        \n",
    "    def __repr__(self):\n",
    "        chld = set(ch.name for ch in self.children)\n",
    "        fstr = 'Node(name={name}, weight={weight}, children={chld}' + (\", parent='{parent.name}'\" if self.parent else '') +')'\n",
    "        return fstr.format(chld=chld,**self.__dict__)\n",
    "    \n",
    "    @property\n",
    "    def total_weight(self):\n",
    "        return self.weight + sum(chld.total_weight for chld in self.children)\n",
    "    \n",
    "\n",
    "def set_parents(nodes):\n",
    "    '''replace the name of the node.parent with the actual parent node'''\n",
    "    for node in nodes.values():\n",
    "        for chld in node.children:\n",
    "            nodes[chld].parent = node\n",
    "    return nodes\n",
    "\n",
    "def set_children(nodes):\n",
    "    '''replace the name of the node.children with the actual child nodes'''\n",
    "    for node in nodes.values():\n",
    "        node.children = set(nodes[chld] for chld in node.children)\n",
    "    return nodes\n",
    "\n",
    "def find_root(nodes):\n",
    "    return first(node for node in nodes.values() if node.parent == None)\n",
    "\n",
    "def populate_tree(text):\n",
    "    '''build tree from input text'''\n",
    "    split = re.compile(r'\\w+').findall\n",
    "    nodes = {n: Node(n, w, c)  for n,w,*c in map(split,text.splitlines())}\n",
    "    nodes = set_parents(nodes)\n",
    "    nodes = set_children(nodes)\n",
    "    return nodes\n",
    "\n",
    "assert find_root(populate_tree(test_text)).name == 'tknk', 'example from challenge description'"
   ]
  },
  {
   "cell_type": "code",
   "execution_count": 15,
   "metadata": {},
   "outputs": [
    {
     "name": "stdout",
     "output_type": "stream",
     "text": [
      "▁▁▁▁▁▁▁▁▁▁▁▁▁▁▁▁▁▁▁▁▁▁▁▁▁▁▁▁▁▁▁▁▁▁▁▁▁▁▁▁▁▁▁\n",
      "█ Day 7 part 1: the root disk is \"gmcrj\". █\n",
      "▔▔▔▔▔▔▔▔▔▔▔▔▔▔▔▔▔▔▔▔▔▔▔▔▔▔▔▔▔▔▔▔▔▔▔▔▔▔▔▔▔▔▔\n"
     ]
    }
   ],
   "source": [
    "tree = populate_tree(nodes_text)\n",
    "root = find_root(tree)\n",
    "print(h1('Day 7 part 1: the root disk is \"' + root.name +'\".'))"
   ]
  },
  {
   "cell_type": "code",
   "execution_count": 16,
   "metadata": {},
   "outputs": [
    {
     "name": "stdout",
     "output_type": "stream",
     "text": [
      "▁▁▁▁▁▁▁▁▁▁▁▁▁▁▁▁▁▁▁▁▁▁▁▁▁▁▁▁▁▁▁▁▁▁▁▁▁▁▁▁▁▁▁▁▁▁▁▁▁▁▁▁▁▁▁▁▁▁▁▁▁▁▁▁▁▁▁▁▁▁▁▁▁▁▁▁▁▁▁▁▁▁▁▁▁▁▁▁\n",
      "█ Day 7 part 2: the unbalanced disk is \"mdbtyw\", it should weight 391 (currently 396). █\n",
      "▔▔▔▔▔▔▔▔▔▔▔▔▔▔▔▔▔▔▔▔▔▔▔▔▔▔▔▔▔▔▔▔▔▔▔▔▔▔▔▔▔▔▔▔▔▔▔▔▔▔▔▔▔▔▔▔▔▔▔▔▔▔▔▔▔▔▔▔▔▔▔▔▔▔▔▔▔▔▔▔▔▔▔▔▔▔▔▔\n"
     ]
    }
   ],
   "source": [
    "def find_unbalanced(root_node):\n",
    "    '''returns the node causing imbalance or the root node'''\n",
    "    weights = {chld: chld.total_weight for chld in root_node.children}\n",
    "    if len(set(weights.values())) == 1:\n",
    "        return root_node\n",
    "    cnt=Counter(w for _,w in weights.items())\n",
    "    odd_weight = min(cnt,key=cnt.get)\n",
    "    return find_unbalanced(first(node for node, w in weights.items() if w == odd_weight))\n",
    "\n",
    "unbalanced = find_unbalanced(root)\n",
    "balanced_weight = first(set(chld.total_weight for chld in unbalanced.parent.children) - {unbalanced.total_weight})\n",
    "diff_to_other = balanced_weight - unbalanced.total_weight\n",
    "print(h1('Day 7 part 2: the unbalanced disk is \"{}\", it should weight {} (currently {}).'.format(unbalanced.name, \n",
    "                                                                                              unbalanced.weight + diff_to_other,\n",
    "                                                                                              unbalanced.weight\n",
    "                                                                                              )))"
   ]
  },
  {
   "cell_type": "markdown",
   "metadata": {},
   "source": [
    "## Day 8"
   ]
  },
  {
   "cell_type": "code",
   "execution_count": 17,
   "metadata": {},
   "outputs": [
    {
     "name": "stdout",
     "output_type": "stream",
     "text": [
      "▁▁▁▁▁▁▁▁▁▁▁▁▁▁▁▁▁▁▁▁▁▁▁▁▁▁▁▁▁▁▁▁▁▁▁▁▁▁▁▁▁▁▁▁▁▁▁▁▁▁▁▁▁▁▁▁▁▁▁▁▁▁▁▁▁▁▁▁▁▁▁▁\n",
      "█ Day 8 part 1: highest value in any register (post execution) is 4877 █\n",
      "▔▔▔▔▔▔▔▔▔▔▔▔▔▔▔▔▔▔▔▔▔▔▔▔▔▔▔▔▔▔▔▔▔▔▔▔▔▔▔▔▔▔▔▔▔▔▔▔▔▔▔▔▔▔▔▔▔▔▔▔▔▔▔▔▔▔▔▔▔▔▔▔\n",
      "▁▁▁▁▁▁▁▁▁▁▁▁▁▁▁▁▁▁▁▁▁▁▁▁▁▁▁▁▁▁▁▁▁▁▁▁▁▁▁▁▁▁▁▁▁▁▁▁▁▁▁▁▁▁▁▁▁▁▁▁▁▁▁▁▁▁▁▁▁▁▁▁▁▁\n",
      "█ Day 8 part 2: highest value in any register (during execution) is 5471 █\n",
      "▔▔▔▔▔▔▔▔▔▔▔▔▔▔▔▔▔▔▔▔▔▔▔▔▔▔▔▔▔▔▔▔▔▔▔▔▔▔▔▔▔▔▔▔▔▔▔▔▔▔▔▔▔▔▔▔▔▔▔▔▔▔▔▔▔▔▔▔▔▔▔▔▔▔\n"
     ]
    }
   ],
   "source": [
    "def read_instr(text = None):\n",
    "    if text == None:\n",
    "        text = Input(8)\n",
    "    instr = text.splitlines()\n",
    "    # \"translate\" expressions\n",
    "    Instruction = namedtuple('Instruction', 'dest, op, param, cmp1, cmp_op, cmp2')\n",
    "    instr = [Instruction(*inst.replace(' if','').split(' ')) for inst in instr]\n",
    "    return instr\n",
    "\n",
    "def gen_cmp_ops(cmps):\n",
    "    '''find the int-functions that implement the needed comparisions'''\n",
    "    # get all int dunder-functions and their docs\n",
    "    op_docs = {eval('int.'+f): eval('int.'+f+'.__doc__') for f in dir(int) if f.startswith('__')}\n",
    "    # find int functions where their docs include the needed comparision\n",
    "    cmp_ops = {cmp: fun for cmp, (fun, doc) in product(cmps,op_docs.items()) if doc != None and 'self'+cmp+'value' in doc}\n",
    "    return cmp_ops\n",
    "\n",
    "def exec_instr(registers, inst, cmp_ops):\n",
    "    cmp1, cmp2 = expr(registers,inst.cmp1), expr(registers,inst.cmp2)\n",
    "    op1, op2 = expr(registers,inst.dest), expr(registers,inst.param)\n",
    "    if cmp_ops[inst.cmp_op](cmp1, cmp2):\n",
    "        registers[inst.dest] = num_op[inst.op](op1, op2)\n",
    "    return registers\n",
    "    \n",
    "# create register dict and expression lookup\n",
    "expr = lambda registers, e: registers[e] if e.isalpha() else int(e)\n",
    "# create numerical operation dict\n",
    "num_op = {'inc': int.__add__,\n",
    "          'dec': int.__sub__,\n",
    "         }\n",
    "\n",
    "def run(text=None):\n",
    "    registers = defaultdict(int)\n",
    "    instructions = read_instr(text)\n",
    "    cmp_ops = gen_cmp_ops({i.cmp_op for i in instructions})\n",
    "    max_all = 0\n",
    "    for inst in instructions:\n",
    "        registers = exec_instr(registers, inst, cmp_ops)\n",
    "        max_all = max(max_all, max(registers.values()))\n",
    "    return registers, max_all\n",
    "\n",
    "test_inst = '''b inc 5 if a > 1\n",
    "a inc 1 if b < 5\n",
    "c dec -10 if a >= 1\n",
    "c inc -20 if c == 10'''\n",
    "\n",
    "assert max(run(test_inst)[0].values()) == 1\n",
    "\n",
    "reg, max_all = run()\n",
    "print(h1('Day 8 part 1: highest value in any register (post execution) is ' + str(max(reg.values()))))\n",
    "print(h1('Day 8 part 2: highest value in any register (during execution) is ' + str(max_all)))"
   ]
  },
  {
   "cell_type": "markdown",
   "metadata": {},
   "source": [
    "## Day 9"
   ]
  },
  {
   "cell_type": "code",
   "execution_count": 18,
   "metadata": {},
   "outputs": [
    {
     "name": "stdout",
     "output_type": "stream",
     "text": [
      "▁▁▁▁▁▁▁▁▁▁▁▁▁▁▁▁▁▁▁▁▁▁▁▁▁▁▁▁▁▁▁▁▁▁▁▁▁▁▁▁▁▁▁▁▁▁▁▁▁▁\n",
      "█ Day 9 part 1: the score of the groups is 13154 █\n",
      "▔▔▔▔▔▔▔▔▔▔▔▔▔▔▔▔▔▔▔▔▔▔▔▔▔▔▔▔▔▔▔▔▔▔▔▔▔▔▔▔▔▔▔▔▔▔▔▔▔▔\n"
     ]
    }
   ],
   "source": [
    "stream = Input(9)\n",
    "trash = re.compile(r',?<(!!|!>|[^>])*>,?') # regexp that matches trash\n",
    "\n",
    "def _score(group,level=1):\n",
    "    '''score nested lists according to the rules'''\n",
    "    if group == []:\n",
    "        return level\n",
    "    return level + sum(_score(subgroup,level+1) for subgroup in group)\n",
    "\n",
    "def score(stream):\n",
    "    filtered_stream = trash.sub('',stream)   #remove trash\n",
    "    #replace {} with [] because sets of sets wont work\n",
    "    list_stream = filtered_stream.replace('{','[').replace('}',']')\n",
    "    lists = eval(list_stream) # eval as python\n",
    "    return _score(lists)\n",
    "\n",
    "# example tests from the challenge description\n",
    "assert score('{}') == 1\n",
    "assert score('{{{}}}') == 6\n",
    "assert score('{{},{}}') == 5\n",
    "assert score('{{{},{},{{}}}}') == 16\n",
    "assert score('{<a>,<a>,<a>,<a>}') == 1\n",
    "assert score('{{<ab>},{<ab>},{<ab>},{<ab>}}') == 9\n",
    "assert score('{{<!!>},{<!!>},{<!!>},{<!!>}}') == 9\n",
    "assert score('{{<a!>},{<a!>},{<a!>},{<ab>}}') == 3\n",
    "\n",
    "print(h1('Day 9 part 1: the score of the groups is ' + str(score(stream))))"
   ]
  },
  {
   "cell_type": "code",
   "execution_count": 19,
   "metadata": {},
   "outputs": [
    {
     "name": "stdout",
     "output_type": "stream",
     "text": [
      "▁▁▁▁▁▁▁▁▁▁▁▁▁▁▁▁▁▁▁▁▁▁▁▁▁▁▁▁▁▁▁▁▁▁▁▁▁▁▁▁▁▁▁▁▁▁▁▁▁▁▁▁▁▁▁▁▁▁▁▁▁▁▁▁\n",
      "█ Day 9 part 2: there are 6369 trash characters in the stream. █\n",
      "▔▔▔▔▔▔▔▔▔▔▔▔▔▔▔▔▔▔▔▔▔▔▔▔▔▔▔▔▔▔▔▔▔▔▔▔▔▔▔▔▔▔▔▔▔▔▔▔▔▔▔▔▔▔▔▔▔▔▔▔▔▔▔▔\n"
     ]
    }
   ],
   "source": [
    "escapes = re.compile(r'!.') # matches the escape sequences specified in the challenge\n",
    "def count_trash(stream):\n",
    "    trashes = [match.group(0).strip(',')[1:-1] for match in trash.finditer(stream)]\n",
    "    clean_trashes = [escapes.sub('',trash) for trash in trashes]\n",
    "    return sum(len(trash) for trash in clean_trashes)\n",
    "\n",
    "# example tests from the challenge description\n",
    "assert count_trash('<>') ==  0\n",
    "assert count_trash('<random characters>') == 17\n",
    "assert count_trash('<<<<>') == 3\n",
    "assert count_trash('<{!>}>') == 2\n",
    "assert count_trash('<!!>') == 0\n",
    "assert count_trash('<!!!>>') == 0\n",
    "assert count_trash('<{o\"i!a,<{i<a>') == 10\n",
    "\n",
    "print(h1('Day 9 part 2: there are {} trash characters in the stream.'.format(count_trash(stream))))"
   ]
  },
  {
   "cell_type": "markdown",
   "metadata": {},
   "source": [
    "## Day 10"
   ]
  },
  {
   "cell_type": "code",
   "execution_count": null,
   "metadata": {},
   "outputs": [],
   "source": [
    "data = Input(10)"
   ]
  }
 ],
 "metadata": {
  "kernelspec": {
   "display_name": "Python 3",
   "language": "python",
   "name": "python3"
  },
  "language_info": {
   "codemirror_mode": {
    "name": "ipython",
    "version": 3
   },
   "file_extension": ".py",
   "mimetype": "text/x-python",
   "name": "python",
   "nbconvert_exporter": "python",
   "pygments_lexer": "ipython3",
   "version": "3.5.2"
  }
 },
 "nbformat": 4,
 "nbformat_minor": 1
}
