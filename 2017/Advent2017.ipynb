{
 "cells": [
  {
   "cell_type": "markdown",
   "metadata": {},
   "source": [
    "# Advent of Code 2017\n",
    "\n",
    "[see here](https://adventofcode.com/2017/)"
   ]
  },
  {
   "cell_type": "markdown",
   "metadata": {},
   "source": [
    "## Preparation\n",
    "\n",
    "import of some useful libs and definition of some common utility functions"
   ]
  },
  {
   "cell_type": "code",
   "execution_count": 1,
   "metadata": {
    "collapsed": true
   },
   "outputs": [],
   "source": [
    "# Python 3.x\n",
    "import re\n",
    "import numpy as np\n",
    "import math\n",
    "import urllib.request\n",
    "import reprlib\n",
    "import operator\n",
    "import string\n",
    "\n",
    "from collections import Counter, defaultdict, namedtuple, deque\n",
    "from functools   import lru_cache, reduce\n",
    "from itertools   import permutations, combinations, chain, cycle, product, islice, count, repeat, filterfalse\n",
    "from heapq       import heappop, heappush\n",
    "from enum        import Enum\n",
    "\n",
    "def Input(day,strip=True):\n",
    "    \"Open this day's input file.\"\n",
    "    \n",
    "    filename = 'input/input{}.txt'.format(day)\n",
    "    try:\n",
    "        with open(filename, 'r') as f:\n",
    "            text = f.read()\n",
    "            if strip:\n",
    "                text = text.strip()\n",
    "        return text\n",
    "    except FileNotFoundError:\n",
    "        url = 'http://adventofcode.com/2017/day/{}/input'.format(day)\n",
    "        print('input file not found. opening browser...')\n",
    "        print('please save the file as \"input<#day>.txt in your input folder.')\n",
    "        import webbrowser\n",
    "        webbrowser.open(url)\n",
    "\n",
    "cat = ''.join\n",
    "def first(iterable, default=None): return next(iter(iterable), default)\n",
    "def nth(iterable, n, default=None): return next(islice(iterable, n, None), default)\n",
    "def fs(*items): return frozenset(items)\n",
    "\n",
    "def ilen(iterator): return sum(1 for _ in iterator)\n",
    "\n",
    "def ints(text,typ=int):\n",
    "    return list(map(typ,re.compile(r'[-+]?\\d*[.]?\\d+').findall(text)))\n",
    "\n",
    "def shift(it, n):\n",
    "    return it[n:] + it[:n]\n",
    "\n",
    "def rot(mat, N=1, clockwise=True):\n",
    "    '''rotate 2D matrix'''\n",
    "    for _ in range(N):\n",
    "        if clockwise:\n",
    "            mat = list(zip(*mat[::-1]))\n",
    "        else:\n",
    "            mat = list(zip(*mat[::-1]))[::-1]\n",
    "    return mat\n",
    "\n",
    "def locate2D(m, val):\n",
    "    '''locate value in 2D list'''\n",
    "    for i, line in enumerate(m):\n",
    "        j=-1\n",
    "        try:\n",
    "            j = line.index(val)\n",
    "        except ValueError:\n",
    "            continue\n",
    "        break\n",
    "    else:\n",
    "        i = -1\n",
    "    return (i,j)\n",
    "\n",
    "def dist_L1(p1,p2=None):\n",
    "    if p2 == None:\n",
    "        p2 = repeat(0)\n",
    "    return sum(abs(p2_i-p1_i) for p1_i, p2_i in zip(p1,p2))\n",
    "\n",
    "def dist_L2(p1,p2=None):\n",
    "    if p2 == None:\n",
    "        p2 = repeat(0)\n",
    "    return sum((p2_i-p1_i)*(p2_i-p1_i) for p1_i, p2_i in zip(p1,p2))**.5\n",
    "\n",
    "def neighbors4(point): \n",
    "    \"The four neighbors (without diagonals).\"\n",
    "    x, y = point\n",
    "    return ((x+1, y), (x-1, y), (x, y+1), (x, y-1))\n",
    "\n",
    "def neighbors8(point): \n",
    "    \"The eight neighbors (with diagonals).\"\n",
    "    x, y = point \n",
    "    return ((x+1, y), (x-1, y), (x, y+1), (x, y-1),\n",
    "            (x+1, y+1), (x-1, y-1), (x+1, y-1), (x-1, y+1))\n",
    "\n",
    "from numbers import Number \n",
    "class Vector(object):\n",
    "    def __init__(self,*args):\n",
    "        if len(args) == 1:\n",
    "            if isinstance(args,Number): self.vec = tuple(0 for _ in range(args))\n",
    "            else: self.vec = tuple(*args)\n",
    "        else: self.vec = tuple(args)\n",
    "    def __mul__(self, other):\n",
    "        if isinstance(other,Number): return Vector(other * x for x in self.vec)\n",
    "        elif isinstance(other,Vector): return sum(x*y for x,y in zip(self.vec, other.vec))\n",
    "        raise NotImplemented\n",
    "    def __add__(self,other):\n",
    "        return Vector(x+y for x,y in zip(self.vec, other.vec))\n",
    "    def __sub__(self,other):\n",
    "        return Vector(x-y for x,y in zip(self.vec, other.vec))\n",
    "    def __iter__(self):\n",
    "        return self.vec.__iter__()\n",
    "    def __len__(self):\n",
    "        return len(self.vec)\n",
    "    def __getitem__(self, key):\n",
    "        return self.vec[key]\n",
    "    def __repr__(self):\n",
    "        return 'Vector(' + str(self.vec)[1:-1] + ')'\n",
    "    def __eq__(self, other):\n",
    "        return self.vec == other.vec\n",
    "    def __hash__(self):\n",
    "        return hash(self.vec)\n",
    "\n",
    "#display and debug functions\n",
    "def h1(s):\n",
    "    upr, brd, lwr = '▁', '█', '▔'\n",
    "    return upr*(len(s)+4) + '\\n'+brd+' ' + s + ' ' + brd +'\\n' + lwr*(len(s)+4)\n",
    "\n",
    "def h2(s, ch='-'):\n",
    "    return s + '\\n' + ch*len(s) + '\\n'\n",
    "\n",
    "h1 = lambda s: h2(s,'=')  #the other h1 is a bitch, apparently.\n",
    "\n",
    "def trace1(f):\n",
    "    \"Print a trace of the input and output of a function on one line.\"\n",
    "    rep = reprlib.aRepr\n",
    "    rep.maxother = 85\n",
    "    def traced_f(*args):\n",
    "        arg_strs = ', '.join(map(rep.repr, args))\n",
    "        result = f(*args)\n",
    "        print('{}({}) = {}'.format(f.__name__, arg_strs, result))\n",
    "        return result\n",
    "    return traced_f"
   ]
  },
  {
   "cell_type": "markdown",
   "metadata": {},
   "source": [
    "## Day 1: Inverse Captcha"
   ]
  },
  {
   "cell_type": "code",
   "execution_count": 64,
   "metadata": {
    "collapsed": false
   },
   "outputs": [
    {
     "name": "stdout",
     "output_type": "stream",
     "text": [
      "Day 1 part 1 result: 995\n",
      "========================\n",
      "\n"
     ]
    }
   ],
   "source": [
    "captcha = Input(1)\n",
    "matching = (int(x) for x,y in zip(captcha,shift(captcha,1)) if x==y)\n",
    "print(h1('Day 1 part 1 result: ' +str(sum(matching))))"
   ]
  },
  {
   "cell_type": "code",
   "execution_count": 3,
   "metadata": {
    "collapsed": false
   },
   "outputs": [
    {
     "name": "stdout",
     "output_type": "stream",
     "text": [
      "Day 1 part 2 result: 1130\n",
      "=========================\n",
      "\n"
     ]
    }
   ],
   "source": [
    "matching = (int(x) for x,y in zip(captcha,shift(captcha,len(captcha)//2)) if x==y)\n",
    "print(h1('Day 1 part 2 result: ' +str(sum(matching))))"
   ]
  },
  {
   "cell_type": "markdown",
   "metadata": {},
   "source": [
    "## Day 2: Corruption Checksum"
   ]
  },
  {
   "cell_type": "code",
   "execution_count": 4,
   "metadata": {
    "collapsed": false
   },
   "outputs": [
    {
     "name": "stdout",
     "output_type": "stream",
     "text": [
      "Checksum is 48357\n",
      "=================\n",
      "\n"
     ]
    }
   ],
   "source": [
    "ss = Input(2)\n",
    "numbers = [[int(x) for x in line.split('\\t')] for line in ss.split('\\n')]\n",
    "checksum = sum(max(line)-min(line) for line in numbers)\n",
    "print(h1('Checksum is '+str(checksum)))"
   ]
  },
  {
   "cell_type": "code",
   "execution_count": 5,
   "metadata": {
    "collapsed": false
   },
   "outputs": [
    {
     "name": "stdout",
     "output_type": "stream",
     "text": [
      "Result is 351\n",
      "=============\n",
      "\n"
     ]
    }
   ],
   "source": [
    "result = sum(first(int(max(x)/min(x)) for x in combinations(line,2) if max(x)%min(x) == 0) for line in numbers)\n",
    "print(h1('Result is '+str(result)))"
   ]
  },
  {
   "cell_type": "markdown",
   "metadata": {},
   "source": [
    "## Day 3: Spiral Memory"
   ]
  },
  {
   "cell_type": "code",
   "execution_count": 12,
   "metadata": {
    "collapsed": false
   },
   "outputs": [
    {
     "name": "stdout",
     "output_type": "stream",
     "text": [
      "Test Spiral for N=7:\n",
      "--------------------\n",
      "\n",
      "37 36 35 34 33 32 31\n",
      "38 17 16 15 14 13 30\n",
      "39 18  5  4  3 12 29\n",
      "40 19  6  1  2 11 28\n",
      "41 20  7  8  9 10 27\n",
      "42 21 22 23 24 25 26\n",
      "43 44 45 46 47 48 49\n"
     ]
    }
   ],
   "source": [
    "s = int(Input(3))\n",
    "N = math.ceil(math.sqrt(s)) # minimum square size that contains s\n",
    "\n",
    "def disp_spiral(sp):\n",
    "    '''pretty-print spiral'''\n",
    "    sp = list(sp)\n",
    "    m = len(str(max(max(line) for line in sp)))\n",
    "    print('\\n'.join(' '.join('{: >{}}'.format(num,m) for num in line) for line in sp))\n",
    "    \n",
    "def gen_spiral(N):\n",
    "    '''generate NxN spiral (highest number n^2)'''\n",
    "    nums = [[j for j in range((i-1)*(i-1)+1,i*i+1)] for i in range(2,N+1)]\n",
    "    square = [[1]]\n",
    "    for num in nums:\n",
    "        a, b = num[:len(square)],num[len(square):]\n",
    "        square = rot(square) + [a]\n",
    "        square = rot(square) + [b]\n",
    "    return square\n",
    "\n",
    "print(h2('Test Spiral for N=7:'))\n",
    "disp_spiral(gen_spiral(7))"
   ]
  },
  {
   "cell_type": "code",
   "execution_count": 13,
   "metadata": {
    "collapsed": false
   },
   "outputs": [
    {
     "name": "stdout",
     "output_type": "stream",
     "text": [
      "Part 1: 430 steps needed\n",
      "========================\n",
      "\n"
     ]
    }
   ],
   "source": [
    "sp = gen_spiral(N)\n",
    "d = dist_L1(locate2D(sp, 1),locate2D(sp, s))\n",
    "print(h1('Part 1: ' + str(d) + ' steps needed'))"
   ]
  },
  {
   "cell_type": "code",
   "execution_count": 14,
   "metadata": {
    "collapsed": false
   },
   "outputs": [
    {
     "name": "stdout",
     "output_type": "stream",
     "text": [
      "Part 2: first value written larger than the puzzle input (312051) is 312453\n",
      "===========================================================================\n",
      "\n",
      "The generated spiral:\n",
      " 17370  17008  16295  15252  14267  13486   6591      0\n",
      " 35487    362    351    330    304    147   6444      0\n",
      " 37402    747     11     10      5    142   6155      0\n",
      " 39835    806     23      1      4    133   5733 312453\n",
      " 42452    880     25      1      2    122   5336 295229\n",
      " 45220    931     26     54     57     59   5022 279138\n",
      " 47108    957   1968   2105   2275   2391   2450 266330\n",
      " 48065  98098 103128 109476 116247 123363 128204 130654\n"
     ]
    }
   ],
   "source": [
    "ns = [[0 for _ in range(N)] for _ in range(N)] #generate zero filled square of same size\n",
    "x,y = locate2D(sp,1) # use spiral as index\n",
    "ns[x][y] = 1\n",
    "i,n = 1,1\n",
    "while n < s:\n",
    "    i+=1\n",
    "    x,y = locate2D(sp,i)\n",
    "    neighbors = neighbors8((x,y))\n",
    "    n = 0\n",
    "    for xn, yn in neighbors:\n",
    "        try: n += ns[xn][yn]\n",
    "        except IndexError: pass\n",
    "    ns[x][y] = n\n",
    "print(h1('Part 2: first value written larger than the puzzle input (' + str(s) + ') is ' + str(n)))\n",
    "print('The generated spiral:')\n",
    "disp_spiral([line for line in rot([line for line in ns if any(line)]) if any(line)])"
   ]
  },
  {
   "cell_type": "markdown",
   "metadata": {},
   "source": [
    "## Day 4: High-Entropy Passphrases"
   ]
  },
  {
   "cell_type": "code",
   "execution_count": 9,
   "metadata": {
    "collapsed": false
   },
   "outputs": [
    {
     "name": "stdout",
     "output_type": "stream",
     "text": [
      "Day 4 part 1: there are 325 valid passwords.\n",
      "============================================\n",
      "\n"
     ]
    }
   ],
   "source": [
    "passwords = Input(4).splitlines()\n",
    "word = re.compile(r'\\w+')\n",
    "pass_words = {password: word.findall(password) for password in passwords}\n",
    "valid = [pwd for pwd,words in pass_words.items() if len(words) == len(set(words))]\n",
    "print(h1('Day 4 part 1: there are {} valid passwords.'.format(len(valid))))"
   ]
  },
  {
   "cell_type": "code",
   "execution_count": 10,
   "metadata": {
    "collapsed": false
   },
   "outputs": [
    {
     "name": "stdout",
     "output_type": "stream",
     "text": [
      "Day 4 part 2: there are 119 valid passwords.\n",
      "============================================\n",
      "\n"
     ]
    }
   ],
   "source": [
    "# sorting the words takes care of anagrams since all sorted anagrams are equal.\n",
    "pass_words = {password: [cat(sorted(w)) for w in word.findall(password)] for password in passwords}\n",
    "valid = [pwd for pwd,words in pass_words.items() if len(words) == len(set(words))]\n",
    "print(h1('Day 4 part 2: there are {} valid passwords.'.format(len(valid))))"
   ]
  },
  {
   "cell_type": "markdown",
   "metadata": {},
   "source": [
    "## Day 5: A Maze of Twisty Trampolines, All Alike"
   ]
  },
  {
   "cell_type": "code",
   "execution_count": 11,
   "metadata": {
    "collapsed": false
   },
   "outputs": [
    {
     "name": "stdout",
     "output_type": "stream",
     "text": [
      "Day 5 part 1: escaped the maze after 325922 steps\n",
      "=================================================\n",
      "\n"
     ]
    }
   ],
   "source": [
    "jmp = list(map(int,Input(5).splitlines()))\n",
    "def run(jmps, modfun=lambda x: x + 1):\n",
    "    jmp = list(jmps)\n",
    "    ip = 0 # instruction pointer\n",
    "    steps = 0\n",
    "    while ip < len(jmp):\n",
    "        nip  = ip + jmp[ip]\n",
    "        jmp[ip] = modfun(jmp[ip])\n",
    "        ip = nip\n",
    "        steps += 1\n",
    "    return steps\n",
    "assert run([0, 3, 0, 1, -3]) == 5 # example given in the \n",
    "steps = run(jmp)\n",
    "print(h1('Day 5 part 1: escaped the maze after {} steps'.format(steps)))"
   ]
  },
  {
   "cell_type": "code",
   "execution_count": 12,
   "metadata": {
    "collapsed": false
   },
   "outputs": [
    {
     "name": "stdout",
     "output_type": "stream",
     "text": [
      "Day 5 part 2: escaped the maze after 24490906 steps\n",
      "===================================================\n",
      "\n"
     ]
    }
   ],
   "source": [
    "modfun = lambda x: x+1 if x < 3 else x-1\n",
    "assert run([0, 3, 0, 1, -3], modfun) == 10 # example given in the \n",
    "steps = run(jmp, modfun)\n",
    "print(h1('Day 5 part 2: escaped the maze after {} steps'.format(steps)))"
   ]
  },
  {
   "cell_type": "markdown",
   "metadata": {},
   "source": [
    "## Day 6: Memory Reallocation"
   ]
  },
  {
   "cell_type": "code",
   "execution_count": 13,
   "metadata": {
    "collapsed": false
   },
   "outputs": [
    {
     "name": "stdout",
     "output_type": "stream",
     "text": [
      "Day 6 part 1: infinite loop entered after 6681 steps\n",
      "====================================================\n",
      "\n",
      "Day 6 part 2: length of infinite loop is 2392 steps\n",
      "===================================================\n",
      "\n"
     ]
    }
   ],
   "source": [
    "s = tuple(map(int,Input(6).split()))\n",
    "def distr(banks):\n",
    "    banks = list(banks)\n",
    "    i, v = max(enumerate(banks),key = lambda x: (x[1],-x[0]))\n",
    "    banks[i] = 0\n",
    "    for j in range(v): banks[(i + j + 1) % len(banks)] += 1\n",
    "    return tuple(banks)\n",
    "\n",
    "def realloc(banks):\n",
    "    seen = set([banks])\n",
    "    for it in count(1):\n",
    "        banks = distr(banks)\n",
    "        if banks in seen: return it, banks\n",
    "        seen.add(banks)\n",
    "\n",
    "assert realloc((0, 2, 7, 0)) == (5, (2, 4, 1, 2)), 'example from challenge desc'\n",
    "assert realloc((4, 10, 4, 1, 8, 4, 9, 14, 5, 1, 14, 15, 0, 15, 3, 5))[0] == 12841, 'example from norvigs solution'\n",
    "it, s = realloc(s)\n",
    "print(h1('Day 6 part 1: infinite loop entered after {} steps'.format(it)))\n",
    "it, s = realloc(distr(s))\n",
    "print(h1('Day 6 part 2: length of infinite loop is {} steps'.format(it)))"
   ]
  },
  {
   "cell_type": "markdown",
   "metadata": {},
   "source": [
    "## Day 7: Recursive Circus "
   ]
  },
  {
   "cell_type": "code",
   "execution_count": 14,
   "metadata": {
    "collapsed": true
   },
   "outputs": [],
   "source": [
    "nodes_text = Input(7)\n",
    "test_text = '''\n",
    "pbga (66)\n",
    "xhth (57)\n",
    "ebii (61)\n",
    "havc (66)\n",
    "ktlj (57)\n",
    "fwft (72) -> ktlj, cntj, xhth\n",
    "qoyq (66)\n",
    "padx (45) -> pbga, havc, qoyq\n",
    "tknk (41) -> ugml, padx, fwft\n",
    "jptl (61)\n",
    "ugml (68) -> gyxo, ebii, jptl\n",
    "gyxo (61)\n",
    "cntj (57)'''.strip()\n",
    "\n",
    "\n",
    "class Node(object):\n",
    "    def __init__(self, name, weight, children=tuple(), parent=None):\n",
    "        self.name = name\n",
    "        self.weight = int(weight)\n",
    "        self.parent = parent\n",
    "        self.children = set(children)\n",
    "        \n",
    "    def __repr__(self):\n",
    "        chld = set(ch.name for ch in self.children)\n",
    "        fstr = 'Node(name={name}, weight={weight}, children={chld}' + (\", parent='{parent.name}'\" if self.parent else '') +')'\n",
    "        return fstr.format(chld=chld,**self.__dict__)\n",
    "    \n",
    "    @property\n",
    "    def total_weight(self):\n",
    "        return self.weight + sum(chld.total_weight for chld in self.children)\n",
    "    \n",
    "\n",
    "def set_parents(nodes):\n",
    "    '''replace the name of the node.parent with the actual parent node'''\n",
    "    for node in nodes.values():\n",
    "        for chld in node.children:\n",
    "            nodes[chld].parent = node\n",
    "    return nodes\n",
    "\n",
    "def set_children(nodes):\n",
    "    '''replace the name of the node.children with the actual child nodes'''\n",
    "    for node in nodes.values():\n",
    "        node.children = set(nodes[chld] for chld in node.children)\n",
    "    return nodes\n",
    "\n",
    "def find_root(nodes):\n",
    "    return first(node for node in nodes.values() if node.parent == None)\n",
    "\n",
    "def populate_tree(text):\n",
    "    '''build tree from input text'''\n",
    "    split = re.compile(r'\\w+').findall\n",
    "    nodes = {n: Node(n, w, c)  for n,w,*c in map(split,text.splitlines())}\n",
    "    nodes = set_parents(nodes)\n",
    "    nodes = set_children(nodes)\n",
    "    return nodes\n",
    "\n",
    "assert find_root(populate_tree(test_text)).name == 'tknk', 'example from challenge description'"
   ]
  },
  {
   "cell_type": "code",
   "execution_count": 15,
   "metadata": {
    "collapsed": false
   },
   "outputs": [
    {
     "name": "stdout",
     "output_type": "stream",
     "text": [
      "Day 7 part 1: the root disk is \"gmcrj\".\n",
      "=======================================\n",
      "\n"
     ]
    }
   ],
   "source": [
    "tree = populate_tree(nodes_text)\n",
    "root = find_root(tree)\n",
    "print(h1('Day 7 part 1: the root disk is \"' + root.name +'\".'))"
   ]
  },
  {
   "cell_type": "code",
   "execution_count": 16,
   "metadata": {
    "collapsed": false
   },
   "outputs": [
    {
     "name": "stdout",
     "output_type": "stream",
     "text": [
      "Day 7 part 2: the unbalanced disk is \"mdbtyw\", it should weight 391 (currently 396).\n",
      "====================================================================================\n",
      "\n"
     ]
    }
   ],
   "source": [
    "def find_unbalanced(root_node):\n",
    "    '''returns the node causing imbalance or the root node'''\n",
    "    weights = {chld: chld.total_weight for chld in root_node.children}\n",
    "    if len(set(weights.values())) == 1:\n",
    "        return root_node\n",
    "    cnt=Counter(w for _,w in weights.items())\n",
    "    odd_weight = min(cnt,key=cnt.get)\n",
    "    return find_unbalanced(first(node for node, w in weights.items() if w == odd_weight))\n",
    "\n",
    "unbalanced = find_unbalanced(root)\n",
    "balanced_weight = first(set(chld.total_weight for chld in unbalanced.parent.children) - {unbalanced.total_weight})\n",
    "diff_to_other = balanced_weight - unbalanced.total_weight\n",
    "print(h1('Day 7 part 2: the unbalanced disk is \"{}\", it should weight {} (currently {}).'.format(unbalanced.name, \n",
    "                                                                                              unbalanced.weight + diff_to_other,\n",
    "                                                                                              unbalanced.weight\n",
    "                                                                                              )))"
   ]
  },
  {
   "cell_type": "markdown",
   "metadata": {},
   "source": [
    "## Day 8: I Heard You Like Registers"
   ]
  },
  {
   "cell_type": "code",
   "execution_count": 17,
   "metadata": {
    "collapsed": false
   },
   "outputs": [
    {
     "name": "stdout",
     "output_type": "stream",
     "text": [
      "Day 8 part 1: highest value in any register (post execution) is 4877\n",
      "====================================================================\n",
      "\n",
      "Day 8 part 2: highest value in any register (during execution) is 5471\n",
      "======================================================================\n",
      "\n"
     ]
    }
   ],
   "source": [
    "def read_instr(text = None):\n",
    "    if text == None:\n",
    "        text = Input(8)\n",
    "    instr = text.splitlines()\n",
    "    # \"translate\" expressions\n",
    "    Instruction = namedtuple('Instruction', 'dest, op, param, cmp1, cmp_op, cmp2')\n",
    "    instr = [Instruction(*inst.replace(' if','').split(' ')) for inst in instr]\n",
    "    return instr\n",
    "\n",
    "def gen_cmp_ops(cmps):\n",
    "    '''find the int-functions that implement the needed comparisions'''\n",
    "    # get all int dunder-functions and their docs\n",
    "    op_docs = {eval('int.'+f): eval('int.'+f+'.__doc__') for f in dir(int) if f.startswith('__')}\n",
    "    # find int functions where their docs include the needed comparision\n",
    "    cmp_ops = {cmp: fun for cmp, (fun, doc) in product(cmps,op_docs.items()) if doc != None and 'self'+cmp+'value' in doc}\n",
    "    return cmp_ops\n",
    "\n",
    "def exec_instr(registers, inst, cmp_ops):\n",
    "    cmp1, cmp2 = expr(registers,inst.cmp1), expr(registers,inst.cmp2)\n",
    "    op1, op2 = expr(registers,inst.dest), expr(registers,inst.param)\n",
    "    if cmp_ops[inst.cmp_op](cmp1, cmp2):\n",
    "        registers[inst.dest] = num_op[inst.op](op1, op2)\n",
    "    return registers\n",
    "    \n",
    "# create register dict and expression lookup\n",
    "expr = lambda registers, e: registers[e] if e.isalpha() else int(e)\n",
    "# create numerical operation dict\n",
    "num_op = {'inc': int.__add__,\n",
    "          'dec': int.__sub__,\n",
    "         }\n",
    "\n",
    "def run(text=None):\n",
    "    registers = defaultdict(int)\n",
    "    instructions = read_instr(text)\n",
    "    cmp_ops = gen_cmp_ops({i.cmp_op for i in instructions})\n",
    "    max_all = 0\n",
    "    for inst in instructions:\n",
    "        registers = exec_instr(registers, inst, cmp_ops)\n",
    "        max_all = max(max_all, max(registers.values()))\n",
    "    return registers, max_all\n",
    "\n",
    "test_inst = '''b inc 5 if a > 1\n",
    "a inc 1 if b < 5\n",
    "c dec -10 if a >= 1\n",
    "c inc -20 if c == 10'''\n",
    "\n",
    "assert max(run(test_inst)[0].values()) == 1\n",
    "\n",
    "reg, max_all = run()\n",
    "print(h1('Day 8 part 1: highest value in any register (post execution) is ' + str(max(reg.values()))))\n",
    "print(h1('Day 8 part 2: highest value in any register (during execution) is ' + str(max_all)))"
   ]
  },
  {
   "cell_type": "markdown",
   "metadata": {},
   "source": [
    "## Day 9: Stream Processing"
   ]
  },
  {
   "cell_type": "code",
   "execution_count": 18,
   "metadata": {
    "collapsed": false
   },
   "outputs": [
    {
     "name": "stdout",
     "output_type": "stream",
     "text": [
      "Day 9 part 1: the score of the groups is 13154\n",
      "==============================================\n",
      "\n"
     ]
    }
   ],
   "source": [
    "stream = Input(9)\n",
    "trash = re.compile(r',?<(!!|!>|[^>])*>,?') # regexp that matches trash\n",
    "\n",
    "def _score(group,level=1):\n",
    "    '''score nested lists according to the rules'''\n",
    "    if group == []:\n",
    "        return level\n",
    "    return level + sum(_score(subgroup,level+1) for subgroup in group)\n",
    "\n",
    "def score(stream):\n",
    "    filtered_stream = trash.sub('',stream)   #remove trash\n",
    "    #replace {} with [] because sets of sets wont work\n",
    "    list_stream = filtered_stream.replace('{','[').replace('}',']')\n",
    "    lists = eval(list_stream) # eval as python\n",
    "    return _score(lists)\n",
    "\n",
    "# example tests from the challenge description\n",
    "assert score('{}') == 1\n",
    "assert score('{{{}}}') == 6\n",
    "assert score('{{},{}}') == 5\n",
    "assert score('{{{},{},{{}}}}') == 16\n",
    "assert score('{<a>,<a>,<a>,<a>}') == 1\n",
    "assert score('{{<ab>},{<ab>},{<ab>},{<ab>}}') == 9\n",
    "assert score('{{<!!>},{<!!>},{<!!>},{<!!>}}') == 9\n",
    "assert score('{{<a!>},{<a!>},{<a!>},{<ab>}}') == 3\n",
    "\n",
    "print(h1('Day 9 part 1: the score of the groups is ' + str(score(stream))))"
   ]
  },
  {
   "cell_type": "code",
   "execution_count": 19,
   "metadata": {
    "collapsed": false
   },
   "outputs": [
    {
     "name": "stdout",
     "output_type": "stream",
     "text": [
      "Day 9 part 2: there are 6369 trash characters in the stream.\n",
      "============================================================\n",
      "\n"
     ]
    }
   ],
   "source": [
    "escapes = re.compile(r'!.') # matches the escape sequences specified in the challenge\n",
    "def count_trash(stream):\n",
    "    trashes = [match.group(0).strip(',')[1:-1] for match in trash.finditer(stream)]\n",
    "    clean_trashes = [escapes.sub('',trash) for trash in trashes]\n",
    "    return sum(len(trash) for trash in clean_trashes)\n",
    "\n",
    "# example tests from the challenge description\n",
    "assert count_trash('<>') ==  0\n",
    "assert count_trash('<random characters>') == 17\n",
    "assert count_trash('<<<<>') == 3\n",
    "assert count_trash('<{!>}>') == 2\n",
    "assert count_trash('<!!>') == 0\n",
    "assert count_trash('<!!!>>') == 0\n",
    "assert count_trash('<{o\"i!a,<{i<a>') == 10\n",
    "\n",
    "print(h1('Day 9 part 2: there are {} trash characters in the stream.'.format(count_trash(stream))))"
   ]
  },
  {
   "cell_type": "markdown",
   "metadata": {},
   "source": [
    "## Day 10: Knot Hash"
   ]
  },
  {
   "cell_type": "code",
   "execution_count": 20,
   "metadata": {
    "collapsed": false,
    "scrolled": false
   },
   "outputs": [
    {
     "name": "stdout",
     "output_type": "stream",
     "text": [
      "Day 10 part 1: the first two numbers of the list multiplied give 15990\n",
      "======================================================================\n",
      "\n"
     ]
    }
   ],
   "source": [
    "data = Input(10)\n",
    "testlen = (3, 4, 1, 5)\n",
    "\n",
    "def knot_hash(lengths, llen=256, repeats=1):\n",
    "    clist = list(range(llen))\n",
    "    skip = 0\n",
    "    pos = 0\n",
    "    for l in chain.from_iterable(repeat(lengths,repeats)):\n",
    "        end = (pos + l) % llen\n",
    "        if l != 0:\n",
    "            if pos < end:\n",
    "                clist[pos:end] = reversed(clist[pos:end])\n",
    "            else: # if end < pos, the list wraps\n",
    "                part = list(reversed(clist[pos:] + clist[:end]))\n",
    "                clist[:end] = part[llen-pos:]\n",
    "                clist[pos:] = part[:llen-pos]\n",
    "        pos = (pos + l + skip) % llen\n",
    "        skip += 1\n",
    "    return clist\n",
    "\n",
    "assert knot_hash(testlen, 5) == [3, 4, 2, 1, 0], 'challenge example'\n",
    "\n",
    "lengths = list(map(int,data.split(',')))\n",
    "h = knot_hash(lengths)\n",
    "print(h1('Day 10 part 1: the first two numbers of the list multiplied give ' + str(h[0] * h[1])))"
   ]
  },
  {
   "cell_type": "code",
   "execution_count": 21,
   "metadata": {
    "collapsed": false
   },
   "outputs": [
    {
     "name": "stdout",
     "output_type": "stream",
     "text": [
      "Day 10 part 2: the knot hash of the input data is 90adb097dd55dea8305c900372258ac6\n",
      "==================================================================================\n",
      "\n"
     ]
    }
   ],
   "source": [
    "def super_knots(data):\n",
    "    lenghts = [ord(c) for c in data] + [17, 31, 73, 47, 23] # as per description\n",
    "    sparse = knot_hash(lenghts,llen=256,repeats=64) \n",
    "    dense = [reduce(operator.xor,sparse[16*i:16*(i+1)]) for i in range(16)]\n",
    "    hexhash = cat('{:02X}'.format(x) for x in dense).lower()\n",
    "    return hexhash\n",
    "\n",
    "assert super_knots('') == 'a2582a3a0e66e6e86e3812dcb672a272'\n",
    "assert super_knots('AoC 2017') == '33efeb34ea91902bb2f59c9920caa6cd'\n",
    "assert super_knots('1,2,3') == '3efbe78a8d82f29979031a4aa0b16a9d'\n",
    "assert super_knots('1,2,4') == '63960835bcdc130f0b66d7ff4f6a5a8e'\n",
    "\n",
    "print(h1('Day 10 part 2: the knot hash of the input data is ' + super_knots(data)))"
   ]
  },
  {
   "cell_type": "markdown",
   "metadata": {},
   "source": [
    "## Day 11: Hex Ed"
   ]
  },
  {
   "cell_type": "code",
   "execution_count": 22,
   "metadata": {
    "collapsed": false
   },
   "outputs": [
    {
     "name": "stdout",
     "output_type": "stream",
     "text": [
      "Day 11 part 1: total distance reached from startpos is 705\n",
      "==========================================================\n",
      "\n"
     ]
    }
   ],
   "source": [
    "path = Input(11).split(',')\n",
    "c = Counter(path)\n",
    "dirs = (c['n']-c['s'],c['ne']-c['sw'],c['se']-c['nw'])\n",
    "\n",
    "def hex_dist(a,b=Vector(0,0,0)):\n",
    "    return .5 * sum(map(abs,Vector(a)-Vector(b)))\n",
    "\n",
    "#hex unit-vectors:\n",
    "n_dir = Vector(0,1,-1)\n",
    "ne_dir = Vector(1,0,-1)\n",
    "se_dir = Vector(1,-1,0)\n",
    "\n",
    "pos = n_dir * (c['n']-c['s']) + ne_dir * (c['ne']-c['sw']) + se_dir * (c['se']-c['nw'])\n",
    "print(h1('Day 11 part 1: total distance reached from startpos is '+ str(int(hex_dist(pos)))))"
   ]
  },
  {
   "cell_type": "code",
   "execution_count": 23,
   "metadata": {
    "collapsed": false
   },
   "outputs": [
    {
     "name": "stdout",
     "output_type": "stream",
     "text": [
      "Day 11 part 2: furthest distance reached from startpos is 1469\n",
      "==============================================================\n",
      "\n"
     ]
    }
   ],
   "source": [
    "c = Counter()\n",
    "max_dist = 0\n",
    "for node in path:\n",
    "    c.update([node])\n",
    "    pos = n_dir * (c['n']-c['s']) + ne_dir * (c['ne']-c['sw']) + se_dir * (c['se']-c['nw'])\n",
    "    max_dist = max(max_dist, hex_dist(pos))\n",
    "print(h1('Day 11 part 2: furthest distance reached from startpos is '+ str(int(max_dist))))"
   ]
  },
  {
   "cell_type": "markdown",
   "metadata": {},
   "source": [
    "## Day 12: Digital Plumber"
   ]
  },
  {
   "cell_type": "code",
   "execution_count": 24,
   "metadata": {
    "collapsed": false
   },
   "outputs": [
    {
     "name": "stdout",
     "output_type": "stream",
     "text": [
      "Day 12 part 1: there are 306 programs reachable from program 0\n",
      "==============================================================\n",
      "\n",
      "Day 12 part 2: there are 200 isolated program groups\n",
      "====================================================\n",
      "\n"
     ]
    }
   ],
   "source": [
    "data = Input(12).splitlines()\n",
    "subgraphs = []\n",
    "for line in data:\n",
    "    nodes = ints(line)\n",
    "    subgraphs.append(set(nodes))\n",
    "\n",
    "disjoint_subgraphs = []\n",
    "for sg_new in subgraphs:\n",
    "    sgs_temp = []\n",
    "    for sg in disjoint_subgraphs:\n",
    "        if sg & sg_new: \n",
    "            sg_new |= sg\n",
    "        else: \n",
    "            sgs_temp.append(sg)\n",
    "    sgs_temp.append(sg_new)\n",
    "    disjoint_subgraphs = sgs_temp\n",
    "\n",
    "group_zero = first(filter(lambda s: 0 in s, disjoint_subgraphs))\n",
    "    \n",
    "print(h1('Day 12 part 1: there are {} programs reachable from program 0'.format(len(group_zero))))\n",
    "print(h1('Day 12 part 2: there are {} isolated program groups'.format(len(disjoint_subgraphs))))"
   ]
  },
  {
   "cell_type": "markdown",
   "metadata": {},
   "source": [
    "## Day 13: Packet Scanners"
   ]
  },
  {
   "cell_type": "code",
   "execution_count": 25,
   "metadata": {
    "collapsed": false
   },
   "outputs": [
    {
     "name": "stdout",
     "output_type": "stream",
     "text": [
      "Day 13 part 1: breach severity level is 1840\n",
      "============================================\n",
      "\n"
     ]
    }
   ],
   "source": [
    "data = list(map(ints, Input(13).splitlines()))\n",
    "severity = lambda layers, delay=0: sum(r*d for r,d in layers if (r + delay) % (2*(d-1)) == 0)\n",
    "assert severity([[0, 3], [1, 2], [4, 4], [6, 4]]) == 24, 'challenge example'\n",
    "print(h1('Day 13 part 1: breach severity level is ' + str(severity(data))))"
   ]
  },
  {
   "cell_type": "code",
   "execution_count": 26,
   "metadata": {
    "collapsed": false
   },
   "outputs": [
    {
     "name": "stdout",
     "output_type": "stream",
     "text": [
      "Day 13 part 2: wait for 3850260 ps for safe passage.\n",
      "====================================================\n",
      "\n"
     ]
    }
   ],
   "source": [
    "not_caught = lambda layers, delay=0: all((r + delay) % (2*(d-1)) for r,d in layers)\n",
    "\n",
    "def first_safe_path(data):\n",
    "    return first(filter(lambda t: not_caught(data,t),count()))\n",
    "\n",
    "assert not_caught([[0, 3], [1, 2], [4, 4], [6, 4]],10), 'challenge example'\n",
    "assert first_safe_path([[0, 3], [1, 2], [4, 4], [6, 4]]) == 10 , 'challenge example'\n",
    "\n",
    "print(h1('Day 13 part 2: wait for {} ps for safe passage.'.format(first_safe_path(data))))"
   ]
  },
  {
   "cell_type": "markdown",
   "metadata": {},
   "source": [
    "## Day 14: Disk Defragmentation"
   ]
  },
  {
   "cell_type": "code",
   "execution_count": 27,
   "metadata": {
    "collapsed": false
   },
   "outputs": [
    {
     "name": "stdout",
     "output_type": "stream",
     "text": [
      "Day 14 part 1: there are 8106 used squares in the grid\n",
      "======================================================\n",
      "\n"
     ]
    }
   ],
   "source": [
    "passwd = Input(14)\n",
    "def binhash(n=128,passwd=passwd):\n",
    "    for row in range(n):\n",
    "        hexhash = super_knots(passwd+'-'+str(row))  # See Day 10\n",
    "        yield '{:0>128b}'.format(int(hexhash,16))\n",
    "\n",
    "count_used = lambda passwd: cat(row for row in binhash(passwd=passwd)).count('1')\n",
    "\n",
    "assert count_used('flqrgnkx') == 8108, \"challenge example\"\n",
    "\n",
    "print(h1('Day 14 part 1: there are {} used squares in the grid'.format(count_used(passwd))))"
   ]
  },
  {
   "cell_type": "code",
   "execution_count": 28,
   "metadata": {
    "collapsed": false
   },
   "outputs": [
    {
     "name": "stdout",
     "output_type": "stream",
     "text": [
      "Day 14 part 2: there are 1164 disjoint groups found in the grid\n",
      "===============================================================\n",
      "\n"
     ]
    }
   ],
   "source": [
    "def group_grid(passwd):\n",
    "    grid = [row for row in binhash(passwd=passwd)]\n",
    "    ungrouped = {(i,j) for i,j in product(range(len(grid)),repeat=2) if grid[i][j] == '1'}\n",
    "    while ungrouped:\n",
    "        group = set()\n",
    "        candidates = (ungrouped.pop(),)\n",
    "        while candidates:\n",
    "            candidate, *candidates = candidates\n",
    "            group.add(candidate)\n",
    "            ungrouped.discard(candidate)\n",
    "            candidates.extend(cn for cn in neighbors4(candidate) if cn not in group and cn in ungrouped)\n",
    "        yield group\n",
    "\n",
    "assert len(list(group_grid('flqrgnkx'))) == 1242, 'challenge example'\n",
    "\n",
    "print(h1('Day 14 part 2: there are {} disjoint groups found in the grid'.format(len(list(group_grid(passwd))))))"
   ]
  },
  {
   "cell_type": "markdown",
   "metadata": {},
   "source": [
    "## Day 15: Dueling Generators"
   ]
  },
  {
   "cell_type": "code",
   "execution_count": 29,
   "metadata": {
    "collapsed": false
   },
   "outputs": [
    {
     "name": "stdout",
     "output_type": "stream",
     "text": [
      "Wall time: 30 s\n"
     ]
    }
   ],
   "source": [
    "A_start, B_start = ints(Input(15))\n",
    "N = 40000000\n",
    "FA = 16807\n",
    "FB = 48271\n",
    "DIV = 2147483647\n",
    "\n",
    "def generator_pairs(a, b, N=None):\n",
    "    for _ in (range(N) if N else count()):\n",
    "        a, b = a * FA % DIV, b * FB % DIV\n",
    "        yield a, b\n",
    "\n",
    "def judge_pairs(pair_iter):\n",
    "    for i, (a, b) in enumerate(pair_iter):\n",
    "        if (a-b) % 2**16 == 0: yield i\n",
    "            \n",
    "%time assert ilen(judge_pairs(generator_pairs(65, 8921, N))) == 588, 'challenge example part 1'"
   ]
  },
  {
   "cell_type": "code",
   "execution_count": 30,
   "metadata": {
    "collapsed": false
   },
   "outputs": [
    {
     "name": "stdout",
     "output_type": "stream",
     "text": [
      "Wall time: 29.1 s\n",
      "Day 15 part 1: final count is 592\n",
      "=================================\n",
      "\n"
     ]
    }
   ],
   "source": [
    "%time fcount = ilen(judge_pairs(generator_pairs(A_start, B_start, N)))\n",
    "print(h1('Day 15 part 1: final count is ' + str(fcount)))"
   ]
  },
  {
   "cell_type": "code",
   "execution_count": 31,
   "metadata": {
    "collapsed": false
   },
   "outputs": [
    {
     "name": "stdout",
     "output_type": "stream",
     "text": [
      "Wall time: 19.5 s\n"
     ]
    }
   ],
   "source": [
    "N = 5000000\n",
    "MOD_A = 4\n",
    "MOD_B = 8\n",
    "\n",
    "def generator(val, fact, mod=1, N=None):\n",
    "    cnt = count()\n",
    "    while True:\n",
    "        val = val * fact % DIV\n",
    "        if 0 == val % mod:\n",
    "            yield val\n",
    "            if next(cnt) == N-1:\n",
    "                return\n",
    "\n",
    "assert list(zip(generator(65,FA,1,5),generator(8921,FB,1,5))) == list(generator_pairs(65,8921,5))\n",
    "\n",
    "gen_pairs = lambda a, b, N: zip(generator(a,FA,MOD_A,N),generator(b,FB,MOD_B,N))\n",
    "assert first(judge_pairs(gen_pairs(65,8921,1056))) == 1055\n",
    "%time assert ilen(judge_pairs(gen_pairs(65,8921,N))) == 309"
   ]
  },
  {
   "cell_type": "code",
   "execution_count": 32,
   "metadata": {
    "collapsed": false
   },
   "outputs": [
    {
     "name": "stdout",
     "output_type": "stream",
     "text": [
      "Wall time: 19.5 s\n",
      "Day 15 part 2: final count is 320\n",
      "=================================\n",
      "\n"
     ]
    }
   ],
   "source": [
    "%time fcount = ilen(judge_pairs(gen_pairs(A_start, B_start, N)))\n",
    "print(h1('Day 15 part 2: final count is ' + str(fcount)))"
   ]
  },
  {
   "cell_type": "markdown",
   "metadata": {},
   "source": [
    "## Day 16: Permutation Promenade\n",
    "\n",
    "- Spin, written **sX**, makes X programs move from the end to the front, but maintain their order otherwise. (For example, s3 on abcde produces cdeab).\n",
    "- Exchange, written **xA/B**, makes the programs at positions A and B swap places.\n",
    "- Partner, written **pA/B**, makes the programs named A and B swap places.\n"
   ]
  },
  {
   "cell_type": "code",
   "execution_count": 34,
   "metadata": {
    "collapsed": false
   },
   "outputs": [
    {
     "name": "stdout",
     "output_type": "stream",
     "text": [
      "Day 16 part 1: state after the dance: lgpkniodmjacfbeh\n",
      "======================================================\n",
      "\n"
     ]
    }
   ],
   "source": [
    "instr = Input(16).split(',')\n",
    "passwd = string.ascii_lowercase[:16]\n",
    "\n",
    "# lambdas, beautiful and readable!\n",
    "spin     = lambda s, n: s[-int(n):] + s[:-int(n)]\n",
    "swap_pos = lambda s, x, y: s[:min(int(x),int(y))] + s[max(int(x),int(y))] + s[min(int(x),int(y))+1:max(int(x),int(y))] + s[min(int(x),int(y))] + s[max(int(x),int(y))+1:]\n",
    "swap_let = lambda s, x, y: swap_pos(s,s.index(x),s.index(y))\n",
    "\n",
    "functions = [spin, swap_pos, swap_let]\n",
    "\n",
    "patterns = [re.compile(r's(\\d+)'),\n",
    "            re.compile(r'x(\\d+)/(\\d+)'),\n",
    "            re.compile(r'p(\\w)/(\\w)'),\n",
    "            ]\n",
    "\n",
    "patfun = list(zip(patterns, functions))\n",
    "\n",
    "def scramble(instructions, passwd):\n",
    "    for inst in instructions:\n",
    "        for pat, fun in patfun:\n",
    "            match = pat.match(inst)\n",
    "            if match:\n",
    "                passwd = fun(passwd, *match.groups())\n",
    "                break\n",
    "    return passwd\n",
    "\n",
    "assert scramble(['s1','x3/4','pe/b'],'abcde') == 'baedc'\n",
    "print(h1('Day 16 part 1: state after the dance: ' + scramble(instr, passwd)))"
   ]
  },
  {
   "cell_type": "code",
   "execution_count": 35,
   "metadata": {
    "collapsed": false
   },
   "outputs": [
    {
     "name": "stdout",
     "output_type": "stream",
     "text": [
      "detected loop of length 42 starting at iteration 0\n",
      "\n",
      "Day 16 part 2: state after the 1000000000th dance: hklecbpnjigoafmd\n",
      "===================================================================\n",
      "\n"
     ]
    }
   ],
   "source": [
    "passwd = string.ascii_lowercase[:16]\n",
    "\n",
    "pwds = dict()\n",
    "for i in count():\n",
    "    passwd = scramble(instr, passwd)\n",
    "    if passwd not in pwds:\n",
    "        pwds[passwd] = i\n",
    "    else:\n",
    "        print('detected loop of length {} starting at iteration {}\\n'.format(i-pwds[passwd],pwds[passwd]))\n",
    "        break\n",
    "loop_length, loop_start = i-pwds[passwd],pwds[passwd]\n",
    "\n",
    "N = 1000000000\n",
    "actual_N = loop_start + ((N - loop_start-1) % loop_length)\n",
    "result = first(pwd for pwd,ndx in pwds.items() if ndx == actual_N)\n",
    "print(h1('Day 16 part 2: state after the 1000000000th dance: ' + result))"
   ]
  },
  {
   "cell_type": "markdown",
   "metadata": {},
   "source": [
    "## Day 17: Spinlock"
   ]
  },
  {
   "cell_type": "code",
   "execution_count": 36,
   "metadata": {
    "collapsed": false
   },
   "outputs": [
    {
     "name": "stdout",
     "output_type": "stream",
     "text": [
      "Day 17 part 1: value of register is: 1971\n",
      "=========================================\n",
      "\n"
     ]
    }
   ],
   "source": [
    "step = int(Input(17)) # 303\n",
    "state = [0]\n",
    "pos = 0\n",
    "for i in range(1,2018):\n",
    "    pos = (pos - step) % len(state) # build in reverse to use insert\n",
    "    state.insert(pos, i)\n",
    "print(h1('Day 17 part 1: value of register is: ' + str(state[state.index(2017)-1])))"
   ]
  },
  {
   "cell_type": "code",
   "execution_count": 37,
   "metadata": {
    "collapsed": false
   },
   "outputs": [
    {
     "name": "stdout",
     "output_type": "stream",
     "text": [
      "Wall time: 7.12 s\n",
      "Day 17 part 1: value of register 1 after 50000000 iterations is: 17202899\n",
      "=========================================================================\n",
      "\n"
     ]
    }
   ],
   "source": [
    "def spinlock(step, N):\n",
    "    pos = 0\n",
    "    p = 0\n",
    "    for i in range(1,N):\n",
    "        pos = 1 + (pos + step) % i\n",
    "        if pos == 1:\n",
    "            p = i\n",
    "    return p\n",
    "%time result = spinlock(step,50000000)\n",
    "print(h1('Day 17 part 1: value of register 1 after 50000000 iterations is: ' + str(result)))"
   ]
  },
  {
   "cell_type": "markdown",
   "metadata": {},
   "source": [
    "## Day 18: Duet\n",
    "\n",
    "Instructions are defined as:\n",
    "\n",
    "- **snd X** plays a sound with a frequency equal to the value of X.\n",
    "- **set X Y** sets register X to the value of Y.\n",
    "- **add X Y** increases register X by the value of Y.\n",
    "- **mul X Y** sets register X to the result of multiplying the value contained in register X by the value of Y.\n",
    "- **mod X Y** sets register X to the remainder of dividing the value contained in register X by the value of Y (that is, it sets X to the result of X modulo Y).\n",
    "- **rcv X** recovers the frequency of the last sound played, but only when the value of X is not zero. (If it is zero, the command does nothing.)\n",
    "- **jgz X Y** jumps with an offset of the value of Y, but only if the value of X is greater than zero. (An offset of 2 skips the next instruction, an offset of -1 jumps to the previous instruction, and so on.)\n"
   ]
  },
  {
   "cell_type": "code",
   "execution_count": 38,
   "metadata": {
    "collapsed": false
   },
   "outputs": [
    {
     "name": "stdout",
     "output_type": "stream",
     "text": [
      "Day 18 part 1: first retrieved sound has frequency 7071.\n",
      "========================================================\n",
      "\n"
     ]
    }
   ],
   "source": [
    "def snd(state, x):\n",
    "    state.sounds.append(state.registers[x])\n",
    "    state.pos += 1\n",
    "    return state\n",
    "\n",
    "def _set(state, x, y):\n",
    "    state.registers[x] = y\n",
    "    state.pos += 1\n",
    "    return state\n",
    "\n",
    "def add(state, x, y):\n",
    "    state.registers[x] += y\n",
    "    state.pos += 1\n",
    "    return state\n",
    "    \n",
    "def mul(state, x, y):\n",
    "    state.registers[x] *= y\n",
    "    state.pos += 1\n",
    "    return state\n",
    "\n",
    "def mod(state, x, y):\n",
    "    state.registers[x] %= y\n",
    "    state.pos += 1\n",
    "    return state\n",
    "\n",
    "def rcv(state, x):\n",
    "    if x != 0:\n",
    "        state.pos = -1\n",
    "    else:\n",
    "        state.pos += 1\n",
    "    return state\n",
    "    \n",
    "def jgz(state, x, y):\n",
    "    if value_eval(state, x) > 0:\n",
    "        state.pos += y\n",
    "    else:\n",
    "        state.pos += 1\n",
    "    return state\n",
    "\n",
    "value_eval = lambda state, e: state.registers[e] if e.isalpha() else int(e)\n",
    "\n",
    "fun_dict = {'snd': snd,\n",
    "            'set': _set,\n",
    "            'add': add,\n",
    "            'mul': mul,\n",
    "            'mod': mod,\n",
    "            'rcv': rcv,\n",
    "            'jgz': jgz,\n",
    "           }\n",
    "\n",
    "class State:\n",
    "    def __init__(self):\n",
    "        self.registers = defaultdict(int)\n",
    "        self.pos = 0\n",
    "        self.sounds = []\n",
    "\n",
    "\n",
    "def run(instr):\n",
    "    instructions = [line.split(' ') for line in instr.splitlines()]\n",
    "    state = State()\n",
    "    for i in count():\n",
    "        inst, reg, *arg = instructions[state.pos]\n",
    "        pos = fun_dict[inst](state, reg, *map(lambda x: value_eval(state, x),arg))\n",
    "        if state.pos == -1: break\n",
    "    return state.sounds[-1]\n",
    "    \n",
    "itest = '''set a 1\n",
    "add a 2\n",
    "mul a a\n",
    "mod a 5\n",
    "snd a\n",
    "set a 0\n",
    "rcv a\n",
    "jgz a -1\n",
    "set a 1\n",
    "jgz a -2'''\n",
    "assert run(itest) == 4, \"challenge example\"\n",
    "\n",
    "instructions = Input(18)\n",
    "print(h1('Day 18 part 1: first retrieved sound has frequency {}.'.format(run(instructions))))"
   ]
  },
  {
   "cell_type": "markdown",
   "metadata": {},
   "source": [
    "Instructions for snd/rcv are meant to send/receive data between two programs running at the same time\n",
    "\n",
    "- **snd X** sends the value of X to the other program. These values wait in a queue until that program is ready to receive them. Each program has its own message queue, so a program can never receive a message it sent.\n",
    "- **rcv X** receives the next value and stores it in register X. If no values are in the queue, the program waits for a value to be sent to it. Programs do not continue to the next instruction until they have received a value. Values are received in the order they are sent.\n"
   ]
  },
  {
   "cell_type": "code",
   "execution_count": 39,
   "metadata": {
    "collapsed": false
   },
   "outputs": [
    {
     "name": "stdout",
     "output_type": "stream",
     "text": [
      "Day 18 part 2: program 1 has sent values 8001 times before the deadlock.\n",
      "========================================================================\n",
      "\n"
     ]
    }
   ],
   "source": [
    "class Programm(State):\n",
    "    def __init__(self, pid, queue_in, queue_out):\n",
    "        super().__init__()\n",
    "        self.registers['p'] = pid\n",
    "        self.queue_in = queue_in\n",
    "        self.queue_out = queue_out\n",
    "        self.waiting = False\n",
    "        \n",
    "def snd2(state, x):\n",
    "    state.queue_out.append(value_eval(state,x))\n",
    "    state.sounds.append(value_eval(state,x)) #abuse this\n",
    "    state.pos += 1\n",
    "    return state\n",
    "\n",
    "def rcv2(state, x):\n",
    "    if len(state.queue_in) > 0:\n",
    "        state.registers[x] = state.queue_in.pop(0)\n",
    "        state.pos += 1\n",
    "    else:\n",
    "        state.waiting = True\n",
    "    return state\n",
    "    \n",
    "fun_dict['snd'] = snd2\n",
    "fun_dict['rcv'] = rcv2\n",
    "\n",
    "def run(instr):\n",
    "    instructions = [line.split(' ') for line in instr.splitlines()]\n",
    "    q0, q1 = [], []\n",
    "    p0 = Programm(0, q0, q1)\n",
    "    p1 = Programm(1, q1, q0)\n",
    "    for i in count():\n",
    "        inst, reg, *arg = instructions[p0.pos]\n",
    "        p0 = fun_dict[inst](p0, reg, *map(lambda x: value_eval(p0, x),arg))\n",
    "        inst, reg, *arg = instructions[p1.pos]\n",
    "        p1 = fun_dict[inst](p1, reg, *map(lambda x: value_eval(p1, x),arg))\n",
    "        if p0.waiting and p1.waiting: break\n",
    "    return p0, p1\n",
    "\n",
    "p0, p1 = run(instructions)\n",
    "print(h1('Day 18 part 2: program 1 has sent values {} times before the deadlock.'.format(len(p1.sounds))))"
   ]
  },
  {
   "cell_type": "markdown",
   "metadata": {},
   "source": [
    "## Day 19: A Series of Tubes"
   ]
  },
  {
   "cell_type": "code",
   "execution_count": 40,
   "metadata": {
    "collapsed": false
   },
   "outputs": [
    {
     "name": "stdout",
     "output_type": "stream",
     "text": [
      "Day 19 part 1: visited letters in the following order: QPRYCIOLU\n",
      "================================================================\n",
      "\n",
      "Day 19 part 2: total length of the path: 16162\n",
      "==============================================\n",
      "\n"
     ]
    }
   ],
   "source": [
    "maze = Input(19, strip=False).splitlines()\n",
    "\n",
    "def valid(c):\n",
    "    return c in set(string.ascii_letters) | set('+-|')\n",
    "\n",
    "def move(point, direction):\n",
    "    moves = [((x,y), d, maze[x][y]) for (d,(x,y)) in zip('DURL', neighbors4(point)) if x < len(maze) \n",
    "                                                                                    and y < len(maze[0]) \n",
    "                                                                                    and valid(maze[x][y])]\n",
    "    \n",
    "    straight = first(m for m in moves if m[1] == direction)\n",
    "    if straight:\n",
    "        return straight # if possible, go straight\n",
    "    return first(m for m in moves if m[1] != dict(zip('DURL','UDLR'))[direction]) #dont go back where yo came from\n",
    "\n",
    "\n",
    "position, direction = (0, maze[0].index('|')), 'D'\n",
    "path = [(position, direction)]\n",
    "letters = []\n",
    "for i in count():\n",
    "    try:\n",
    "        position, direction, symbol = move(position, direction)\n",
    "    except TypeError: \n",
    "        break #no more moves\n",
    "    path.append((position, direction))\n",
    "    if symbol in string.ascii_letters:\n",
    "        letters.append(symbol)\n",
    "    if i > 50000:\n",
    "        print('maxiter')\n",
    "        break\n",
    "        \n",
    "print(h1('Day 19 part 1: visited letters in the following order: ' + cat(letters)))\n",
    "print(h1('Day 19 part 2: total length of the path: ' + str(len(path))))"
   ]
  },
  {
   "cell_type": "markdown",
   "metadata": {},
   "source": [
    "## Day 20: Particle Swarm\n",
    "\n",
    "In the long run, the acceleration will dominate, velocity and initial position can serve as tie-breakers.\n",
    "This could break in some cases (vel as tiebreaker where the initial velocity works against the acceleration).\n",
    "\n",
    "Works here though (no such traps in the input data)."
   ]
  },
  {
   "cell_type": "code",
   "execution_count": 72,
   "metadata": {
    "collapsed": false
   },
   "outputs": [
    {
     "name": "stdout",
     "output_type": "stream",
     "text": [
      "Particle is: PVA(pos=Vector(-4098, 2894, 5863), vel=Vector(105, -74, -150), acc=Vector(0, 0, 0))\n",
      "\n",
      "Day 20 part 1: closest particle in the long run is P364\n",
      "=======================================================\n",
      "\n"
     ]
    }
   ],
   "source": [
    "PVA = namedtuple('PVA', 'pos, vel, acc')\n",
    "particles = [PVA(*(Vector(ints(vec)) for vec in line.split(', '))) for line in Input(20).splitlines()]\n",
    "ind, part = min(enumerate(particles),key=lambda ip: (dist_L1(ip[1].acc), dist_L1(ip[1].vel), dist_L1(ip[1].pos)))\n",
    "print('Particle is: ' + str(part) + '\\n')\n",
    "print(h1('Day 20 part 1: closest particle in the long run is P{}'.format(ind)))"
   ]
  },
  {
   "cell_type": "markdown",
   "metadata": {},
   "source": [
    "In part two, all particles that will eventually collide should be removed upon collision.\n",
    "In theory, you'd have to check if all particles would be sorted the same way, no matter if you sort by position, velocity or acceleration. \n",
    "\n",
    "Or you just go through the first 100 updates and hope for the best.\n",
    "\n",
    "Guess what I did?"
   ]
  },
  {
   "cell_type": "code",
   "execution_count": 74,
   "metadata": {
    "collapsed": false
   },
   "outputs": [
    {
     "name": "stdout",
     "output_type": "stream",
     "text": [
      "Day 20 part 2: #particles left after all colissions is 420\n",
      "==========================================================\n",
      "\n"
     ]
    }
   ],
   "source": [
    "HOPE = 100\n",
    "particles = [PVA(*(Vector(ints(vec)) for vec in line.split(', '))) for line in Input(20).splitlines()]\n",
    "for _ in range(HOPE):\n",
    "    pos_cnt = Counter(p.pos for p in particles)\n",
    "    particles = [p for p in particles if pos_cnt[p.pos] == 1] # remove collisions\n",
    "    particles = [PVA(pos+vel+acc, vel+acc, acc) for pos,vel,acc in particles] # update kinetics\n",
    "print(h1('Day 20 part 2: #particles left after all colissions is '+ str(len(particles))))\n"
   ]
  },
  {
   "cell_type": "markdown",
   "metadata": {},
   "source": [
    "## Day 21: Fractal Art"
   ]
  },
  {
   "cell_type": "code",
   "execution_count": 104,
   "metadata": {
    "collapsed": false
   },
   "outputs": [
    {
     "name": "stdout",
     "output_type": "stream",
     "text": [
      "Grid after 5 iterations:\n",
      ".##....##.........\n",
      "###.#####.##.###..\n",
      "##....##........##\n",
      "..................\n",
      ".###...###...###..\n",
      "....##....##....##\n",
      "....##.##......##.\n",
      "#..######.##.##..#\n",
      ".####.##.........#\n",
      "...#.#............\n",
      "#....#.###..#...##\n",
      ".###.#....##.##...\n",
      "...##..##....##...\n",
      ".##..####.#####.##\n",
      ".....###....##....\n",
      "..................\n",
      "#...##.###...###..\n",
      ".##.......##....##\n",
      "\n",
      "Day 21 part 1: after 5 iterations there are 120 pixels \"on\"\n",
      "===========================================================\n",
      "\n",
      "Day 21 part 2: after 18 iterations there are 2204099 pixels \"on\"\n",
      "================================================================\n",
      "\n"
     ]
    }
   ],
   "source": [
    "subgrid4  = lambda i,j: ((i,j),  (i,j+1),\n",
    "                         (i+1,j),(i+1,j+1))\n",
    "subgrid9  = lambda i,j: ((i,  j),(i,  j+1),(i,  j+2),\n",
    "                         (i+1,j),(i+1,j+1),(i+1,j+2),\n",
    "                         (i+2,j),(i+2,j+1),(i+2,j+2))\n",
    "subgrid16 = lambda i,j: ((i,  j),(i  ,j+1),(i,  j+2),(i,  j+3),\n",
    "                         (i+1,j),(i+1,j+1),(i+1,j+2),(i+1,j+3),\n",
    "                         (i+2,j),(i+2,j+1),(i+2,j+2),(i+2,j+3),\n",
    "                         (i+3,j),(i+3,j+1),(i+3,j+2),(i+3,j+3))\n",
    "flipUD    = lambda grid: grid[::-1]\n",
    "flipLR    = lambda grid: [line[::-1] for line in grid]\n",
    "grid2line = lambda grid: cat(map(cat,grid))\n",
    "def line2grid(line):\n",
    "    width = int(len(line)**.5)\n",
    "    return [line[i*width:(i+1)*width] for i in range(width)]\n",
    "def gen_rules(line):\n",
    "    pattern, rule = line.replace('/','').split(' => ')\n",
    "    pattern = line2grid(pattern)\n",
    "    rules = {}\n",
    "    for i in range(4):\n",
    "        p = rot(pattern,i)\n",
    "        rules[grid2line(p)] = rule\n",
    "        rules[grid2line(flipUD(p))] = rule\n",
    "        rules[grid2line(flipLR(p))] = rule\n",
    "        rules[grid2line(flipUD(flipLR(p)))] = rule\n",
    "    return list(rules.items())\n",
    "    \n",
    "rules = {pattern: result for line in Input(21).splitlines() for pattern, result in gen_rules(line)}\n",
    "assert len(rules) == 2**9 + 2**4 #all distinct combinations of 2x2 and 3x3 grids\n",
    "\n",
    "def evolve(grid):\n",
    "    odd = bool(len(grid) % 2)\n",
    "    subgrid_cur, subgrid_next = [(subgrid4,subgrid9),(subgrid9,subgrid16)][odd]\n",
    "    subgrid_size = 3 if odd else 2\n",
    "    grids = []\n",
    "    for i,j in product(range(0,len(grid)//subgrid_size),repeat=2):\n",
    "        line = cat(grid[x][y] for x,y in subgrid_cur(i*subgrid_size,j*subgrid_size))\n",
    "        grids.append(((i,j),rules[line]))\n",
    "    nsubgrid_size = subgrid_size + 1\n",
    "    ngrid_size = int(len(grid) * nsubgrid_size / subgrid_size)\n",
    "    next_grid = [['x' for _ in range(ngrid_size)] for _ in range(ngrid_size)]\n",
    "    for (i,j), sgrid in grids:\n",
    "        for (x,y),c in zip(subgrid_next(i*nsubgrid_size,j*nsubgrid_size),sgrid):\n",
    "            next_grid[x][y] = c\n",
    "    return [cat(line) for line in next_grid]\n",
    "        \n",
    "pgrid = lambda grid: print('\\n'.join(map(cat,grid))+'\\n')        \n",
    "    \n",
    "grid = line2grid('.#...####')\n",
    "for i in range(1,6):\n",
    "    grid = evolve(grid)\n",
    "print('Grid after {} iterations:'.format(i))\n",
    "pgrid(grid)\n",
    "\n",
    "print(h1('Day 21 part 1: after 5 iterations there are {} pixels \"on\"'.format(cat(grid).count('#'))))\n",
    "\n",
    "for i in range(6,19):\n",
    "    grid = evolve(grid)\n",
    "print(h1('Day 21 part 2: after 18 iterations there are {} pixels \"on\"'.format(cat(grid).count('#'))))"
   ]
  },
  {
   "cell_type": "markdown",
   "metadata": {},
   "source": [
    "## Day 22: Sporifica Virus\n",
    "\n",
    "Actions performed for every step:\n",
    "- If the current node is infected, it turns to its right. Otherwise, it turns to its left. (Turning is done in-place; the current node does not change.)\n",
    "- If the current node is clean, it becomes infected. Otherwise, it becomes cleaned. (This is done after the node is considered for the purposes of changing direction.)\n",
    "- The virus carrier moves forward one node in the direction it is facing."
   ]
  },
  {
   "cell_type": "code",
   "execution_count": 138,
   "metadata": {
    "collapsed": false,
    "scrolled": false
   },
   "outputs": [
    {
     "name": "stdout",
     "output_type": "stream",
     "text": [
      "Day 22 part 1: after 10000 bursts there are 5460 newly infected nodes.\n",
      "======================================================================\n",
      "\n"
     ]
    }
   ],
   "source": [
    "grid = Input(22).splitlines()\n",
    "\n",
    "def get_infected(grid):\n",
    "    a = len(grid)//2\n",
    "    infected = {(j-a,i-a) for i,j in product(range(len(grid)),repeat=2) if grid[i][j] == '#'}\n",
    "    return infected\n",
    "\n",
    "def move(pos, dir, turn='L'):\n",
    "    '''moves Up Down Left Right, turns Left, Right, Forward, Backward'''\n",
    "    x,y = pos\n",
    "    dirs = 'ULDR'\n",
    "    turns = 'LRFB'\n",
    "    turn = (1,-1,0,2)[turns.index(turn)]\n",
    "    ndir = dirs[(dirs.index(dir)+turn)%4]\n",
    "    if   ndir == 'U': return (x,  y-1), ndir\n",
    "    elif ndir == 'D': return (x,  y+1), ndir\n",
    "    elif ndir == 'L': return (x-1,y  ), ndir\n",
    "    elif ndir == 'R': return (x+1,y  ), ndir\n",
    "    \n",
    "def routine(infected, pos, dir):\n",
    "    infected = set(infected)\n",
    "    newly_infected = []\n",
    "    yield pos, dir, infected, newly_infected\n",
    "    while True:\n",
    "        if pos in infected:\n",
    "            infected.remove(pos)\n",
    "            pos, dir = move(pos,dir,'R')\n",
    "        else:\n",
    "            infected.add(pos)\n",
    "            newly_infected.append(pos)\n",
    "            pos, dir = move(pos,dir,'L')\n",
    "        yield pos, dir, infected, newly_infected\n",
    "\n",
    "def print_grid(infected, pos=None):\n",
    "    '''for debugging and visualisation'''\n",
    "    minx = min(infected,key=lambda p:p[0])[0]-2\n",
    "    maxx = max(infected,key=lambda p:p[0])[0]+2\n",
    "    miny = min(infected,key=lambda p:p[1])[1]-2\n",
    "    maxy = max(infected,key=lambda p:p[1])[1]+2\n",
    "    s = ''\n",
    "    for x in range(miny,maxy+1):\n",
    "        for y in range(minx,maxx+1):\n",
    "            if (y,x) == pos:\n",
    "                s += '█' if (y,x) in infected else '*'\n",
    "            else:\n",
    "                s += '#' if (y,x) in infected else '.'\n",
    "        s += '\\n'\n",
    "    print(s)\n",
    "        \n",
    "assert len(nth(routine(get_infected(('..#','#..','...')), (0,0), 'U'), 70)[3]) == 41, 'challenge example 1'\n",
    "assert len(nth(routine(get_infected(('..#','#..','...')), (0,0), 'U'), 10000)[3]) == 5587, 'challenge example 2'\n",
    "\n",
    "N, pos, dir = 10000, (0,0), 'U'\n",
    "pos, dir, inf, newly_infected = nth(routine(get_infected(grid), pos, dir), N)\n",
    "print(h1('Day 22 part 1: after {} bursts there are {} newly infected nodes.'.format(N,len(newly_infected))))"
   ]
  },
  {
   "cell_type": "markdown",
   "metadata": {},
   "source": [
    "### Part 2\n",
    "\n",
    "Now, before it infects a clean node, it will weaken it to disable your defenses. If it encounters an infected node, it will instead flag the node to be cleaned in the future. So:\n",
    "\n",
    "- **Clean** nodes become **weakened**.\n",
    "- **Weakened** nodes become **infected**.\n",
    "- **Infected** nodes become **flagged**.\n",
    "- **Flagged** nodes become **clean**.\n",
    "\n",
    "Every node is always in exactly one of the above states.\n",
    "\n",
    "The virus carrier still functions in a similar way, but now uses the following logic during its bursts of action:\n",
    "\n",
    "- Decide which way to turn based on the current node:\n",
    "    - If it is **clean**, it turns *left*.\n",
    "    - If it is **weakened**, it does *not turn*, and will continue moving in the same direction.\n",
    "    - If it is **infected**, it turns *right*.\n",
    "    - If it is **flagged**, it *reverses* direction, and will go back the way it came.\n",
    "- Modify the state of the current node, as described above.\n",
    "- The virus carrier moves forward one node in the direction it is facing.\n",
    "\n",
    "Start with the same map (still using . for clean and # for infected) and still with the virus carrier starting in the middle and facing up."
   ]
  },
  {
   "cell_type": "code",
   "execution_count": 143,
   "metadata": {
    "collapsed": false
   },
   "outputs": [
    {
     "name": "stdout",
     "output_type": "stream",
     "text": [
      "CPU times: user 13.6 s, sys: 4 ms, total: 13.6 s\n",
      "Wall time: 13.6 s\n",
      "Day 22 part 2: after 10000000 bursts there are 2511702 newly infected nodes.\n",
      "============================================================================\n",
      "\n"
     ]
    }
   ],
   "source": [
    "class State(Enum):\n",
    "    CLEAN = '.'\n",
    "    WEAKENED = 'W'\n",
    "    FLAGGED = 'F'\n",
    "    INFECTED = '#'\n",
    "\n",
    "def routine2(infected, pos, dir):\n",
    "    state = defaultdict(lambda:State.CLEAN, zip(infected, repeat(State.INFECTED)))\n",
    "    newly_infected = []\n",
    "    yield pos, dir, state, newly_infected\n",
    "    while True:\n",
    "        if state[pos] == State.CLEAN:\n",
    "            state[pos] = State.WEAKENED\n",
    "            pos, dir = move(pos,dir,'L')\n",
    "        elif state[pos] == State.WEAKENED:\n",
    "            state[pos] = State.INFECTED\n",
    "            pos, dir = move(pos,dir,'F')\n",
    "            newly_infected.append(pos)\n",
    "        elif state[pos] == State.INFECTED:\n",
    "            state[pos] = State.FLAGGED\n",
    "            pos, dir = move(pos,dir,'R')\n",
    "        elif state[pos] == State.FLAGGED:\n",
    "            state[pos] = State.CLEAN\n",
    "            pos, dir = move(pos,dir,'B')  \n",
    "        yield pos, dir, state, newly_infected\n",
    "\n",
    "assert len(nth(routine2(get_infected(('..#','#..','...')), (0,0), 'U'), 100)[3]) == 26, 'challenge example 3'\n",
    "#assert len(nth(routine2(get_infected(('..#','#..','...')), (0,0), 'U'), 10000000)[3]) == 2511944, 'challenge example 2'\n",
    "\n",
    "N, pos, dir = 10000000, (0,0), 'U'\n",
    "%time pos, dir, inf, newly_infected = nth(routine2(get_infected(grid), pos, dir), N)\n",
    "print(h1('Day 22 part 2: after {} bursts there are {} newly infected nodes.'.format(N,len(newly_infected))))"
   ]
  },
  {
   "cell_type": "markdown",
   "metadata": {},
   "source": [
    "## Day 23"
   ]
  },
  {
   "cell_type": "code",
   "execution_count": null,
   "metadata": {
    "collapsed": true
   },
   "outputs": [],
   "source": [
    "data = Input(23)"
   ]
  },
  {
   "cell_type": "markdown",
   "metadata": {},
   "source": [
    "## Day 24"
   ]
  },
  {
   "cell_type": "code",
   "execution_count": 29,
   "metadata": {
    "collapsed": false
   },
   "outputs": [
    {
     "name": "stdout",
     "output_type": "stream",
     "text": [
      "Wall time: 5.45 s\n"
     ]
    }
   ],
   "source": [
    "segments = [tuple(int(x) for x in line.split('/'))\n",
    "            for line in Input(24).splitlines()]\n",
    "segments = tuple(segments)\n",
    "def matching_segments(pin, segments):\n",
    "    return tuple((s[1] if s[0] == pin else s[0],s)\n",
    "                 for s in segments if pin in s)\n",
    "    \n",
    "def dfs(segments, init_pin=0):\n",
    "    stack = [(init_pin,tuple(),segments)]\n",
    "    while len(stack) > 0:\n",
    "        open_pin, bridge, segments = stack.pop()\n",
    "        segs = matching_segments(open_pin, segments)\n",
    "        if len(segs) == 0:\n",
    "            yield bridge\n",
    "        else:\n",
    "            for open_pin, seg in segs:\n",
    "                stack.append((open_pin, \n",
    "                              tuple(chain(bridge, [seg])),\n",
    "                              tuple(s for s in segments if s != seg)\n",
    "                             ))\n",
    "%time all_bridges = list(dfs(segments))"
   ]
  },
  {
   "cell_type": "code",
   "execution_count": 30,
   "metadata": {
    "collapsed": false
   },
   "outputs": [
    {
     "name": "stdout",
     "output_type": "stream",
     "text": [
      "Day 24 part 1: strongest bridge has strength of 1859\n",
      "====================================================\n",
      "\n"
     ]
    }
   ],
   "source": [
    "strength = lambda bridge: sum(map(sum,bridge))\n",
    "strongest_bridge = max(all_bridges,key=strength)\n",
    "print(h1('Day 24 part 1: strongest bridge has strength of '\n",
    "         +str(strength(strongest_bridge))))"
   ]
  },
  {
   "cell_type": "code",
   "execution_count": 35,
   "metadata": {
    "collapsed": false
   },
   "outputs": [
    {
     "name": "stdout",
     "output_type": "stream",
     "text": [
      "Day 24 part 2: longest strongest bridge has strength of 1799\n",
      "============================================================\n",
      "\n"
     ]
    }
   ],
   "source": [
    "lenstr = lambda bridge: (len(bridge), strength(bridge))\n",
    "longstrong_bridge = max(all_bridges, key=lenstr)\n",
    "print(h1('Day 24 part 2: longest strongest bridge has strength of '\n",
    "         + str(strength(longstrong_bridge))))"
   ]
  },
  {
   "cell_type": "markdown",
   "metadata": {
    "collapsed": true
   },
   "source": [
    "## Day 25"
   ]
  },
  {
   "cell_type": "code",
   "execution_count": 94,
   "metadata": {
    "collapsed": false
   },
   "outputs": [],
   "source": [
    "init_pattern = re.compile(r'.*state (?P<state>[A-Z])[.].*?(?P<steps>[0-9]+)',re.DOTALL)\n",
    "state_pattern = re.compile(r'''In state (?P<state>[A-Z]):\n",
    "  If the current value is 0:\n",
    "    - Write the value (?P<w0>[01])[.]\n",
    "    - Move one slot to the (?P<d0>\\w+)[.]\n",
    "    - Continue with state (?P<s0>[A-Z])[.]\n",
    "  If the current value is 1:\n",
    "    - Write the value (?P<w1>[01])[.]\n",
    "    - Move one slot to the (?P<d1>\\w+)[.]\n",
    "    - Continue with state (?P<s1>[A-Z])[.]''',re.MULTILINE)\n",
    "\n",
    "def state_factory(blueprint):\n",
    "    instr = state_pattern.match(blueprint)\n",
    "    dirs = {'right': +1, 'left': -1}\n",
    "    state = instr.group('state')\n",
    "    w0 = int(instr.group('w0'))\n",
    "    d0 = dirs[instr.group('d0')]\n",
    "    s0 = instr.group('s0')\n",
    "    w1 = int(instr.group('w1'))\n",
    "    d1 = dirs[instr.group('d1')]\n",
    "    s1 = instr.group('s1')\n",
    "    def state_fun(pos, tape):\n",
    "        if tape[pos] == 0:\n",
    "            tape[pos] = w0\n",
    "            pos += d0\n",
    "            next_state = s0\n",
    "        else:\n",
    "            tape[pos] = w1\n",
    "            pos += d1\n",
    "            next_state = s1\n",
    "        return pos, next_state, tape\n",
    "    return state, state_fun\n",
    "\n",
    "def build_turing_machine(blueprints):\n",
    "    blueprints = blueprints.split('\\n\\n')\n",
    "    meta = init_pattern.match(blueprints.pop(0))\n",
    "    init_state = meta.group('state')\n",
    "    steps = int(meta.group('steps'))\n",
    "    states = dict()\n",
    "    for bp in blueprints:\n",
    "        state, statefun = state_factory(bp)\n",
    "        states[state] = statefun\n",
    "    return init_state, steps, states\n",
    "    \n",
    "def run_turing_machine(steps, states, state, pos=0, tape=None):\n",
    "    if tape is None:\n",
    "        tape = defaultdict(int)\n",
    "    for i in range(steps):\n",
    "        pos, state, tape = states[state](pos, tape)\n",
    "    return pos, state, tape, sum(tape.values())"
   ]
  },
  {
   "cell_type": "code",
   "execution_count": 95,
   "metadata": {
    "collapsed": false
   },
   "outputs": [],
   "source": [
    "#testcase from the description\n",
    "blueprint = '''Begin in state A.\n",
    "Perform a diagnostic checksum after 6 steps.\n",
    "\n",
    "In state A:\n",
    "  If the current value is 0:\n",
    "    - Write the value 1.\n",
    "    - Move one slot to the right.\n",
    "    - Continue with state B.\n",
    "  If the current value is 1:\n",
    "    - Write the value 0.\n",
    "    - Move one slot to the left.\n",
    "    - Continue with state B.\n",
    "\n",
    "In state B:\n",
    "  If the current value is 0:\n",
    "    - Write the value 1.\n",
    "    - Move one slot to the left.\n",
    "    - Continue with state A.\n",
    "  If the current value is 1:\n",
    "    - Write the value 1.\n",
    "    - Move one slot to the right.\n",
    "    - Continue with state A.'''\n",
    "init_state, steps, states = build_turing_machine(blueprint)\n",
    "*_, checksum = run_turing_machine(steps, states, init_state)\n",
    "assert checksum == 3"
   ]
  },
  {
   "cell_type": "code",
   "execution_count": 97,
   "metadata": {
    "collapsed": false
   },
   "outputs": [
    {
     "name": "stdout",
     "output_type": "stream",
     "text": [
      "Wall time: 5.39 s\n",
      "Day 25 part 1: checksum after 12683008 steps is 3554\n",
      "====================================================\n",
      "\n"
     ]
    }
   ],
   "source": [
    "blueprint = Input(25)\n",
    "init_state, steps, states = build_turing_machine(blueprint)\n",
    "%time *_, checksum = run_turing_machine(steps, states, init_state)\n",
    "print(h1('Day 25 part 1: checksum after {} steps is {}'.format(steps, checksum)))"
   ]
  },
  {
   "cell_type": "code",
   "execution_count": null,
   "metadata": {
    "collapsed": true
   },
   "outputs": [],
   "source": []
  }
 ],
 "metadata": {
  "kernelspec": {
   "display_name": "Python 3",
   "language": "python",
   "name": "python3"
  },
  "language_info": {
   "codemirror_mode": {
    "name": "ipython",
    "version": 3
   },
   "file_extension": ".py",
   "mimetype": "text/x-python",
   "name": "python",
   "nbconvert_exporter": "python",
   "pygments_lexer": "ipython3",
   "version": "3.5.0"
  }
 },
 "nbformat": 4,
 "nbformat_minor": 1
}
