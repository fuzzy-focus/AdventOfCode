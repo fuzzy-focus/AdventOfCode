{
 "cells": [
  {
   "cell_type": "markdown",
   "metadata": {},
   "source": [
    "# Advent of Code 2018"
   ]
  },
  {
   "cell_type": "markdown",
   "metadata": {},
   "source": [
    "See [here](http://adventofcode.com/2018/)."
   ]
  },
  {
   "cell_type": "markdown",
   "metadata": {},
   "source": [
    "## Preparation"
   ]
  },
  {
   "cell_type": "markdown",
   "metadata": {},
   "source": [
    "Imports and utility functions that might or might not prove useful down the line."
   ]
  },
  {
   "cell_type": "code",
   "execution_count": 1,
   "metadata": {},
   "outputs": [],
   "source": [
    "# Python 3.x\n",
    "import re\n",
    "import numpy as np\n",
    "import math\n",
    "import random\n",
    "import urllib.request\n",
    "import reprlib\n",
    "import operator\n",
    "import string\n",
    "import hashlib\n",
    "import json\n",
    "\n",
    "from collections import Counter, defaultdict, namedtuple, deque\n",
    "from functools   import lru_cache, reduce\n",
    "from itertools   import (permutations, combinations, chain, cycle, tee,\n",
    "                        product, islice, count, repeat, filterfalse, accumulate)\n",
    "from heapq       import heappop, heappush\n",
    "from enum        import Enum\n",
    "\n",
    "# sometimes a graph helps\n",
    "import matplotlib\n",
    "import matplotlib.pyplot as plt\n",
    "%matplotlib inline\n",
    "matplotlib.rcParams['figure.figsize'] = (8,8)\n",
    "\n",
    "def Input(day,strip=True):\n",
    "    \"Open this day's input file.\"\n",
    "    \n",
    "    filename = 'input/input{}.txt'.format(day)\n",
    "    try:\n",
    "        with open(filename, 'r') as f:\n",
    "            text = f.read()\n",
    "            if strip:\n",
    "                text = text.strip()\n",
    "        return text\n",
    "    except FileNotFoundError:\n",
    "        url = 'http://adventofcode.com/2018/day/{}/input'.format(day)\n",
    "        print('input file not found. opening browser...')\n",
    "        print('please save the file as \"input<#day>.txt in your input folder.')\n",
    "        import webbrowser\n",
    "        webbrowser.open(url)\n",
    "\n",
    "cat = ''.join\n",
    "def first(iterable, default=None): return next(iter(iterable), default)\n",
    "def nth(iterable, n, default=None): return next(islice(iterable, n, None), default)\n",
    "def fs(*items): return frozenset(items)\n",
    "\n",
    "def window(seq, n=2):\n",
    "    \"Returns a sliding window (of width n) over data from the iterable\"\n",
    "    \"   s -> (s0,s1,...s[n-1]), (s1,s2,...,sn), ...                   \"\n",
    "    it = iter(seq)\n",
    "    result = tuple(islice(it, n))\n",
    "    if len(result) == n:\n",
    "        yield result\n",
    "    for elem in it:\n",
    "        result = result[1:] + (elem,)\n",
    "        yield result\n",
    "\n",
    "def ilen(iterator): return sum(1 for _ in iterator)\n",
    "\n",
    "def ints(text,typ=int):\n",
    "    return list(map(typ,re.compile(r'[-+]?\\d*[.]?\\d+').findall(text)))\n",
    "\n",
    "def shift(it, n):\n",
    "    return it[n:] + it[:n]\n",
    "\n",
    "def rot(mat, N=1, clockwise=True):\n",
    "    '''rotate 2D matrix'''\n",
    "    for _ in range(N):\n",
    "        if clockwise:\n",
    "            mat = list(zip(*mat[::-1]))\n",
    "        else:\n",
    "            mat = list(zip(*mat[::-1]))[::-1]\n",
    "    return mat\n",
    "\n",
    "def locate2D(m, val):\n",
    "    '''locate value in 2D list'''\n",
    "    for i, line in enumerate(m):\n",
    "        j=-1\n",
    "        try:\n",
    "            j = line.index(val)\n",
    "        except ValueError:\n",
    "            continue\n",
    "        break\n",
    "    else:\n",
    "        i = -1\n",
    "    return (i,j)\n",
    "\n",
    "def dist_L1(p1,p2=None):\n",
    "    if p2 == None:\n",
    "        p2 = repeat(0)\n",
    "    return sum(abs(p2_i-p1_i) for p1_i, p2_i in zip(p1,p2))\n",
    "\n",
    "def dist_L2(p1,p2=None):\n",
    "    if p2 == None:\n",
    "        p2 = repeat(0)\n",
    "    return sum((p2_i-p1_i)*(p2_i-p1_i) for p1_i, p2_i in zip(p1,p2))**.5\n",
    "\n",
    "def neighbors4(point): \n",
    "    \"The four neighbors (without diagonals).\"\n",
    "    x, y = point\n",
    "    return ((x+1, y), (x-1, y), (x, y+1), (x, y-1))\n",
    "\n",
    "def neighbors8(point): \n",
    "    \"The eight neighbors (with diagonals).\"\n",
    "    x, y = point \n",
    "    return ((x+1, y), (x-1, y), (x, y+1), (x, y-1),\n",
    "            (x+1, y+1), (x-1, y-1), (x+1, y-1), (x-1, y+1))\n",
    "\n",
    "from numbers import Number \n",
    "class Vector(object):\n",
    "    def __init__(self,*args):\n",
    "        if len(args) == 1:\n",
    "            if isinstance(args,Number): self.vec = tuple(0 for _ in range(args))\n",
    "            else: self.vec = tuple(*args)\n",
    "        else: self.vec = tuple(args)\n",
    "    def __mul__(self, other):\n",
    "        if isinstance(other,Number): return Vector(other * x for x in self.vec)\n",
    "        elif isinstance(other,Vector): return sum(x*y for x,y in zip(self.vec, other.vec))\n",
    "        raise NotImplemented\n",
    "    def __add__(self,other):\n",
    "        return Vector(x+y for x,y in zip(self.vec, other.vec))\n",
    "    def __sub__(self,other):\n",
    "        return Vector(x-y for x,y in zip(self.vec, other.vec))\n",
    "    def __iter__(self):\n",
    "        return self.vec.__iter__()\n",
    "    def __len__(self):\n",
    "        return len(self.vec)\n",
    "    def __getitem__(self, key):\n",
    "        return self.vec[key]\n",
    "    def __repr__(self):\n",
    "        return 'Vector(' + str(self.vec)[1:-1] + ')'\n",
    "    def __eq__(self, other):\n",
    "        return self.vec == other.vec\n",
    "    def __hash__(self):\n",
    "        return hash(self.vec)\n",
    "\n",
    "#display and debug functions\n",
    "def h1(s):\n",
    "    upr, brd, lwr = '▁', '█', '▔'\n",
    "    return upr*(len(s)+4) + '\\n'+brd+' ' + s + ' ' + brd +'\\n' + lwr*(len(s)+4)\n",
    "\n",
    "def h2(s, ch='-'):\n",
    "    return s + '\\n' + ch*len(s) + '\\n'\n",
    "\n",
    "h1 = lambda s: h2(s,'=')  #the other h1 is a bitch, apparently.\n",
    "\n",
    "def print_result(day, part, text):\n",
    "    print(h1('Day {} part {}: {}'.format(day, part, text)))\n",
    "\n",
    "def trace1(f):\n",
    "    \"Print a trace of the input and output of a function on one line.\"\n",
    "    rep = reprlib.aRepr\n",
    "    rep.maxother = 85\n",
    "    def traced_f(*args):\n",
    "        arg_strs = ', '.join(map(rep.repr, args))\n",
    "        result = f(*args)\n",
    "        print('{}({}) = {}'.format(f.__name__, arg_strs, result))\n",
    "        return result\n",
    "    return traced_f"
   ]
  },
  {
   "cell_type": "markdown",
   "metadata": {},
   "source": [
    "## [Day 1: Chronal Calibration](http://adventofcode.com/2018/day/1)"
   ]
  },
  {
   "cell_type": "code",
   "execution_count": 17,
   "metadata": {
    "scrolled": true
   },
   "outputs": [],
   "source": [
    "data = Input(1)\n",
    "frequencies = ints(data)\n",
    "\n",
    "day1_part1 = sum\n",
    "\n",
    "def day1_part2(frequencies):\n",
    "    r = 0\n",
    "    s = set([r])\n",
    "    for f in cycle(frequencies):\n",
    "        r += f\n",
    "        if r in s:\n",
    "            return r\n",
    "        s.add(r)"
   ]
  },
  {
   "cell_type": "code",
   "execution_count": 18,
   "metadata": {},
   "outputs": [
    {
     "name": "stdout",
     "output_type": "stream",
     "text": [
      "Day 1 part 1: Frequency is 439\n",
      "==============================\n",
      "\n",
      "Day 1 part 2: first double is 124645\n",
      "====================================\n",
      "\n"
     ]
    }
   ],
   "source": [
    "print_result(1,1,'Frequency is '+str(day1_part1(frequencies)))\n",
    "print_result(1,2,'first double is ' + str(day1_part2(frequencies)))"
   ]
  },
  {
   "cell_type": "markdown",
   "metadata": {},
   "source": [
    "## [Day 2: Inventory Management System](http://adventofcode.com/2018/day/2)"
   ]
  },
  {
   "cell_type": "code",
   "execution_count": 29,
   "metadata": {},
   "outputs": [],
   "source": [
    "data = Input(2).split()\n",
    "\n",
    "def day2_part1(ids):\n",
    "    \"\"\"computing the checksum\"\"\"\n",
    "    data = [Counter(s) for s in ids]\n",
    "    data = [list(set(v for k,v in s.items() if v == 2 or v == 3)) for s in data if 2 in s.values() or 3 in s.values()]\n",
    "    data = Counter(sum(data,[]))\n",
    "    checksum = data[2]*data[3]\n",
    "    return checksum\n",
    "\n",
    "test_p1 = ['abcdef', 'bababc', 'abbcde', 'abcccd', 'aabcdd', 'abcdee', 'ababab']\n",
    "assert day2_part1(test_p1) == 12\n",
    "\n",
    "def day2_part2(ids):\n",
    "    \"\"\"find common letters between matching IDs\"\"\"\n",
    "    for id_1, id_2 in combinations(ids,2):\n",
    "        common = cat(c_1 for c_1, c_2 in zip(id_1, id_2) if c_1 == c_2)\n",
    "        if len(common) + 1 == len(id_1):\n",
    "            return common\n",
    "\n",
    "test_p2 = ['abcde', 'fghij', 'klmno', 'pqrst', 'fguij', 'axcye', 'wvxyz'] \n",
    "assert day2_part2(test_p2) == 'fgij'"
   ]
  },
  {
   "cell_type": "code",
   "execution_count": 27,
   "metadata": {},
   "outputs": [
    {
     "name": "stdout",
     "output_type": "stream",
     "text": [
      "Day 2 part 1: checksum is 7192\n",
      "==============================\n",
      "\n",
      "Day 2 part 2: common letters for the matching IDs are \"mbruvapghxlzycbhmfqjonsie\"\n",
      "=================================================================================\n",
      "\n"
     ]
    }
   ],
   "source": [
    "print_result(2,1,'checksum is '+str(day2_part1(data)))\n",
    "print_result(2,2,'common letters for the matching IDs are \"'+str(day2_part2(data))+'\"')"
   ]
  },
  {
   "cell_type": "markdown",
   "metadata": {},
   "source": [
    "## [Day 3](http://adventofcode.com/2018/day/3)"
   ]
  },
  {
   "cell_type": "code",
   "execution_count": 30,
   "metadata": {},
   "outputs": [],
   "source": [
    "data = Input(3)\n",
    "\n",
    "def day3_part1():\n",
    "    \"\"\" \"\"\"\n",
    "    pass\n",
    "\n",
    "def day3_part2():\n",
    "    pass"
   ]
  },
  {
   "cell_type": "code",
   "execution_count": null,
   "metadata": {
    "scrolled": true
   },
   "outputs": [],
   "source": [
    "print_result(3,1,''+str(day3_part1(data)))\n",
    "print_result(3,2,''+str(day3_part2(data)))"
   ]
  },
  {
   "cell_type": "code",
   "execution_count": null,
   "metadata": {},
   "outputs": [],
   "source": []
  },
  {
   "cell_type": "markdown",
   "metadata": {},
   "source": [
    "## [Day 4](http://adventofcode.com/2018/day/4)"
   ]
  },
  {
   "cell_type": "code",
   "execution_count": 30,
   "metadata": {},
   "outputs": [],
   "source": [
    "data = Input(4)\n",
    "\n",
    "def day4_part1():\n",
    "    \"\"\" \"\"\"\n",
    "    pass\n",
    "\n",
    "def day4_part2():\n",
    "    pass"
   ]
  },
  {
   "cell_type": "code",
   "execution_count": null,
   "metadata": {
    "scrolled": true
   },
   "outputs": [],
   "source": [
    "print_result(4,1,''+str(day4_part1(data)))\n",
    "print_result(4,2,''+str(day4_part2(data)))"
   ]
  },
  {
   "cell_type": "code",
   "execution_count": null,
   "metadata": {},
   "outputs": [],
   "source": []
  },
  {
   "cell_type": "markdown",
   "metadata": {},
   "source": [
    "## [Day 5](http://adventofcode.com/2018/day/5)"
   ]
  },
  {
   "cell_type": "code",
   "execution_count": 30,
   "metadata": {},
   "outputs": [],
   "source": [
    "data = Input(5)\n",
    "\n",
    "def day5_part1():\n",
    "    \"\"\" \"\"\"\n",
    "    pass\n",
    "\n",
    "def day5_part2():\n",
    "    pass"
   ]
  },
  {
   "cell_type": "code",
   "execution_count": null,
   "metadata": {
    "scrolled": true
   },
   "outputs": [],
   "source": [
    "print_result(5,1,''+str(day5_part1(data)))\n",
    "print_result(5,2,''+str(day5_part2(data)))"
   ]
  },
  {
   "cell_type": "code",
   "execution_count": null,
   "metadata": {},
   "outputs": [],
   "source": []
  },
  {
   "cell_type": "markdown",
   "metadata": {},
   "source": [
    "## [Day 6](http://adventofcode.com/2018/day/6)"
   ]
  },
  {
   "cell_type": "code",
   "execution_count": 30,
   "metadata": {},
   "outputs": [],
   "source": [
    "data = Input(3)\n",
    "\n",
    "def day6_part1():\n",
    "    \"\"\" \"\"\"\n",
    "    pass\n",
    "\n",
    "def day6_part2():\n",
    "    pass"
   ]
  },
  {
   "cell_type": "code",
   "execution_count": null,
   "metadata": {
    "scrolled": true
   },
   "outputs": [],
   "source": [
    "print_result(6,1,''+str(day6_part1(data)))\n",
    "print_result(6,2,''+str(day6_part2(data)))"
   ]
  },
  {
   "cell_type": "code",
   "execution_count": null,
   "metadata": {},
   "outputs": [],
   "source": []
  }
 ],
 "metadata": {
  "kernelspec": {
   "display_name": "Python 3",
   "language": "python",
   "name": "python3"
  },
  "language_info": {
   "codemirror_mode": {
    "name": "ipython",
    "version": 3
   },
   "file_extension": ".py",
   "mimetype": "text/x-python",
   "name": "python",
   "nbconvert_exporter": "python",
   "pygments_lexer": "ipython3",
   "version": "3.5.2"
  },
  "varInspector": {
   "cols": {
    "lenName": 16,
    "lenType": 16,
    "lenVar": "120"
   },
   "kernels_config": {
    "python": {
     "delete_cmd_postfix": "",
     "delete_cmd_prefix": "del ",
     "library": "var_list.py",
     "varRefreshCmd": "print(var_dic_list())"
    },
    "r": {
     "delete_cmd_postfix": ") ",
     "delete_cmd_prefix": "rm(",
     "library": "var_list.r",
     "varRefreshCmd": "cat(var_dic_list()) "
    }
   },
   "types_to_exclude": [
    "module",
    "function",
    "builtin_function_or_method",
    "instance",
    "_Feature"
   ],
   "window_display": false
  }
 },
 "nbformat": 4,
 "nbformat_minor": 2
}
