{
 "cells": [
  {
   "cell_type": "markdown",
   "metadata": {},
   "source": [
    "# Advent of Code 2018"
   ]
  },
  {
   "cell_type": "markdown",
   "metadata": {},
   "source": [
    "See [here](http://adventofcode.com/2018/)."
   ]
  },
  {
   "cell_type": "markdown",
   "metadata": {},
   "source": [
    "## Preparation"
   ]
  },
  {
   "cell_type": "markdown",
   "metadata": {},
   "source": [
    "Imports and utility functions that might or might not prove useful down the line."
   ]
  },
  {
   "cell_type": "code",
   "execution_count": 1,
   "metadata": {
    "collapsed": true
   },
   "outputs": [],
   "source": [
    "# Python 3.x\n",
    "import re\n",
    "import numpy as np\n",
    "import math\n",
    "import random\n",
    "import urllib.request\n",
    "import reprlib\n",
    "import operator\n",
    "import string\n",
    "import hashlib\n",
    "import json\n",
    "\n",
    "from collections import Counter, defaultdict, namedtuple, deque\n",
    "from functools   import lru_cache, reduce\n",
    "from itertools   import (permutations, combinations, chain, cycle, tee,\n",
    "                        product, islice, count, repeat, filterfalse, accumulate)\n",
    "from heapq       import heappop, heappush\n",
    "from enum        import Enum\n",
    "\n",
    "# sometimes a graph helps\n",
    "import matplotlib\n",
    "import matplotlib.pyplot as plt\n",
    "%matplotlib inline\n",
    "matplotlib.rcParams['figure.figsize'] = (8,8)\n",
    "\n",
    "def Input(day,strip=True):\n",
    "    \"Open this day's input file.\"\n",
    "    \n",
    "    filename = 'input/input{}.txt'.format(day)\n",
    "    try:\n",
    "        with open(filename, 'r') as f:\n",
    "            text = f.read()\n",
    "            if strip:\n",
    "                text = text.strip()\n",
    "        return text\n",
    "    except FileNotFoundError:\n",
    "        url = 'http://adventofcode.com/2018/day/{}/input'.format(day)\n",
    "        print('input file not found. opening browser...')\n",
    "        print('please save the file as \"input<#day>.txt in your input folder.')\n",
    "        import webbrowser\n",
    "        webbrowser.open(url)\n",
    "\n",
    "cat = ''.join\n",
    "def first(iterable, default=None): return next(iter(iterable), default)\n",
    "def nth(iterable, n, default=None): return next(islice(iterable, n, None), default)\n",
    "def fs(*items): return frozenset(items)\n",
    "\n",
    "def window(seq, n=2):\n",
    "    \"Returns a sliding window (of width n) over data from the iterable\"\n",
    "    \"   s -> (s0,s1,...s[n-1]), (s1,s2,...,sn), ...                   \"\n",
    "    it = iter(seq)\n",
    "    result = tuple(islice(it, n))\n",
    "    if len(result) == n:\n",
    "        yield result\n",
    "    for elem in it:\n",
    "        result = result[1:] + (elem,)\n",
    "        yield result\n",
    "\n",
    "def ilen(iterator): return sum(1 for _ in iterator)\n",
    "\n",
    "def ints(text,typ=int):\n",
    "    return list(map(typ,re.compile(r'[-+]?\\d*[.]?\\d+').findall(text)))\n",
    "\n",
    "def shift(it, n):\n",
    "    return it[n:] + it[:n]\n",
    "\n",
    "def rot(mat, N=1, clockwise=True):\n",
    "    '''rotate 2D matrix'''\n",
    "    for _ in range(N):\n",
    "        if clockwise:\n",
    "            mat = list(zip(*mat[::-1]))\n",
    "        else:\n",
    "            mat = list(zip(*mat[::-1]))[::-1]\n",
    "    return mat\n",
    "\n",
    "def locate2D(m, val):\n",
    "    '''locate value in 2D list'''\n",
    "    for i, line in enumerate(m):\n",
    "        j=-1\n",
    "        try:\n",
    "            j = line.index(val)\n",
    "        except ValueError:\n",
    "            continue\n",
    "        break\n",
    "    else:\n",
    "        i = -1\n",
    "    return (i,j)\n",
    "\n",
    "def dist_L1(p1,p2=None):\n",
    "    if p2 == None:\n",
    "        p2 = repeat(0)\n",
    "    return sum(abs(p2_i-p1_i) for p1_i, p2_i in zip(p1,p2))\n",
    "\n",
    "def dist_L2(p1,p2=None):\n",
    "    if p2 == None:\n",
    "        p2 = repeat(0)\n",
    "    return sum((p2_i-p1_i)*(p2_i-p1_i) for p1_i, p2_i in zip(p1,p2))**.5\n",
    "\n",
    "def neighbors4(point): \n",
    "    \"The four neighbors (without diagonals).\"\n",
    "    x, y = point\n",
    "    return ((x+1, y), (x-1, y), (x, y+1), (x, y-1))\n",
    "\n",
    "def neighbors8(point): \n",
    "    \"The eight neighbors (with diagonals).\"\n",
    "    x, y = point \n",
    "    return ((x+1, y), (x-1, y), (x, y+1), (x, y-1),\n",
    "            (x+1, y+1), (x-1, y-1), (x+1, y-1), (x-1, y+1))\n",
    "\n",
    "from numbers import Number \n",
    "class Vector(object):\n",
    "    def __init__(self,*args):\n",
    "        if len(args) == 1:\n",
    "            if isinstance(args,Number): self.vec = tuple(0 for _ in range(args))\n",
    "            else: self.vec = tuple(*args)\n",
    "        else: self.vec = tuple(args)\n",
    "    def __mul__(self, other):\n",
    "        if isinstance(other,Number): return Vector(other * x for x in self.vec)\n",
    "        elif isinstance(other,Vector): return sum(x*y for x,y in zip(self.vec, other.vec))\n",
    "        raise NotImplemented\n",
    "    def __add__(self,other):\n",
    "        return Vector(x+y for x,y in zip(self.vec, other.vec))\n",
    "    def __sub__(self,other):\n",
    "        return Vector(x-y for x,y in zip(self.vec, other.vec))\n",
    "    def __iter__(self):\n",
    "        return self.vec.__iter__()\n",
    "    def __len__(self):\n",
    "        return len(self.vec)\n",
    "    def __getitem__(self, key):\n",
    "        return self.vec[key]\n",
    "    def __repr__(self):\n",
    "        return 'Vector(' + str(self.vec)[1:-1] + ')'\n",
    "    def __eq__(self, other):\n",
    "        return self.vec == other.vec\n",
    "    def __hash__(self):\n",
    "        return hash(self.vec)\n",
    "\n",
    "#display and debug functions\n",
    "def h1(s):\n",
    "    upr, brd, lwr = '▁', '█', '▔'\n",
    "    return upr*(len(s)+4) + '\\n'+brd+' ' + s + ' ' + brd +'\\n' + lwr*(len(s)+4)\n",
    "\n",
    "def h2(s, ch='-'):\n",
    "    return s + '\\n' + ch*len(s) + '\\n'\n",
    "\n",
    "h1 = lambda s: h2(s,'=')  #the other h1 is a bitch, apparently.\n",
    "\n",
    "def print_result(day, part, text):\n",
    "    print(h1('Day {} part {}: {}'.format(day, part, text)))\n",
    "\n",
    "def trace1(f):\n",
    "    \"Print a trace of the input and output of a function on one line.\"\n",
    "    rep = reprlib.aRepr\n",
    "    rep.maxother = 85\n",
    "    def traced_f(*args):\n",
    "        arg_strs = ', '.join(map(rep.repr, args))\n",
    "        result = f(*args)\n",
    "        print('{}({}) = {}'.format(f.__name__, arg_strs, result))\n",
    "        return result\n",
    "    return traced_f"
   ]
  },
  {
   "cell_type": "markdown",
   "metadata": {
    "heading_collapsed": true
   },
   "source": [
    "## [Day 1: Chronal Calibration](http://adventofcode.com/2018/day/1)"
   ]
  },
  {
   "cell_type": "code",
   "execution_count": 17,
   "metadata": {
    "collapsed": true,
    "hidden": true,
    "scrolled": true
   },
   "outputs": [],
   "source": [
    "data = Input(1)\n",
    "frequencies = ints(data)\n",
    "\n",
    "day1_part1 = sum\n",
    "\n",
    "def day1_part2(frequencies):\n",
    "    r = 0\n",
    "    s = set([r])\n",
    "    for f in cycle(frequencies):\n",
    "        r += f\n",
    "        if r in s:\n",
    "            return r\n",
    "        s.add(r)"
   ]
  },
  {
   "cell_type": "code",
   "execution_count": 18,
   "metadata": {
    "hidden": true
   },
   "outputs": [
    {
     "name": "stdout",
     "output_type": "stream",
     "text": [
      "Day 1 part 1: Frequency is 439\n",
      "==============================\n",
      "\n",
      "Day 1 part 2: first double is 124645\n",
      "====================================\n",
      "\n"
     ]
    }
   ],
   "source": [
    "print_result(1,1,'Frequency is '+str(day1_part1(frequencies)))\n",
    "print_result(1,2,'first double is ' + str(day1_part2(frequencies)))"
   ]
  },
  {
   "cell_type": "markdown",
   "metadata": {
    "heading_collapsed": true
   },
   "source": [
    "## [Day 2: Inventory Management System](http://adventofcode.com/2018/day/2)"
   ]
  },
  {
   "cell_type": "code",
   "execution_count": 29,
   "metadata": {
    "collapsed": true,
    "hidden": true
   },
   "outputs": [],
   "source": [
    "data = Input(2).split()\n",
    "\n",
    "def day2_part1(ids):\n",
    "    \"\"\"computing the checksum\"\"\"\n",
    "    data = [Counter(s) for s in ids]\n",
    "    data = [list(set(v for k,v in s.items() if v == 2 or v == 3)) for s in data if 2 in s.values() or 3 in s.values()]\n",
    "    data = Counter(sum(data,[]))\n",
    "    checksum = data[2]*data[3]\n",
    "    return checksum\n",
    "\n",
    "test_p1 = ['abcdef', 'bababc', 'abbcde', 'abcccd', 'aabcdd', 'abcdee', 'ababab']\n",
    "assert day2_part1(test_p1) == 12\n",
    "\n",
    "def day2_part2(ids):\n",
    "    \"\"\"find common letters between matching IDs\"\"\"\n",
    "    for id_1, id_2 in combinations(ids,2):\n",
    "        common = cat(c_1 for c_1, c_2 in zip(id_1, id_2) if c_1 == c_2)\n",
    "        if len(common) + 1 == len(id_1):\n",
    "            return common\n",
    "\n",
    "test_p2 = ['abcde', 'fghij', 'klmno', 'pqrst', 'fguij', 'axcye', 'wvxyz'] \n",
    "assert day2_part2(test_p2) == 'fgij'"
   ]
  },
  {
   "cell_type": "code",
   "execution_count": 27,
   "metadata": {
    "hidden": true
   },
   "outputs": [
    {
     "name": "stdout",
     "output_type": "stream",
     "text": [
      "Day 2 part 1: checksum is 7192\n",
      "==============================\n",
      "\n",
      "Day 2 part 2: common letters for the matching IDs are \"mbruvapghxlzycbhmfqjonsie\"\n",
      "=================================================================================\n",
      "\n"
     ]
    }
   ],
   "source": [
    "print_result(2,1,'checksum is '+str(day2_part1(data)))\n",
    "print_result(2,2,'common letters for the matching IDs are \"'+str(day2_part2(data))+'\"')"
   ]
  },
  {
   "cell_type": "markdown",
   "metadata": {
    "heading_collapsed": true
   },
   "source": [
    "## [Day 3: No Matter How You Slice It](http://adventofcode.com/2018/day/3)"
   ]
  },
  {
   "cell_type": "markdown",
   "metadata": {
    "hidden": true
   },
   "source": [
    "\n",
    "The Elves managed to locate the chimney-squeeze prototype fabric for\n",
    "Santa's suit (thanks to <span title=\"WAS IT YOU\">someone</span> who\n",
    "helpfully wrote its box IDs on the wall of the warehouse in the middle\n",
    "of the night). Unfortunately, anomalies are still affecting them -\n",
    "nobody can even agree on how to *cut* the fabric.\n",
    "\n",
    "The whole piece of fabric they're working on is a very large square - at\n",
    "least `1000` inches on each side.\n",
    "\n",
    "Each Elf has made a *claim* about which area of fabric would be ideal\n",
    "for Santa's suit. All claims have an ID and consist of a single\n",
    "rectangle with edges parallel to the edges of the fabric. Each claim's\n",
    "rectangle is defined as follows:\n",
    "\n",
    "  - The number of inches between the left edge of the fabric and the\n",
    "    left edge of the rectangle.\n",
    "  - The number of inches between the top edge of the fabric and the top\n",
    "    edge of the rectangle.\n",
    "  - The width of the rectangle in inches.\n",
    "  - The height of the rectangle in inches.\n",
    "\n",
    "A claim like `#123 @ 3,2: 5x4` means that claim ID `123` specifies a\n",
    "rectangle `3` inches from the left edge, `2` inches from the top edge,\n",
    "`5` inches wide, and `4` inches tall. Visually, it claims the square\n",
    "inches of fabric represented by `#` (and ignores the square inches of\n",
    "fabric represented by `.`) in the diagram below:\n",
    "\n",
    "    ...........\n",
    "    ...........\n",
    "    ...#####...\n",
    "    ...#####...\n",
    "    ...#####...\n",
    "    ...#####...\n",
    "    ...........\n",
    "    ...........\n",
    "    ...........\n",
    "\n",
    "The problem is that many of the claims *overlap*, causing two or more\n",
    "claims to cover part of the same areas. For example, consider the\n",
    "following claims:\n",
    "\n",
    "    #1 @ 1,3: 4x4\n",
    "    #2 @ 3,1: 4x4\n",
    "    #3 @ 5,5: 2x2\n",
    "\n",
    "Visually, these claim the following areas:\n",
    "\n",
    "    ........\n",
    "    ...2222.\n",
    "    ...2222.\n",
    "    .11XX22.\n",
    "    .11XX22.\n",
    "    .111133.\n",
    "    .111133.\n",
    "    ........\n",
    "\n",
    "The four square inches marked with `X` are claimed by *both `1` and\n",
    "`2`*. (Claim `3`, while adjacent to the others, does not overlap either\n",
    "of them.)\n",
    "\n",
    "If the Elves all proceed with their own plans, none of them will have\n",
    "enough fabric. *How many square inches of fabric are within two or more\n",
    "claims?*\n",
    "\n",
    "### Part 2\n",
    "Amidst the chaos, you notice that exactly one claim doesn't overlap by even a single square inch of fabric with any other claim. If you can somehow draw attention to it, maybe the Elves will be able to make Santa's suit after all!\n",
    "\n",
    "For example, in the claims above, only claim 3 is intact after all claims are made.\n",
    "\n",
    "What is the ID of the only claim that doesn't overlap?\n"
   ]
  },
  {
   "cell_type": "code",
   "execution_count": 33,
   "metadata": {
    "hidden": true
   },
   "outputs": [],
   "source": [
    "def d3_parse_claims(data):\n",
    "    '''created a list of namedtuples claim(id, x, y, w, h) from the input data'''\n",
    "    claim = namedtuple('claim','id x y w h')\n",
    "    claims = [ints(d) for d in data.split('\\n')]\n",
    "    claims = [claim(*clm) for clm in claims]\n",
    "    return claims\n",
    "\n",
    "def d3_claim_fabric(claims):\n",
    "    '''create a dict from the claims that has a list of every claim for every square inch'''\n",
    "    fabric = defaultdict(list)\n",
    "    for claim in claims:\n",
    "        for x, y in product(range(claim.x,claim.x+claim.w),\n",
    "                            range(claim.y,claim.y+claim.h)):\n",
    "            fabric[(x,y)].append(claim.id)\n",
    "    return fabric\n",
    "\n",
    "def day3_part1(claims):\n",
    "    \"\"\"find number of square inches with multiple claims\"\"\"\n",
    "    claims = d3_parse_claims(data)\n",
    "    fabric = d3_claim_fabric(claims)\n",
    "    return ilen(k for k,v in fabric.items() if len(v) > 1)\n",
    "\n",
    "def day3_part2(claims):\n",
    "    '''find only claim that does not share its area with other claims'''\n",
    "    claims = d3_parse_claims(data)\n",
    "    fabric = d3_claim_fabric(claims)\n",
    "    num_overlaps = defaultdict(int)\n",
    "    for sq_claims in fabric.values():\n",
    "        for sq_claim in sq_claims:\n",
    "            num_overlaps[sq_claim] = max(num_overlaps[sq_claim], len(sq_claims))\n",
    "    min_overlap = min(num_overlaps, key=num_overlaps.get)\n",
    "    assert num_overlaps[min_overlap] == 1\n",
    "    return min_overlap"
   ]
  },
  {
   "cell_type": "code",
   "execution_count": 34,
   "metadata": {
    "hidden": true,
    "scrolled": true
   },
   "outputs": [
    {
     "name": "stdout",
     "output_type": "stream",
     "text": [
      "Day 3 part 1: 113576\n",
      "====================\n",
      "\n",
      "Day 3 part 2: 825\n",
      "=================\n",
      "\n"
     ]
    }
   ],
   "source": [
    "data = Input(3)\n",
    "print_result(3,1,''+str(day3_part1(data)))\n",
    "print_result(3,2,''+str(day3_part2(data)))"
   ]
  },
  {
   "cell_type": "code",
   "execution_count": null,
   "metadata": {
    "collapsed": true,
    "hidden": true
   },
   "outputs": [],
   "source": []
  }
 ],
 "metadata": {
  "kernelspec": {
   "display_name": "Python 3",
   "language": "python",
   "name": "python3"
  },
  "language_info": {
   "codemirror_mode": {
    "name": "ipython",
    "version": 3
   },
   "file_extension": ".py",
   "mimetype": "text/x-python",
   "name": "python",
   "nbconvert_exporter": "python",
   "pygments_lexer": "ipython3",
   "version": "3.6.3"
  },
  "varInspector": {
   "cols": {
    "lenName": 16,
    "lenType": 16,
    "lenVar": "120"
   },
   "kernels_config": {
    "python": {
     "delete_cmd_postfix": "",
     "delete_cmd_prefix": "del ",
     "library": "var_list.py",
     "varRefreshCmd": "print(var_dic_list())"
    },
    "r": {
     "delete_cmd_postfix": ") ",
     "delete_cmd_prefix": "rm(",
     "library": "var_list.r",
     "varRefreshCmd": "cat(var_dic_list()) "
    }
   },
   "types_to_exclude": [
    "module",
    "function",
    "builtin_function_or_method",
    "instance",
    "_Feature"
   ],
   "window_display": false
  }
 },
 "nbformat": 4,
 "nbformat_minor": 2
}
