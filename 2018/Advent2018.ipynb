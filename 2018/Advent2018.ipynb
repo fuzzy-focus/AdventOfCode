{
 "cells": [
  {
   "cell_type": "markdown",
   "metadata": {},
   "source": [
    "# Advent of Code 2018"
   ]
  },
  {
   "cell_type": "markdown",
   "metadata": {},
   "source": [
    "See [here](http://adventofcode.com/2018/)."
   ]
  },
  {
   "cell_type": "markdown",
   "metadata": {},
   "source": [
    "## Preparation"
   ]
  },
  {
   "cell_type": "markdown",
   "metadata": {},
   "source": [
    "Imports and utility functions that might or might not prove useful down the line."
   ]
  },
  {
   "cell_type": "code",
   "execution_count": 42,
   "metadata": {
    "collapsed": true
   },
   "outputs": [],
   "source": [
    "# Python 3.x\n",
    "import re\n",
    "import numpy as np\n",
    "import math\n",
    "import random\n",
    "import urllib.request\n",
    "import reprlib\n",
    "import operator\n",
    "import string\n",
    "import hashlib\n",
    "import json\n",
    "\n",
    "from collections import Counter, defaultdict, namedtuple, deque\n",
    "from functools   import lru_cache, reduce\n",
    "from itertools   import (permutations, combinations, chain, cycle, tee,\n",
    "                        product, islice, count, repeat, filterfalse, accumulate)\n",
    "from heapq       import heappop, heappush\n",
    "from enum        import Enum\n",
    "\n",
    "# sometimes a graph helps\n",
    "import matplotlib\n",
    "import matplotlib.pyplot as plt\n",
    "%matplotlib inline\n",
    "matplotlib.rcParams['figure.figsize'] = (8,8)\n",
    "\n",
    "def Input(day,strip=True):\n",
    "    \"Open this day's input file.\"\n",
    "    \n",
    "    filename = 'input/input{}.txt'.format(day)\n",
    "    try:\n",
    "        with open(filename, 'r') as f:\n",
    "            text = f.read()\n",
    "            if strip:\n",
    "                text = text.strip()\n",
    "        return text\n",
    "    except FileNotFoundError:\n",
    "        url = 'http://adventofcode.com/2018/day/{}/input'.format(day)\n",
    "        print('input file not found. opening browser...')\n",
    "        print('please save the file as \"input<#day>.txt in your input folder.')\n",
    "        import webbrowser\n",
    "        webbrowser.open(url)\n",
    "\n",
    "cat = ''.join\n",
    "def first(iterable, default=None): return next(iter(iterable), default)\n",
    "def nth(iterable, n, default=None): return next(islice(iterable, n, None), default)\n",
    "def fs(*items): return frozenset(items)\n",
    "\n",
    "def window(seq, n=2):\n",
    "    \"Returns a sliding window (of width n) over data from the iterable\"\n",
    "    \"   s -> (s0,s1,...s[n-1]), (s1,s2,...,sn), ...                   \"\n",
    "    it = iter(seq)\n",
    "    result = tuple(islice(it, n))\n",
    "    if len(result) == n:\n",
    "        yield result\n",
    "    for elem in it:\n",
    "        result = result[1:] + (elem,)\n",
    "        yield result\n",
    "\n",
    "def ilen(iterator): return sum(1 for _ in iterator)\n",
    "\n",
    "def ints(text,typ=int):\n",
    "    return list(map(typ,re.compile(r'[-+]?\\d*[.]?\\d+').findall(text)))\n",
    "\n",
    "def shift(it, n):\n",
    "    return it[n:] + it[:n]\n",
    "\n",
    "def rot(mat, N=1, clockwise=True):\n",
    "    '''rotate 2D matrix'''\n",
    "    for _ in range(N):\n",
    "        if clockwise:\n",
    "            mat = list(zip(*mat[::-1]))\n",
    "        else:\n",
    "            mat = list(zip(*mat[::-1]))[::-1]\n",
    "    return mat\n",
    "\n",
    "def locate2D(m, val):\n",
    "    '''locate value in 2D list'''\n",
    "    for i, line in enumerate(m):\n",
    "        j=-1\n",
    "        try:\n",
    "            j = line.index(val)\n",
    "        except ValueError:\n",
    "            continue\n",
    "        break\n",
    "    else:\n",
    "        i = -1\n",
    "    return (i,j)\n",
    "\n",
    "def dist_L1(p1,p2=None):\n",
    "    if p2 == None:\n",
    "        p2 = repeat(0)\n",
    "    return sum(abs(p2_i-p1_i) for p1_i, p2_i in zip(p1,p2))\n",
    "\n",
    "def dist_L2(p1,p2=None):\n",
    "    if p2 == None:\n",
    "        p2 = repeat(0)\n",
    "    return sum((p2_i-p1_i)*(p2_i-p1_i) for p1_i, p2_i in zip(p1,p2))**.5\n",
    "\n",
    "def neighbors4(point): \n",
    "    \"The four neighbors (without diagonals).\"\n",
    "    x, y = point\n",
    "    return ((x+1, y), (x-1, y), (x, y+1), (x, y-1))\n",
    "\n",
    "def neighbors8(point): \n",
    "    \"The eight neighbors (with diagonals).\"\n",
    "    x, y = point \n",
    "    return ((x+1, y), (x-1, y), (x, y+1), (x, y-1),\n",
    "            (x+1, y+1), (x-1, y-1), (x+1, y-1), (x-1, y+1))\n",
    "\n",
    "from numbers import Number \n",
    "class Vector(object):\n",
    "    def __init__(self,*args):\n",
    "        if len(args) == 1:\n",
    "            if isinstance(args,Number): self.vec = tuple(0 for _ in range(args))\n",
    "            else: self.vec = tuple(*args)\n",
    "        else: self.vec = tuple(args)\n",
    "    def __mul__(self, other):\n",
    "        if isinstance(other,Number): return Vector(other * x for x in self.vec)\n",
    "        elif isinstance(other,Vector): return sum(x*y for x,y in zip(self.vec, other.vec))\n",
    "        raise NotImplemented\n",
    "    def __add__(self,other):\n",
    "        return Vector(x+y for x,y in zip(self.vec, other.vec))\n",
    "    def __sub__(self,other):\n",
    "        return Vector(x-y for x,y in zip(self.vec, other.vec))\n",
    "    def __iter__(self):\n",
    "        return self.vec.__iter__()\n",
    "    def __len__(self):\n",
    "        return len(self.vec)\n",
    "    def __getitem__(self, key):\n",
    "        return self.vec[key]\n",
    "    def __repr__(self):\n",
    "        return 'Vector(' + str(self.vec)[1:-1] + ')'\n",
    "    def __eq__(self, other):\n",
    "        return self.vec == other.vec\n",
    "    def __hash__(self):\n",
    "        return hash(self.vec)\n",
    "\n",
    "#display and debug functions\n",
    "def h1(s):\n",
    "    upr, brd, lwr = '▁', '█', '▔'\n",
    "    return upr*(len(s)+4) + '\\n'+brd+' ' + s + ' ' + brd +'\\n' + lwr*(len(s)+4)\n",
    "\n",
    "def h2(s, ch='-'):\n",
    "    return s + '\\n' + ch*len(s) + '\\n'\n",
    "\n",
    "h1 = lambda s: h2(s,'=')  #the other h1 is a bitch, apparently.\n",
    "\n",
    "def print_result(day, part, text):\n",
    "    print(h1('Day {} part {}: {}'.format(day, part, text)))\n",
    "\n",
    "def trace1(f):\n",
    "    \"Print a trace of the input and output of a function on one line.\"\n",
    "    rep = reprlib.aRepr\n",
    "    rep.maxother = 85\n",
    "    def traced_f(*args):\n",
    "        arg_strs = ', '.join(map(rep.repr, args))\n",
    "        result = f(*args)\n",
    "        print('{}({}) = {}'.format(f.__name__, arg_strs, result))\n",
    "        return result\n",
    "    return traced_f"
   ]
  },
  {
   "cell_type": "markdown",
   "metadata": {
    "heading_collapsed": true
   },
   "source": [
    "## [Day 1: Chronal Calibration](http://adventofcode.com/2018/day/1)"
   ]
  },
  {
   "cell_type": "code",
   "execution_count": 2,
   "metadata": {
    "collapsed": true,
    "hidden": true,
    "scrolled": true
   },
   "outputs": [],
   "source": [
    "data = Input(1)\n",
    "frequencies = ints(data)\n",
    "\n",
    "day1_part1 = sum\n",
    "\n",
    "def day1_part2(frequencies):\n",
    "    r = 0\n",
    "    s = set([r])\n",
    "    for f in cycle(frequencies):\n",
    "        r += f\n",
    "        if r in s:\n",
    "            return r\n",
    "        s.add(r)"
   ]
  },
  {
   "cell_type": "code",
   "execution_count": 3,
   "metadata": {
    "hidden": true
   },
   "outputs": [
    {
     "name": "stdout",
     "output_type": "stream",
     "text": [
      "Day 1 part 1: Frequency is 439\n",
      "==============================\n",
      "\n",
      "Day 1 part 2: first double is 124645\n",
      "====================================\n",
      "\n"
     ]
    }
   ],
   "source": [
    "print_result(1,1,'Frequency is '+str(day1_part1(frequencies)))\n",
    "print_result(1,2,'first double is ' + str(day1_part2(frequencies)))"
   ]
  },
  {
   "cell_type": "markdown",
   "metadata": {
    "heading_collapsed": true
   },
   "source": [
    "## [Day 2: Inventory Management System](http://adventofcode.com/2018/day/2)"
   ]
  },
  {
   "cell_type": "code",
   "execution_count": 4,
   "metadata": {
    "collapsed": true,
    "hidden": true
   },
   "outputs": [],
   "source": [
    "data = Input(2).split()\n",
    "\n",
    "def day2_part1(ids):\n",
    "    \"\"\"computing the checksum\"\"\"\n",
    "    data = [Counter(s) for s in ids]\n",
    "    data = [list(set(v for k,v in s.items() if v == 2 or v == 3)) for s in data if 2 in s.values() or 3 in s.values()]\n",
    "    data = Counter(sum(data,[]))\n",
    "    checksum = data[2]*data[3]\n",
    "    return checksum\n",
    "\n",
    "test_p1 = ['abcdef', 'bababc', 'abbcde', 'abcccd', 'aabcdd', 'abcdee', 'ababab']\n",
    "assert day2_part1(test_p1) == 12\n",
    "\n",
    "def day2_part2(ids):\n",
    "    \"\"\"find common letters between matching IDs\"\"\"\n",
    "    for id_1, id_2 in combinations(ids,2):\n",
    "        common = cat(c_1 for c_1, c_2 in zip(id_1, id_2) if c_1 == c_2)\n",
    "        if len(common) + 1 == len(id_1):\n",
    "            return common\n",
    "\n",
    "test_p2 = ['abcde', 'fghij', 'klmno', 'pqrst', 'fguij', 'axcye', 'wvxyz'] \n",
    "assert day2_part2(test_p2) == 'fgij'"
   ]
  },
  {
   "cell_type": "code",
   "execution_count": 5,
   "metadata": {
    "hidden": true
   },
   "outputs": [
    {
     "name": "stdout",
     "output_type": "stream",
     "text": [
      "Day 2 part 1: checksum is 7192\n",
      "==============================\n",
      "\n",
      "Day 2 part 2: common letters for the matching IDs are \"mbruvapghxlzycbhmfqjonsie\"\n",
      "=================================================================================\n",
      "\n"
     ]
    }
   ],
   "source": [
    "print_result(2,1,'checksum is '+str(day2_part1(data)))\n",
    "print_result(2,2,'common letters for the matching IDs are \"'+str(day2_part2(data))+'\"')"
   ]
  },
  {
   "cell_type": "markdown",
   "metadata": {
    "heading_collapsed": true
   },
   "source": [
    "## [Day 3: No Matter How You Slice It](http://adventofcode.com/2018/day/3)"
   ]
  },
  {
   "cell_type": "markdown",
   "metadata": {
    "hidden": true
   },
   "source": [
    "\n",
    "The Elves managed to locate the chimney-squeeze prototype fabric for\n",
    "Santa's suit (thanks to <span title=\"WAS IT YOU\">someone</span> who\n",
    "helpfully wrote its box IDs on the wall of the warehouse in the middle\n",
    "of the night). Unfortunately, anomalies are still affecting them -\n",
    "nobody can even agree on how to *cut* the fabric.\n",
    "\n",
    "The whole piece of fabric they're working on is a very large square - at\n",
    "least `1000` inches on each side.\n",
    "\n",
    "Each Elf has made a *claim* about which area of fabric would be ideal\n",
    "for Santa's suit. All claims have an ID and consist of a single\n",
    "rectangle with edges parallel to the edges of the fabric. Each claim's\n",
    "rectangle is defined as follows:\n",
    "\n",
    "  - The number of inches between the left edge of the fabric and the\n",
    "    left edge of the rectangle.\n",
    "  - The number of inches between the top edge of the fabric and the top\n",
    "    edge of the rectangle.\n",
    "  - The width of the rectangle in inches.\n",
    "  - The height of the rectangle in inches.\n",
    "\n",
    "A claim like `#123 @ 3,2: 5x4` means that claim ID `123` specifies a\n",
    "rectangle `3` inches from the left edge, `2` inches from the top edge,\n",
    "`5` inches wide, and `4` inches tall. Visually, it claims the square\n",
    "inches of fabric represented by `#` (and ignores the square inches of\n",
    "fabric represented by `.`) in the diagram below:\n",
    "\n",
    "    ...........\n",
    "    ...........\n",
    "    ...#####...\n",
    "    ...#####...\n",
    "    ...#####...\n",
    "    ...#####...\n",
    "    ...........\n",
    "    ...........\n",
    "    ...........\n",
    "\n",
    "The problem is that many of the claims *overlap*, causing two or more\n",
    "claims to cover part of the same areas. For example, consider the\n",
    "following claims:\n",
    "\n",
    "    #1 @ 1,3: 4x4\n",
    "    #2 @ 3,1: 4x4\n",
    "    #3 @ 5,5: 2x2\n",
    "\n",
    "Visually, these claim the following areas:\n",
    "\n",
    "    ........\n",
    "    ...2222.\n",
    "    ...2222.\n",
    "    .11XX22.\n",
    "    .11XX22.\n",
    "    .111133.\n",
    "    .111133.\n",
    "    ........\n",
    "\n",
    "The four square inches marked with `X` are claimed by *both `1` and\n",
    "`2`*. (Claim `3`, while adjacent to the others, does not overlap either\n",
    "of them.)\n",
    "\n",
    "If the Elves all proceed with their own plans, none of them will have\n",
    "enough fabric. *How many square inches of fabric are within two or more\n",
    "claims?*\n",
    "\n",
    "### Part 2\n",
    "Amidst the chaos, you notice that exactly one claim doesn't overlap by even a single square inch of fabric with any other claim. If you can somehow draw attention to it, maybe the Elves will be able to make Santa's suit after all!\n",
    "\n",
    "For example, in the claims above, only claim 3 is intact after all claims are made.\n",
    "\n",
    "What is the ID of the only claim that doesn't overlap?\n"
   ]
  },
  {
   "cell_type": "code",
   "execution_count": 6,
   "metadata": {
    "collapsed": true,
    "hidden": true
   },
   "outputs": [],
   "source": [
    "def d3_parse_claims(data):\n",
    "    '''created a list of namedtuples claim(id, x, y, w, h) from the input data'''\n",
    "    claim = namedtuple('claim','id x y w h')\n",
    "    claims = [ints(d) for d in data.split('\\n')]\n",
    "    claims = [claim(*clm) for clm in claims]\n",
    "    return claims\n",
    "\n",
    "def d3_claim_fabric(claims):\n",
    "    '''create a dict from the claims that has a list of every claim for every square inch'''\n",
    "    fabric = defaultdict(list)\n",
    "    for claim in claims:\n",
    "        for x, y in product(range(claim.x,claim.x+claim.w),\n",
    "                            range(claim.y,claim.y+claim.h)):\n",
    "            fabric[(x,y)].append(claim.id)\n",
    "    return fabric\n",
    "\n",
    "def day3_part1(claims):\n",
    "    \"\"\"find number of square inches with multiple claims\"\"\"\n",
    "    claims = d3_parse_claims(claims)\n",
    "    fabric = d3_claim_fabric(claims)\n",
    "    return ilen(k for k,v in fabric.items() if len(v) > 1)\n",
    "\n",
    "def day3_part2(claims):\n",
    "    '''find only claim that does not share its area with other claims'''\n",
    "    claims = d3_parse_claims(claims)\n",
    "    fabric = d3_claim_fabric(claims)\n",
    "    num_overlaps = defaultdict(int)\n",
    "    for sq_claims in fabric.values():\n",
    "        for sq_claim in sq_claims:\n",
    "            num_overlaps[sq_claim] = max(num_overlaps[sq_claim], len(sq_claims))\n",
    "    min_overlap = min(num_overlaps, key=num_overlaps.get)\n",
    "    assert num_overlaps[min_overlap] == 1\n",
    "    return min_overlap"
   ]
  },
  {
   "cell_type": "code",
   "execution_count": 7,
   "metadata": {
    "collapsed": true,
    "hidden": true
   },
   "outputs": [],
   "source": [
    "testdata = '''\\\n",
    "#1 @ 1,3: 4x4\n",
    "#2 @ 3,1: 4x4\n",
    "#3 @ 5,5: 2x2\\\n",
    "'''\n",
    "assert day3_part1(testdata) == 4\n",
    "assert day3_part2(testdata) == 3"
   ]
  },
  {
   "cell_type": "code",
   "execution_count": 8,
   "metadata": {
    "hidden": true,
    "scrolled": true
   },
   "outputs": [
    {
     "name": "stdout",
     "output_type": "stream",
     "text": [
      "Day 3 part 1: 113576\n",
      "====================\n",
      "\n",
      "Day 3 part 2: 825\n",
      "=================\n",
      "\n"
     ]
    }
   ],
   "source": [
    "data = Input(3)\n",
    "print_result(3,1,''+str(day3_part1(data)))\n",
    "print_result(3,2,''+str(day3_part2(data)))"
   ]
  },
  {
   "cell_type": "markdown",
   "metadata": {
    "heading_collapsed": true
   },
   "source": [
    "## [Day 4: Repose Record](http://adventofcode.com/2018/day/4)"
   ]
  },
  {
   "cell_type": "markdown",
   "metadata": {
    "hidden": true
   },
   "source": [
    "You've\n",
    "<span title=\"Yes, &#39;sneaked&#39;. &#39;Snuck&#39; didn&#39;t appear in English until the 1800s.\">sneaked</span>\n",
    "into another supply closet - this time, it's across from the prototype\n",
    "suit manufacturing lab. You need to sneak inside and fix the issues with\n",
    "the suit, but there's a guard stationed outside the lab, so this is as\n",
    "close as you can safely get.\n",
    "\n",
    "As you search the closet for anything that might help, you discover that\n",
    "you're not the first person to want to sneak in. Covering the walls,\n",
    "someone has spent an hour starting every midnight for the past few\n",
    "months secretly observing this guard post\\! They've been writing down\n",
    "the ID of *the one guard on duty that night* - the Elves seem to have\n",
    "decided that one guard was enough for the overnight shift - as well as\n",
    "when they fall asleep or wake up while at their post (your puzzle\n",
    "input).\n",
    "\n",
    "For example, consider the following records, which have already been\n",
    "organized into chronological order:\n",
    "\n",
    "    [1518-11-01 00:00] Guard #10 begins shift\n",
    "    [1518-11-01 00:05] falls asleep\n",
    "    [1518-11-01 00:25] wakes up\n",
    "    [1518-11-01 00:30] falls asleep\n",
    "    [1518-11-01 00:55] wakes up\n",
    "    [1518-11-01 23:58] Guard #99 begins shift\n",
    "    [1518-11-02 00:40] falls asleep\n",
    "    [1518-11-02 00:50] wakes up\n",
    "    [1518-11-03 00:05] Guard #10 begins shift\n",
    "    [1518-11-03 00:24] falls asleep\n",
    "    [1518-11-03 00:29] wakes up\n",
    "    [1518-11-04 00:02] Guard #99 begins shift\n",
    "    [1518-11-04 00:36] falls asleep\n",
    "    [1518-11-04 00:46] wakes up\n",
    "    [1518-11-05 00:03] Guard #99 begins shift\n",
    "    [1518-11-05 00:45] falls asleep\n",
    "    [1518-11-05 00:55] wakes up\n",
    "\n",
    "Timestamps are written using `year-month-day hour:minute` format. The\n",
    "guard falling asleep or waking up is always the one whose shift most\n",
    "recently started. Because all asleep/awake times are during the midnight\n",
    "hour (`00:00` - `00:59`), only the minute portion (`00` - `59`) is\n",
    "relevant for those events.\n",
    "\n",
    "Visually, these records show that the guards are asleep at these times:\n",
    "\n",
    "    Date   ID   Minute\n",
    "                000000000011111111112222222222333333333344444444445555555555\n",
    "                012345678901234567890123456789012345678901234567890123456789\n",
    "    11-01  #10  .....####################.....#########################.....\n",
    "    11-02  #99  ........................................##########..........\n",
    "    11-03  #10  ........................#####...............................\n",
    "    11-04  #99  ....................................##########..............\n",
    "    11-05  #99  .............................................##########.....\n",
    "\n",
    "The columns are Date, which shows the month-day portion of the relevant\n",
    "day; ID, which shows the guard on duty that day; and Minute, which shows\n",
    "the minutes during which the guard was asleep within the midnight hour.\n",
    "(The Minute column's header shows the minute's ten's digit in the first\n",
    "row and the one's digit in the second row.) Awake is shown as `.`, and\n",
    "asleep is shown as `#`.\n",
    "\n",
    "Note that guards count as asleep on the minute they fall asleep, and\n",
    "they count as awake on the minute they wake up. For example, because\n",
    "Guard \\#10 wakes up at 00:25 on 1518-11-01, minute 25 is marked as\n",
    "awake.\n",
    "\n",
    "If you can figure out the guard most likely to be asleep at a specific\n",
    "time, you might be able to trick that guard into working tonight so you\n",
    "can have the best chance of sneaking in. You have two strategies for\n",
    "choosing the best guard/minute combination.\n",
    "\n",
    "*Strategy 1:* Find the guard that has the most minutes asleep. What\n",
    "minute does that guard spend asleep the most?\n",
    "\n",
    "In the example above, Guard \\#10 spent the most minutes asleep, a total\n",
    "of 50 minutes (20+25+5), while Guard \\#99 only slept for a total of 30\n",
    "minutes (10+10+10). Guard \\#*10* was asleep most during minute *24* (on\n",
    "two days, whereas any other minute the guard was asleep was only seen on\n",
    "one day).\n",
    "\n",
    "While this example listed the entries in chronological order, your\n",
    "entries are in the order you found them. You'll need to organize them\n",
    "before they can be analyzed.\n",
    "\n",
    "*What is the ID of the guard you chose multiplied by the minute you\n",
    "chose?* (In the above example, the answer would be `10 * 24 = 240`.)\n",
    "\n",
    "### Part Two\n",
    "\n",
    "*Strategy 2:* Of all guards, which guard is most frequently asleep on\n",
    "the same minute?\n",
    "\n",
    "In the example above, Guard \\#*99* spent minute *45* asleep more than\n",
    "any other guard or minute - three times in total. (In all other cases,\n",
    "any guard spent any minute asleep at most twice.)\n",
    "\n",
    "*What is the ID of the guard you chose multiplied by the minute you\n",
    "chose?* (In the above example, the answer would be `99 * 45 = 4455`.)\n"
   ]
  },
  {
   "cell_type": "code",
   "execution_count": 62,
   "metadata": {
    "collapsed": true,
    "hidden": true
   },
   "outputs": [],
   "source": [
    "def d4_parse_shifts(data):\n",
    "    data = sorted(data.splitlines())\n",
    "    guard_buffer = []\n",
    "    for entry in data:\n",
    "        if 'Guard' in entry and guard_buffer:\n",
    "            yield guard_buffer\n",
    "            guard_buffer = [entry]\n",
    "        else:\n",
    "            guard_buffer.append(entry)\n",
    "    yield guard_buffer\n",
    "\n",
    "def d4_get_sleep_schedule(shifts):\n",
    "    sleep_schedule = namedtuple('sleep', 'date guard minutes')\n",
    "    for shift in shifts:\n",
    "        line = shift.pop(0)\n",
    "        guard = int(re.findall(r'Guard #(\\d+)', line)[0])\n",
    "        date = ''\n",
    "        sleep = list()\n",
    "        for down, up in zip(*([iter(shift)]*2)):\n",
    "            Y, M, D, _, m_s = ints(down.replace('-','_'))\n",
    "            _, _, _, _, m_w = ints(up)\n",
    "            sleep.extend(range(m_s, m_w))\n",
    "        yield sleep_schedule((Y,M,D), guard, sleep)\n",
    "\n",
    "def day4_part1(data):\n",
    "    \"\"\" \"\"\"\n",
    "    sleep_schedule = d4_get_sleep_schedule(d4_parse_shifts(data))\n",
    "    guard_sleep = defaultdict(list)\n",
    "    for _, guard, minutes in sleep_schedule:\n",
    "        guard_sleep[guard].extend(minutes)\n",
    "    sleepy_guard = max(guard_sleep, key=lambda g:len(guard_sleep[g]))\n",
    "    sleepy_minute = Counter(guard_sleep[sleepy_guard]).most_common(1)[0][0]\n",
    "    return sleepy_guard * sleepy_minute\n",
    "\n",
    "def day4_part2(data):\n",
    "    \"\"\" \"\"\"\n",
    "    sleep_schedule = d4_get_sleep_schedule(d4_parse_shifts(data))\n",
    "    guard_sleep = defaultdict(list)\n",
    "    for _, guard, minutes in sleep_schedule:\n",
    "        guard_sleep[guard].extend(minutes)\n",
    "    guard_sleepy_minute = {guard: first(Counter(sleep).most_common(1),default=(0,0))\n",
    "                           for guard, sleep in guard_sleep.items()}\n",
    "    sleepy_guard = max(guard_sleepy_minute, key=lambda g:guard_sleepy_minute[g][1])\n",
    "    sleepy_minute = guard_sleepy_minute[sleepy_guard][0]\n",
    "    return sleepy_guard * sleepy_minute"
   ]
  },
  {
   "cell_type": "code",
   "execution_count": 63,
   "metadata": {
    "collapsed": true,
    "hidden": true,
    "scrolled": true
   },
   "outputs": [],
   "source": [
    "testdata = '''\n",
    "[1518-11-01 00:00] Guard #10 begins shift\n",
    "[1518-11-01 00:05] falls asleep\n",
    "[1518-11-01 00:25] wakes up\n",
    "[1518-11-01 00:30] falls asleep\n",
    "[1518-11-01 00:55] wakes up\n",
    "[1518-11-01 23:58] Guard #99 begins shift\n",
    "[1518-11-02 00:40] falls asleep\n",
    "[1518-11-02 00:50] wakes up\n",
    "[1518-11-03 00:05] Guard #10 begins shift\n",
    "[1518-11-03 00:24] falls asleep\n",
    "[1518-11-03 00:29] wakes up\n",
    "[1518-11-04 00:02] Guard #99 begins shift\n",
    "[1518-11-04 00:36] falls asleep\n",
    "[1518-11-04 00:46] wakes up\n",
    "[1518-11-05 00:03] Guard #99 begins shift\n",
    "[1518-11-05 00:45] falls asleep\n",
    "[1518-11-05 00:55] wakes up\n",
    "'''.strip()\n",
    "day4_part2(testdata)\n",
    "assert day4_part1(testdata) == 240\n",
    "assert day4_part2(testdata) == 4455"
   ]
  },
  {
   "cell_type": "code",
   "execution_count": 64,
   "metadata": {
    "hidden": true
   },
   "outputs": [
    {
     "name": "stdout",
     "output_type": "stream",
     "text": [
      "Day 4 part 1: 74743\n",
      "===================\n",
      "\n",
      "Day 4 part 2: 132484\n",
      "====================\n",
      "\n"
     ]
    }
   ],
   "source": [
    "data = Input(4)\n",
    "print_result(4,1,''+str(day4_part1(data)))\n",
    "print_result(4,2,''+str(day4_part2(data)))"
   ]
  },
  {
   "cell_type": "markdown",
   "metadata": {
    "heading_collapsed": true
   },
   "source": [
    "## [Day 5: Alchemical Reduction](http://adventofcode.com/2018/day/5)"
   ]
  },
  {
   "cell_type": "markdown",
   "metadata": {
    "hidden": true
   },
   "source": [
    "You've managed to sneak in to the prototype suit manufacturing lab. The\n",
    "Elves are making decent progress, but are still struggling with the\n",
    "suit's size reduction capabilities.\n",
    "\n",
    "While the very latest in 1518 alchemical technology might have solved\n",
    "their problem eventually, you can do better. You scan the chemical\n",
    "composition of the suit's material and discover that it is formed by\n",
    "extremely long [polymers](https://en.wikipedia.org/wiki/Polymer) (one of\n",
    "which is\n",
    "<span title=\"I&#39;ve always wanted a polymer!\">available</span> as your\n",
    "puzzle input).\n",
    "\n",
    "The polymer is formed by smaller *units* which, when triggered, react\n",
    "with each other such that two adjacent units of the same type and\n",
    "opposite polarity are destroyed. Units' types are represented by\n",
    "letters; units' polarity is represented by capitalization. For instance,\n",
    "`r` and `R` are units with the same type but opposite polarity, whereas\n",
    "`r` and `s` are entirely different types and do not react.\n",
    "\n",
    "For example:\n",
    "\n",
    "  - In `aA`, `a` and `A` react, leaving nothing behind.\n",
    "  - In `abBA`, `bB` destroys itself, leaving `aA`. As above, this then\n",
    "    destroys itself, leaving nothing.\n",
    "  - In `abAB`, no two adjacent units are of the same type, and so\n",
    "    nothing happens.\n",
    "  - In `aabAAB`, even though `aa` and `AA` are of the same type, their\n",
    "    polarities match, and so nothing happens.\n",
    "\n",
    "Now, consider a larger example, `dabAcCaCBAcCcaDA`:\n",
    "\n",
    "    dabAcCaCBAcCcaDA  The first 'cC' is removed.\n",
    "    dabAaCBAcCcaDA    This creates 'Aa', which is removed.\n",
    "    dabCBAcCcaDA      Either 'cC' or 'Cc' are removed (the result is the same).\n",
    "    dabCBAcaDA        No further actions can be taken.\n",
    "\n",
    "After all possible reactions, the resulting polymer contains *10 units*.\n",
    "\n",
    "*How many units remain after fully reacting the polymer you scanned?*\n",
    "<span class=\"quiet\">(Note: in this puzzle and others, the input is\n",
    "large; if you copy/paste your input, make sure you get the whole\n",
    "thing.)</span>\n",
    "\n",
    "Your puzzle answer was `9526`.\n",
    "\n",
    "The first half of this puzzle is complete\\! It provides one gold star:\n",
    "\\*\n",
    "\n",
    "### Part Two\n",
    "\n",
    "Time to improve the polymer.\n",
    "\n",
    "One of the unit types is causing problems; it's preventing the polymer\n",
    "from collapsing as much as it should. Your goal is to figure out which\n",
    "unit type is causing the most problems, remove all instances of it\n",
    "(regardless of polarity), fully react the remaining polymer, and measure\n",
    "its length.\n",
    "\n",
    "For example, again using the polymer `dabAcCaCBAcCcaDA` from above:\n",
    "\n",
    "  - Removing all `A`/`a` units produces `dbcCCBcCcD`. Fully reacting\n",
    "    this polymer produces `dbCBcD`, which has length 6.\n",
    "  - Removing all `B`/`b` units produces `daAcCaCAcCcaDA`. Fully reacting\n",
    "    this polymer produces `daCAcaDA`, which has length 8.\n",
    "  - Removing all `C`/`c` units produces `dabAaBAaDA`. Fully reacting\n",
    "    this polymer produces `daDA`, which has length 4.\n",
    "  - Removing all `D`/`d` units produces `abAcCaCBAcCcaA`. Fully reacting\n",
    "    this polymer produces `abCBAc`, which has length 6.\n",
    "\n",
    "In this example, removing all `C`/`c` units was best, producing the\n",
    "answer *4*.\n",
    "\n",
    "*What is the length of the shortest polymer you can produce* by removing\n",
    "all units of exactly one type and fully reacting the result?"
   ]
  },
  {
   "cell_type": "code",
   "execution_count": 48,
   "metadata": {
    "hidden": true
   },
   "outputs": [],
   "source": [
    "def d5_does_react(a, b):\n",
    "    return a.lower() == b.lower() and a != b\n",
    "\n",
    "\n",
    "def d5_remove_unit(polymer, unit):\n",
    "    return cat(u for u in polymer if u.lower() != unit.lower())\n",
    "\n",
    "\n",
    "def day5_part1(s):\n",
    "    s_old = ''\n",
    "    while s_old != s:\n",
    "        s_old = s\n",
    "        for i in range(len(s) - 1):\n",
    "            a, b = s[i], s[i + 1]\n",
    "            if d5_does_react(a, b):\n",
    "                s = s[:i] + '##' + s[i + 2:]\n",
    "        s = s.replace('##', '')\n",
    "    return len(s)\n",
    "\n",
    "\n",
    "def day5_part2(data):\n",
    "    units = set(data.lower())\n",
    "    results = []\n",
    "    for unit in units:\n",
    "        s = d5_remove_unit(data, unit)\n",
    "        results.append(day5_part1(s))\n",
    "    return min(results)"
   ]
  },
  {
   "cell_type": "code",
   "execution_count": 49,
   "metadata": {
    "hidden": true,
    "scrolled": true
   },
   "outputs": [],
   "source": [
    "testdata = \"dabAcCaCBAcCcaDA\"\n",
    "assert day5_part1(testdata) == len('dabCBAcaDA')\n",
    "assert day5_part2(testdata) == 4"
   ]
  },
  {
   "cell_type": "code",
   "execution_count": 50,
   "metadata": {
    "hidden": true
   },
   "outputs": [
    {
     "name": "stdout",
     "output_type": "stream",
     "text": [
      "Day 5 part 1: 9526\n",
      "==================\n",
      "\n",
      "Day 5 part 2: 6694\n",
      "==================\n",
      "\n"
     ]
    }
   ],
   "source": [
    "data = Input(5)\n",
    "print_result(5,1,''+str(day5_part1(data)))\n",
    "print_result(5,2,''+str(day5_part2(data)))"
   ]
  },
  {
   "cell_type": "markdown",
   "metadata": {},
   "source": [
    "## [Day 6](http://adventofcode.com/2018/day/6)"
   ]
  },
  {
   "cell_type": "markdown",
   "metadata": {},
   "source": []
  },
  {
   "cell_type": "code",
   "execution_count": null,
   "metadata": {
    "collapsed": true
   },
   "outputs": [],
   "source": [
    "data = Input(3)\n",
    "\n",
    "def day6_part1(data):\n",
    "    \"\"\" \"\"\"\n",
    "    pass\n",
    "\n",
    "def day6_part2(data):\n",
    "    \"\"\" \"\"\"\n",
    "    pass"
   ]
  },
  {
   "cell_type": "code",
   "execution_count": null,
   "metadata": {
    "collapsed": true,
    "scrolled": true
   },
   "outputs": [],
   "source": [
    "testdata = '''\n",
    "\n",
    "'''.strip()\n",
    "assert day6_part1(testdata) == None\n",
    "assert day6_part2(testdata) == None"
   ]
  },
  {
   "cell_type": "code",
   "execution_count": null,
   "metadata": {
    "collapsed": true
   },
   "outputs": [],
   "source": [
    "data = Input(6)\n",
    "print_result(6,1,''+str(day6_part1(data)))\n",
    "print_result(6,2,''+str(day6_part2(data)))"
   ]
  }
 ],
 "metadata": {
  "kernelspec": {
   "display_name": "Python 3",
   "language": "python",
   "name": "python3"
  },
  "language_info": {
   "codemirror_mode": {
    "name": "ipython",
    "version": 3
   },
   "file_extension": ".py",
   "mimetype": "text/x-python",
   "name": "python",
   "nbconvert_exporter": "python",
   "pygments_lexer": "ipython3",
   "version": "3.6.3"
  },
  "varInspector": {
   "cols": {
    "lenName": 16,
    "lenType": 16,
    "lenVar": "120"
   },
   "kernels_config": {
    "python": {
     "delete_cmd_postfix": "",
     "delete_cmd_prefix": "del ",
     "library": "var_list.py",
     "varRefreshCmd": "print(var_dic_list())"
    },
    "r": {
     "delete_cmd_postfix": ") ",
     "delete_cmd_prefix": "rm(",
     "library": "var_list.r",
     "varRefreshCmd": "cat(var_dic_list()) "
    }
   },
   "types_to_exclude": [
    "module",
    "function",
    "builtin_function_or_method",
    "instance",
    "_Feature"
   ],
   "window_display": false
  }
 },
 "nbformat": 4,
 "nbformat_minor": 2
}
