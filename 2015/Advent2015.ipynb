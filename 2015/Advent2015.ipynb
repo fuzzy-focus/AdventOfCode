{
 "cells": [
  {
   "cell_type": "markdown",
   "metadata": {},
   "source": [
    "# Advent of Code 2015\n"
   ]
  },
  {
   "cell_type": "markdown",
   "metadata": {},
   "source": [
    "See [here](http://adventofcode.com/2015/)."
   ]
  },
  {
   "cell_type": "markdown",
   "metadata": {},
   "source": [
    "## Preparation"
   ]
  },
  {
   "cell_type": "markdown",
   "metadata": {},
   "source": [
    "Imports and utility functions that might or might not prove useful down the line."
   ]
  },
  {
   "cell_type": "code",
   "execution_count": 5,
   "metadata": {
    "collapsed": true
   },
   "outputs": [],
   "source": [
    "# Python 3.x\n",
    "import re\n",
    "import numpy as np\n",
    "import math\n",
    "import urllib.request\n",
    "import reprlib\n",
    "import operator\n",
    "import string\n",
    "\n",
    "from collections import Counter, defaultdict, namedtuple, deque\n",
    "from functools   import lru_cache, reduce\n",
    "from itertools   import permutations, combinations, chain, cycle, product, islice, count, repeat, filterfalse\n",
    "from heapq       import heappop, heappush\n",
    "from enum        import Enum\n",
    "\n",
    "def Input(day,strip=True):\n",
    "    \"Open this day's input file.\"\n",
    "    \n",
    "    filename = 'input/input{}.txt'.format(day)\n",
    "    try:\n",
    "        with open(filename, 'r') as f:\n",
    "            text = f.read()\n",
    "            if strip:\n",
    "                text = text.strip()\n",
    "        return text\n",
    "    except FileNotFoundError:\n",
    "        url = 'http://adventofcode.com/2017/day/{}/input'.format(day)\n",
    "        print('input file not found. opening browser...')\n",
    "        print('please save the file as \"input<#day>.txt in your input folder.')\n",
    "        import webbrowser\n",
    "        webbrowser.open(url)\n",
    "\n",
    "cat = ''.join\n",
    "def first(iterable, default=None): return next(iter(iterable), default)\n",
    "def nth(iterable, n, default=None): return next(islice(iterable, n, None), default)\n",
    "def fs(*items): return frozenset(items)\n",
    "\n",
    "def ilen(iterator): return sum(1 for _ in iterator)\n",
    "\n",
    "def ints(text,typ=int):\n",
    "    return list(map(typ,re.compile(r'[-+]?\\d*[.]?\\d+').findall(text)))\n",
    "\n",
    "def shift(it, n):\n",
    "    return it[n:] + it[:n]\n",
    "\n",
    "def rot(mat, N=1, clockwise=True):\n",
    "    '''rotate 2D matrix'''\n",
    "    for _ in range(N):\n",
    "        if clockwise:\n",
    "            mat = list(zip(*mat[::-1]))\n",
    "        else:\n",
    "            mat = list(zip(*mat[::-1]))[::-1]\n",
    "    return mat\n",
    "\n",
    "def locate2D(m, val):\n",
    "    '''locate value in 2D list'''\n",
    "    for i, line in enumerate(m):\n",
    "        j=-1\n",
    "        try:\n",
    "            j = line.index(val)\n",
    "        except ValueError:\n",
    "            continue\n",
    "        break\n",
    "    else:\n",
    "        i = -1\n",
    "    return (i,j)\n",
    "\n",
    "def dist_L1(p1,p2=None):\n",
    "    if p2 == None:\n",
    "        p2 = repeat(0)\n",
    "    return sum(abs(p2_i-p1_i) for p1_i, p2_i in zip(p1,p2))\n",
    "\n",
    "def dist_L2(p1,p2=None):\n",
    "    if p2 == None:\n",
    "        p2 = repeat(0)\n",
    "    return sum((p2_i-p1_i)*(p2_i-p1_i) for p1_i, p2_i in zip(p1,p2))**.5\n",
    "\n",
    "def neighbors4(point): \n",
    "    \"The four neighbors (without diagonals).\"\n",
    "    x, y = point\n",
    "    return ((x+1, y), (x-1, y), (x, y+1), (x, y-1))\n",
    "\n",
    "def neighbors8(point): \n",
    "    \"The eight neighbors (with diagonals).\"\n",
    "    x, y = point \n",
    "    return ((x+1, y), (x-1, y), (x, y+1), (x, y-1),\n",
    "            (x+1, y+1), (x-1, y-1), (x+1, y-1), (x-1, y+1))\n",
    "\n",
    "from numbers import Number \n",
    "class Vector(object):\n",
    "    def __init__(self,*args):\n",
    "        if len(args) == 1:\n",
    "            if isinstance(args,Number): self.vec = tuple(0 for _ in range(args))\n",
    "            else: self.vec = tuple(*args)\n",
    "        else: self.vec = tuple(args)\n",
    "    def __mul__(self, other):\n",
    "        if isinstance(other,Number): return Vector(other * x for x in self.vec)\n",
    "        elif isinstance(other,Vector): return sum(x*y for x,y in zip(self.vec, other.vec))\n",
    "        raise NotImplemented\n",
    "    def __add__(self,other):\n",
    "        return Vector(x+y for x,y in zip(self.vec, other.vec))\n",
    "    def __sub__(self,other):\n",
    "        return Vector(x-y for x,y in zip(self.vec, other.vec))\n",
    "    def __iter__(self):\n",
    "        return self.vec.__iter__()\n",
    "    def __len__(self):\n",
    "        return len(self.vec)\n",
    "    def __getitem__(self, key):\n",
    "        return self.vec[key]\n",
    "    def __repr__(self):\n",
    "        return 'Vector(' + str(self.vec)[1:-1] + ')'\n",
    "    def __eq__(self, other):\n",
    "        return self.vec == other.vec\n",
    "    def __hash__(self):\n",
    "        return hash(self.vec)\n",
    "\n",
    "#display and debug functions\n",
    "def h1(s):\n",
    "    upr, brd, lwr = '▁', '█', '▔'\n",
    "    return upr*(len(s)+4) + '\\n'+brd+' ' + s + ' ' + brd +'\\n' + lwr*(len(s)+4)\n",
    "\n",
    "def h2(s, ch='-'):\n",
    "    return s + '\\n' + ch*len(s) + '\\n'\n",
    "\n",
    "h1 = lambda s: h2(s,'=')  #the other h1 is a bitch, apparently.\n",
    "\n",
    "def print_result(day, part, text):\n",
    "    print(h1('Day {} part {}: {}'.format(day, part, text)))\n",
    "\n",
    "def trace1(f):\n",
    "    \"Print a trace of the input and output of a function on one line.\"\n",
    "    rep = reprlib.aRepr\n",
    "    rep.maxother = 85\n",
    "    def traced_f(*args):\n",
    "        arg_strs = ', '.join(map(rep.repr, args))\n",
    "        result = f(*args)\n",
    "        print('{}({}) = {}'.format(f.__name__, arg_strs, result))\n",
    "        return result\n",
    "    return traced_f"
   ]
  },
  {
   "cell_type": "markdown",
   "metadata": {
    "heading_collapsed": true
   },
   "source": [
    "## Day 1: Not Quite Lisp"
   ]
  },
  {
   "cell_type": "code",
   "execution_count": 7,
   "metadata": {
    "hidden": true
   },
   "outputs": [
    {
     "name": "stdout",
     "output_type": "stream",
     "text": [
      "Day 1 part 1: destination floor is 232\n",
      "======================================\n",
      "\n"
     ]
    }
   ],
   "source": [
    "def get_floor(directions):\n",
    "    UP, DOWN = '()'\n",
    "    return directions.count(UP) - directions.count(DOWN)\n",
    "\n",
    "\n",
    "directions = Input(1)\n",
    "print_result(1,1,'destination floor is ' + str(get_floor(directions)))"
   ]
  },
  {
   "cell_type": "code",
   "execution_count": 10,
   "metadata": {
    "hidden": true
   },
   "outputs": [
    {
     "name": "stdout",
     "output_type": "stream",
     "text": [
      "Day 1 part 2: basement reached after 1783 steps\n",
      "===============================================\n",
      "\n"
     ]
    }
   ],
   "source": [
    "for step in count(1):\n",
    "    floor = get_floor(directions[:step])\n",
    "    if floor == -1:\n",
    "        break\n",
    "print_result(1,2,'basement reached after {} steps'.format(step))"
   ]
  },
  {
   "cell_type": "markdown",
   "metadata": {
    "heading_collapsed": true
   },
   "source": [
    "## Day 2: I Was Told There Would Be No Math"
   ]
  },
  {
   "cell_type": "markdown",
   "metadata": {
    "hidden": true
   },
   "source": [
    "Calculate how much wrapping paper is needed for a list of presents specified bei `width` x `height` x `length`.\n",
    "\n",
    "Sample input looks like this:\n",
    "```20x3x11\n",
    "15x27x5\n",
    "6x29x7\n",
    "30x15x9\n",
    "19x29x21\n",
    "[...]```\n",
    "\n",
    "Wrapping-paper-area is defined as surface area of the box (2*l*w + 2*w*h + 2*h*l) plus the area of the smallest side as slack."
   ]
  },
  {
   "cell_type": "code",
   "execution_count": 15,
   "metadata": {
    "hidden": true
   },
   "outputs": [
    {
     "name": "stdout",
     "output_type": "stream",
     "text": [
      "Day 2 part 1: 1606483 ft^2 of wrapping paper are needed.\n",
      "========================================================\n",
      "\n"
     ]
    }
   ],
   "source": [
    "def calc_area(l, w, h):\n",
    "    a = l * w\n",
    "    b = l * h\n",
    "    c = w * h\n",
    "    return 2 * (a + b + c) + min([a, b, c])\n",
    "\n",
    "\n",
    "def parse_line(line):\n",
    "    return [int(edge) for edge in line.strip().split('x')]\n",
    "\n",
    "\n",
    "def solve_2_1(text):\n",
    "    return sum(calc_area(*parse_line(line)) for line in text.splitlines())\n",
    "\n",
    "\n",
    "assert calc_area(2, 3, 4) == 58\n",
    "assert calc_area(1, 1, 10) == 43\n",
    "assert calc_area(*parse_line('2x3x4')) == 58\n",
    "\n",
    "rstr = '{} ft^2 of wrapping paper are needed.'\n",
    "print_result(2, 1, rstr.format(solve_2_1(Input(2))))"
   ]
  },
  {
   "cell_type": "markdown",
   "metadata": {
    "hidden": true
   },
   "source": [
    "For part two we also need to calculate the length of a ribbon for a bow.\n",
    "\n",
    "The ribbon required to wrap a present is the shortest distance around its sides, or the smallest perimeter of any one face. Each present also requires a bow made out of ribbon as well; the feet of ribbon required for the perfect bow is equal to the cubic feet of volume of the present. "
   ]
  },
  {
   "cell_type": "code",
   "execution_count": 19,
   "metadata": {
    "hidden": true
   },
   "outputs": [
    {
     "name": "stdout",
     "output_type": "stream",
     "text": [
      "Day 2 part 2: 3842356 ft of ribbon are needed.\n",
      "==============================================\n",
      "\n"
     ]
    }
   ],
   "source": [
    "def calc_ribbon_length(l, w, h):\n",
    "    a, b, c = sorted([l, w, h])\n",
    "    return 2 * (a + b) + a * b * c\n",
    "\n",
    "\n",
    "def solve_2_2(text):\n",
    "    return sum(calc_ribbon_length(*parse_line(line)) for line in text.splitlines())\n",
    "\n",
    "\n",
    "assert calc_ribbon_length(2, 3, 4) == 34\n",
    "assert calc_ribbon_length(1, 1, 10) == 14\n",
    "\n",
    "rstr2 = '{} ft of ribbon are needed.'\n",
    "print_result(2, 2, rstr2.format(solve_2_2(Input(2))))"
   ]
  },
  {
   "cell_type": "markdown",
   "metadata": {
    "heading_collapsed": true
   },
   "source": [
    "## Day 3: Perfectly Spherical Houses in a Vacuum"
   ]
  },
  {
   "cell_type": "markdown",
   "metadata": {
    "hidden": true
   },
   "source": [
    "Santa moves on a 2D grid, depositing presents on every field.\n",
    "He follows the following instructions:\n",
    "- `<` for left\n",
    "- `>` for right\n",
    "- `^` for up\n",
    "- `v` for down\n",
    "\n",
    "Sample input looks like this:\n",
    "\n",
    "```>^^v^<>v<<<v<v^>>v^^^<v<>^^><^<<^vv>>>^<<^>> [...]```\n",
    "\n",
    "How many houses are visited at least once?"
   ]
  },
  {
   "cell_type": "code",
   "execution_count": 25,
   "metadata": {
    "hidden": true
   },
   "outputs": [
    {
     "name": "stdout",
     "output_type": "stream",
     "text": [
      "Day 3 part 1: 2592 houses visited\n",
      "=================================\n",
      "\n"
     ]
    }
   ],
   "source": [
    "dirs = {'^': +1j,\n",
    "        'v': -1j,\n",
    "        '<': -1,\n",
    "        '>': +1}\n",
    "\n",
    "\n",
    "def travel(directions):\n",
    "    visited = [0]\n",
    "    for d in directions:\n",
    "        visited.append(visited[-1] + dirs[d])\n",
    "    return visited\n",
    "\n",
    "\n",
    "assert len(set(travel('>'))) == 2\n",
    "assert len(set(travel('^>v<'))) == 4\n",
    "assert len(set(travel('^v^v^v^v^v'))) == 2\n",
    "\n",
    "visited = travel(Input(3))\n",
    "print_result(3, 1, '{} houses visited'.format(len(set(visited))))"
   ]
  },
  {
   "cell_type": "markdown",
   "metadata": {
    "hidden": true
   },
   "source": [
    "In part 2 Santa and [Robo-Santa](http://i.imgur.com/Le0U3YY.jpg) take turns following the directions."
   ]
  },
  {
   "cell_type": "code",
   "execution_count": 27,
   "metadata": {
    "hidden": true
   },
   "outputs": [
    {
     "name": "stdout",
     "output_type": "stream",
     "text": [
      "Day 3 part 2: 2360 houses visited\n",
      "=================================\n",
      "\n"
     ]
    }
   ],
   "source": [
    "def split_travel(directions):\n",
    "    return travel(directions[::2]) + travel(directions[1::2])\n",
    "\n",
    "assert len(set(split_travel('^v'))) == 3\n",
    "assert len(set(split_travel('^>v<'))) == 3\n",
    "assert len(set(split_travel('^v^v^v^v^v'))) == 11\n",
    "\n",
    "visited = split_travel(Input(3))\n",
    "print_result(3, 2, '{} houses visited'.format(len(set(visited))))"
   ]
  },
  {
   "cell_type": "markdown",
   "metadata": {},
   "source": [
    "## Day 4: The Ideal Stocking Stuffer"
   ]
  },
  {
   "cell_type": "code",
   "execution_count": null,
   "metadata": {
    "collapsed": true
   },
   "outputs": [],
   "source": []
  }
 ],
 "metadata": {
  "kernelspec": {
   "display_name": "Python 3",
   "language": "python",
   "name": "python3"
  },
  "language_info": {
   "codemirror_mode": {
    "name": "ipython",
    "version": 3
   },
   "file_extension": ".py",
   "mimetype": "text/x-python",
   "name": "python",
   "nbconvert_exporter": "python",
   "pygments_lexer": "ipython3",
   "version": "3.6.3"
  }
 },
 "nbformat": 4,
 "nbformat_minor": 2
}
