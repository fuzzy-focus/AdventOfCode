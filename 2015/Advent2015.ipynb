{
 "cells": [
  {
   "cell_type": "markdown",
   "metadata": {},
   "source": [
    "# Advent of Code 2015\n"
   ]
  },
  {
   "cell_type": "markdown",
   "metadata": {},
   "source": [
    "See [here](http://adventofcode.com/2015/)."
   ]
  },
  {
   "cell_type": "markdown",
   "metadata": {},
   "source": [
    "## Preparation"
   ]
  },
  {
   "cell_type": "markdown",
   "metadata": {},
   "source": [
    "Imports and utility functions that might or might not prove useful down the line."
   ]
  },
  {
   "cell_type": "code",
   "execution_count": 1,
   "metadata": {},
   "outputs": [],
   "source": [
    "# Python 3.x\n",
    "import re\n",
    "import numpy as np\n",
    "import math\n",
    "import urllib.request\n",
    "import reprlib\n",
    "import operator\n",
    "import string\n",
    "import hashlib\n",
    "\n",
    "from collections import Counter, defaultdict, namedtuple, deque\n",
    "from functools   import lru_cache, reduce\n",
    "from itertools   import permutations, combinations, chain, cycle, product, islice, count, repeat, filterfalse\n",
    "from heapq       import heappop, heappush\n",
    "from enum        import Enum\n",
    "\n",
    "# sometimes a graph helps\n",
    "import matplotlib\n",
    "import matplotlib.pyplot as plt\n",
    "%matplotlib inline\n",
    "matplotlib.rcParams['figure.figsize'] = (8,8)\n",
    "\n",
    "def Input(day,strip=True):\n",
    "    \"Open this day's input file.\"\n",
    "    \n",
    "    filename = 'input/input{}.txt'.format(day)\n",
    "    try:\n",
    "        with open(filename, 'r') as f:\n",
    "            text = f.read()\n",
    "            if strip:\n",
    "                text = text.strip()\n",
    "        return text\n",
    "    except FileNotFoundError:\n",
    "        url = 'http://adventofcode.com/2017/day/{}/input'.format(day)\n",
    "        print('input file not found. opening browser...')\n",
    "        print('please save the file as \"input<#day>.txt in your input folder.')\n",
    "        import webbrowser\n",
    "        webbrowser.open(url)\n",
    "\n",
    "cat = ''.join\n",
    "def first(iterable, default=None): return next(iter(iterable), default)\n",
    "def nth(iterable, n, default=None): return next(islice(iterable, n, None), default)\n",
    "def fs(*items): return frozenset(items)\n",
    "\n",
    "def ilen(iterator): return sum(1 for _ in iterator)\n",
    "\n",
    "def ints(text,typ=int):\n",
    "    return list(map(typ,re.compile(r'[-+]?\\d*[.]?\\d+').findall(text)))\n",
    "\n",
    "def shift(it, n):\n",
    "    return it[n:] + it[:n]\n",
    "\n",
    "def rot(mat, N=1, clockwise=True):\n",
    "    '''rotate 2D matrix'''\n",
    "    for _ in range(N):\n",
    "        if clockwise:\n",
    "            mat = list(zip(*mat[::-1]))\n",
    "        else:\n",
    "            mat = list(zip(*mat[::-1]))[::-1]\n",
    "    return mat\n",
    "\n",
    "def locate2D(m, val):\n",
    "    '''locate value in 2D list'''\n",
    "    for i, line in enumerate(m):\n",
    "        j=-1\n",
    "        try:\n",
    "            j = line.index(val)\n",
    "        except ValueError:\n",
    "            continue\n",
    "        break\n",
    "    else:\n",
    "        i = -1\n",
    "    return (i,j)\n",
    "\n",
    "def dist_L1(p1,p2=None):\n",
    "    if p2 == None:\n",
    "        p2 = repeat(0)\n",
    "    return sum(abs(p2_i-p1_i) for p1_i, p2_i in zip(p1,p2))\n",
    "\n",
    "def dist_L2(p1,p2=None):\n",
    "    if p2 == None:\n",
    "        p2 = repeat(0)\n",
    "    return sum((p2_i-p1_i)*(p2_i-p1_i) for p1_i, p2_i in zip(p1,p2))**.5\n",
    "\n",
    "def neighbors4(point): \n",
    "    \"The four neighbors (without diagonals).\"\n",
    "    x, y = point\n",
    "    return ((x+1, y), (x-1, y), (x, y+1), (x, y-1))\n",
    "\n",
    "def neighbors8(point): \n",
    "    \"The eight neighbors (with diagonals).\"\n",
    "    x, y = point \n",
    "    return ((x+1, y), (x-1, y), (x, y+1), (x, y-1),\n",
    "            (x+1, y+1), (x-1, y-1), (x+1, y-1), (x-1, y+1))\n",
    "\n",
    "from numbers import Number \n",
    "class Vector(object):\n",
    "    def __init__(self,*args):\n",
    "        if len(args) == 1:\n",
    "            if isinstance(args,Number): self.vec = tuple(0 for _ in range(args))\n",
    "            else: self.vec = tuple(*args)\n",
    "        else: self.vec = tuple(args)\n",
    "    def __mul__(self, other):\n",
    "        if isinstance(other,Number): return Vector(other * x for x in self.vec)\n",
    "        elif isinstance(other,Vector): return sum(x*y for x,y in zip(self.vec, other.vec))\n",
    "        raise NotImplemented\n",
    "    def __add__(self,other):\n",
    "        return Vector(x+y for x,y in zip(self.vec, other.vec))\n",
    "    def __sub__(self,other):\n",
    "        return Vector(x-y for x,y in zip(self.vec, other.vec))\n",
    "    def __iter__(self):\n",
    "        return self.vec.__iter__()\n",
    "    def __len__(self):\n",
    "        return len(self.vec)\n",
    "    def __getitem__(self, key):\n",
    "        return self.vec[key]\n",
    "    def __repr__(self):\n",
    "        return 'Vector(' + str(self.vec)[1:-1] + ')'\n",
    "    def __eq__(self, other):\n",
    "        return self.vec == other.vec\n",
    "    def __hash__(self):\n",
    "        return hash(self.vec)\n",
    "\n",
    "#display and debug functions\n",
    "def h1(s):\n",
    "    upr, brd, lwr = '▁', '█', '▔'\n",
    "    return upr*(len(s)+4) + '\\n'+brd+' ' + s + ' ' + brd +'\\n' + lwr*(len(s)+4)\n",
    "\n",
    "def h2(s, ch='-'):\n",
    "    return s + '\\n' + ch*len(s) + '\\n'\n",
    "\n",
    "h1 = lambda s: h2(s,'=')  #the other h1 is a bitch, apparently.\n",
    "\n",
    "def print_result(day, part, text):\n",
    "    print(h1('Day {} part {}: {}'.format(day, part, text)))\n",
    "\n",
    "def trace1(f):\n",
    "    \"Print a trace of the input and output of a function on one line.\"\n",
    "    rep = reprlib.aRepr\n",
    "    rep.maxother = 85\n",
    "    def traced_f(*args):\n",
    "        arg_strs = ', '.join(map(rep.repr, args))\n",
    "        result = f(*args)\n",
    "        print('{}({}) = {}'.format(f.__name__, arg_strs, result))\n",
    "        return result\n",
    "    return traced_f"
   ]
  },
  {
   "cell_type": "markdown",
   "metadata": {
    "heading_collapsed": true
   },
   "source": [
    "## [Day 1: Not Quite Lisp](http://adventofcode.com/2015/day/1)"
   ]
  },
  {
   "cell_type": "code",
   "execution_count": 7,
   "metadata": {
    "hidden": true
   },
   "outputs": [
    {
     "name": "stdout",
     "output_type": "stream",
     "text": [
      "Day 1 part 1: destination floor is 232\n",
      "======================================\n",
      "\n"
     ]
    }
   ],
   "source": [
    "def get_floor(directions):\n",
    "    UP, DOWN = '()'\n",
    "    return directions.count(UP) - directions.count(DOWN)\n",
    "\n",
    "\n",
    "directions = Input(1)\n",
    "print_result(1,1,'destination floor is ' + str(get_floor(directions)))"
   ]
  },
  {
   "cell_type": "code",
   "execution_count": 10,
   "metadata": {
    "hidden": true
   },
   "outputs": [
    {
     "name": "stdout",
     "output_type": "stream",
     "text": [
      "Day 1 part 2: basement reached after 1783 steps\n",
      "===============================================\n",
      "\n"
     ]
    }
   ],
   "source": [
    "for step in count(1):\n",
    "    floor = get_floor(directions[:step])\n",
    "    if floor == -1:\n",
    "        break\n",
    "print_result(1,2,'basement reached after {} steps'.format(step))"
   ]
  },
  {
   "cell_type": "markdown",
   "metadata": {
    "heading_collapsed": true
   },
   "source": [
    "## [Day 2: I Was Told There Would Be No Math](http://adventofcode.com/2015/day/2)"
   ]
  },
  {
   "cell_type": "markdown",
   "metadata": {
    "hidden": true
   },
   "source": [
    "Calculate how much wrapping paper is needed for a list of presents specified bei `width` x `height` x `length`.\n",
    "\n",
    "Sample input looks like this:\n",
    "```20x3x11\n",
    "15x27x5\n",
    "6x29x7\n",
    "30x15x9\n",
    "19x29x21\n",
    "[...]```\n",
    "\n",
    "Wrapping-paper-area is defined as surface area of the box (2*l*w + 2*w*h + 2*h*l) plus the area of the smallest side as slack."
   ]
  },
  {
   "cell_type": "code",
   "execution_count": 15,
   "metadata": {
    "hidden": true
   },
   "outputs": [
    {
     "name": "stdout",
     "output_type": "stream",
     "text": [
      "Day 2 part 1: 1606483 ft^2 of wrapping paper are needed.\n",
      "========================================================\n",
      "\n"
     ]
    }
   ],
   "source": [
    "def calc_area(l, w, h):\n",
    "    a = l * w\n",
    "    b = l * h\n",
    "    c = w * h\n",
    "    return 2 * (a + b + c) + min([a, b, c])\n",
    "\n",
    "\n",
    "def parse_line(line):\n",
    "    return [int(edge) for edge in line.strip().split('x')]\n",
    "\n",
    "\n",
    "def solve_2_1(text):\n",
    "    return sum(calc_area(*parse_line(line)) for line in text.splitlines())\n",
    "\n",
    "\n",
    "assert calc_area(2, 3, 4) == 58\n",
    "assert calc_area(1, 1, 10) == 43\n",
    "assert calc_area(*parse_line('2x3x4')) == 58\n",
    "\n",
    "rstr = '{} ft^2 of wrapping paper are needed.'\n",
    "print_result(2, 1, rstr.format(solve_2_1(Input(2))))"
   ]
  },
  {
   "cell_type": "markdown",
   "metadata": {
    "hidden": true
   },
   "source": [
    "For part two we also need to calculate the length of a ribbon for a bow.\n",
    "\n",
    "The ribbon required to wrap a present is the shortest distance around its sides, or the smallest perimeter of any one face. Each present also requires a bow made out of ribbon as well; the feet of ribbon required for the perfect bow is equal to the cubic feet of volume of the present. "
   ]
  },
  {
   "cell_type": "code",
   "execution_count": 19,
   "metadata": {
    "hidden": true
   },
   "outputs": [
    {
     "name": "stdout",
     "output_type": "stream",
     "text": [
      "Day 2 part 2: 3842356 ft of ribbon are needed.\n",
      "==============================================\n",
      "\n"
     ]
    }
   ],
   "source": [
    "def calc_ribbon_length(l, w, h):\n",
    "    a, b, c = sorted([l, w, h])\n",
    "    return 2 * (a + b) + a * b * c\n",
    "\n",
    "\n",
    "def solve_2_2(text):\n",
    "    return sum(calc_ribbon_length(*parse_line(line)) for line in text.splitlines())\n",
    "\n",
    "\n",
    "assert calc_ribbon_length(2, 3, 4) == 34\n",
    "assert calc_ribbon_length(1, 1, 10) == 14\n",
    "\n",
    "rstr2 = '{} ft of ribbon are needed.'\n",
    "print_result(2, 2, rstr2.format(solve_2_2(Input(2))))"
   ]
  },
  {
   "cell_type": "markdown",
   "metadata": {
    "heading_collapsed": true
   },
   "source": [
    "## [Day 3: Perfectly Spherical Houses in a Vacuum](http://adventofcode.com/2015/day/3)"
   ]
  },
  {
   "cell_type": "markdown",
   "metadata": {
    "hidden": true
   },
   "source": [
    "Santa moves on a 2D grid, depositing presents on every field.\n",
    "He follows the following instructions:\n",
    "- `<` for left\n",
    "- `>` for right\n",
    "- `^` for up\n",
    "- `v` for down\n",
    "\n",
    "Sample input looks like this:\n",
    "\n",
    "```>^^v^<>v<<<v<v^>>v^^^<v<>^^><^<<^vv>>>^<<^>> [...]```\n",
    "\n",
    "How many houses are visited at least once?"
   ]
  },
  {
   "cell_type": "code",
   "execution_count": 25,
   "metadata": {
    "hidden": true
   },
   "outputs": [
    {
     "name": "stdout",
     "output_type": "stream",
     "text": [
      "Day 3 part 1: 2592 houses visited\n",
      "=================================\n",
      "\n"
     ]
    }
   ],
   "source": [
    "dirs = {'^': +1j,\n",
    "        'v': -1j,\n",
    "        '<': -1,\n",
    "        '>': +1}\n",
    "\n",
    "\n",
    "def travel(directions):\n",
    "    visited = [0]\n",
    "    for d in directions:\n",
    "        visited.append(visited[-1] + dirs[d])\n",
    "    return visited\n",
    "\n",
    "\n",
    "assert len(set(travel('>'))) == 2\n",
    "assert len(set(travel('^>v<'))) == 4\n",
    "assert len(set(travel('^v^v^v^v^v'))) == 2\n",
    "\n",
    "visited = travel(Input(3))\n",
    "print_result(3, 1, '{} houses visited'.format(len(set(visited))))"
   ]
  },
  {
   "cell_type": "markdown",
   "metadata": {
    "hidden": true
   },
   "source": [
    "In part 2 Santa and [Robo-Santa](http://i.imgur.com/Le0U3YY.jpg) take turns following the directions."
   ]
  },
  {
   "cell_type": "code",
   "execution_count": 27,
   "metadata": {
    "hidden": true
   },
   "outputs": [
    {
     "name": "stdout",
     "output_type": "stream",
     "text": [
      "Day 3 part 2: 2360 houses visited\n",
      "=================================\n",
      "\n"
     ]
    }
   ],
   "source": [
    "def split_travel(directions):\n",
    "    return travel(directions[::2]) + travel(directions[1::2])\n",
    "\n",
    "assert len(set(split_travel('^v'))) == 3\n",
    "assert len(set(split_travel('^>v<'))) == 3\n",
    "assert len(set(split_travel('^v^v^v^v^v'))) == 11\n",
    "\n",
    "visited = split_travel(Input(3))\n",
    "print_result(3, 2, '{} houses visited'.format(len(set(visited))))"
   ]
  },
  {
   "cell_type": "markdown",
   "metadata": {
    "heading_collapsed": true
   },
   "source": [
    "## [Day 4: The Ideal Stocking Stuffer](http://adventofcode.com/2015/day/4)"
   ]
  },
  {
   "cell_type": "markdown",
   "metadata": {
    "hidden": true
   },
   "source": [
    "Find the lowest number for which the MD5 hash of a prefix (input) and that number starts with 5 zeros..."
   ]
  },
  {
   "cell_type": "code",
   "execution_count": 30,
   "metadata": {
    "hidden": true
   },
   "outputs": [
    {
     "name": "stdout",
     "output_type": "stream",
     "text": [
      "Day 4 part 1: lowest number is 254575\n",
      "=====================================\n",
      "\n"
     ]
    }
   ],
   "source": [
    "def gen_hash(key, num=5):\n",
    "    for i in count():\n",
    "        m = hashlib.md5()\n",
    "        m.update(bytes(key + str(i), 'utf-8'))\n",
    "        h = m.hexdigest()\n",
    "        if h.startswith('0' * num):\n",
    "            yield i\n",
    "\n",
    "\n",
    "assert next(gen_hash('abcdef')) == 609043\n",
    "assert next(gen_hash('pqrstuv')) == 1048970\n",
    "\n",
    "print_result(4, 1, 'lowest number is ' + str(next(gen_hash(Input(4)))))"
   ]
  },
  {
   "cell_type": "markdown",
   "metadata": {
    "hidden": true
   },
   "source": [
    "... and starting with 6 zeros for part 2."
   ]
  },
  {
   "cell_type": "code",
   "execution_count": 32,
   "metadata": {
    "hidden": true
   },
   "outputs": [
    {
     "name": "stdout",
     "output_type": "stream",
     "text": [
      "Day 4 part 2: lowest number is 1038736\n",
      "======================================\n",
      "\n"
     ]
    }
   ],
   "source": [
    "print_result(4, 2, 'lowest number is ' + str(next(gen_hash(Input(4), num=6))))"
   ]
  },
  {
   "cell_type": "markdown",
   "metadata": {
    "heading_collapsed": true
   },
   "source": [
    "## [Day 5: Doesn't He Have Intern-Elves For This?](http://adventofcode.com/2015/day/5)"
   ]
  },
  {
   "cell_type": "markdown",
   "metadata": {
    "hidden": true
   },
   "source": [
    "Find strings that match these criteria:\n",
    "\n",
    "- contains at least three [aeiou]\n",
    "- contains at least one repeated letter (e.g. 'xx')\n",
    "- does not contain ab, cd, pq, or xy\n",
    "\n",
    "Sample input looks like this:\n",
    "\n",
    "```uxcplgxnkwbdwhrp\n",
    "suerykeptdsutidb\n",
    "dmrtgdkaimrrwmej\n",
    "[...]```"
   ]
  },
  {
   "cell_type": "code",
   "execution_count": 36,
   "metadata": {
    "hidden": true
   },
   "outputs": [
    {
     "name": "stdout",
     "output_type": "stream",
     "text": [
      "Day 5 part 1: 236 strings are nice\n",
      "==================================\n",
      "\n"
     ]
    }
   ],
   "source": [
    "def c1(text):\n",
    "    return len([c for c in text if c in 'aeiou']) >= 3\n",
    "\n",
    "\n",
    "def c2(text):\n",
    "    matching_pairs = [a == b for a, b in zip(text[:-1], text[1:])]\n",
    "    return any(matching_pairs)\n",
    "\n",
    "\n",
    "def c3(text):\n",
    "    return not any(cmb in text for cmb in ('ab', 'cd', 'pq', 'xy'))\n",
    "\n",
    "\n",
    "def is_nice(text):\n",
    "    return c1(text) and c2(text) and c3(text)\n",
    "\n",
    "assert is_nice('ugknbfddgicrmopn')\n",
    "assert is_nice('aaa')\n",
    "assert not is_nice('jchzalrnumimnmhp')\n",
    "assert not is_nice('haegwjzuvuyypxyu')\n",
    "assert not is_nice('dvszwmarrgswjxmb')\n",
    "\n",
    "nn_list = [is_nice(line) for line in Input(5).splitlines()]\n",
    "print_result(5,1,'{} strings are nice'.format(nn_list.count(True)))"
   ]
  },
  {
   "cell_type": "markdown",
   "metadata": {
    "hidden": true
   },
   "source": [
    "New criteria for part 2, because why not.\n",
    "\n",
    "- contains a pair of any two letters that appears at least twice in the string without overlapping, like xyxy (xy) or aabcdefgaa (aa), but not like aaa (aa, but it overlaps).\n",
    "- contains at least one letter which repeats with exactly one letter between them, like xyx, abcdefeghi (efe), or even aaa.\n"
   ]
  },
  {
   "cell_type": "code",
   "execution_count": 54,
   "metadata": {
    "hidden": true
   },
   "outputs": [
    {
     "name": "stdout",
     "output_type": "stream",
     "text": [
      "Day 5 part 2: 51 strings are nice\n",
      "=================================\n",
      "\n"
     ]
    }
   ],
   "source": [
    "p4 = re.compile(r'(..).*\\1')\n",
    "def c4(text):\n",
    "    return p4.search(text)\n",
    "\n",
    "p5 = re.compile(r'(.).\\1')\n",
    "def c5(text):\n",
    "    return p5.search(text)\n",
    "\n",
    "def is_nice2(text):\n",
    "    return c4(text) and c5(text)\n",
    "\n",
    "assert is_nice2('qjhvhtzxzqqjkmpb')\n",
    "assert is_nice2('xxyxx')\n",
    "assert not is_nice2('uurcxstgmygtbstg')\n",
    "assert not is_nice2('ieodomkazucvgmuy')\n",
    "\n",
    "nn_list2 = [bool(is_nice2(line)) for line in Input(5).splitlines()]\n",
    "print_result(5,2,'{} strings are nice'.format(nn_list2.count(True)))"
   ]
  },
  {
   "cell_type": "markdown",
   "metadata": {
    "heading_collapsed": true
   },
   "source": [
    "## [Day 6: Probably a Fire Hazard](http://adventofcode.com/2015/day/6)"
   ]
  },
  {
   "cell_type": "markdown",
   "metadata": {
    "hidden": true
   },
   "source": [
    "Switch lights on a 1000x1000 grid.\n",
    "\n",
    "- lights start turned off\n",
    "- you can turn them on/off or toggle them.\n",
    "- `3,4 through 6,5` defines an inclusive rectangle that is to be switched\n",
    "\n",
    "Sample input looks like\n",
    "\n",
    "```toggle 461,550 through 564,900\n",
    "turn off 370,39 through 425,839\n",
    "turn off 464,858 through 833,915\n",
    "turn off 812,389 through 865,874\n",
    "turn on 599,989 through 806,993\n",
    "[...]```\n",
    "\n",
    "How many lights are turned on after we follow the instructions?"
   ]
  },
  {
   "cell_type": "code",
   "execution_count": 82,
   "metadata": {
    "hidden": true
   },
   "outputs": [
    {
     "name": "stdout",
     "output_type": "stream",
     "text": [
      "Day 6 part 1: 543903 lights are turned on\n",
      "=========================================\n",
      "\n"
     ]
    }
   ],
   "source": [
    "def grid_apply(grid, fun, rect):\n",
    "    x0, y0, x1, y1 = rect\n",
    "    for x, y in product(range(x0, x1 + 1), range(y0, y1 + 1)):\n",
    "        grid[x][y] = fun(grid[x][y])\n",
    "    return grid\n",
    "\n",
    "\n",
    "def parse_line(line):\n",
    "    pattern = re.compile(r'(.+) (\\d+),(\\d+) through (\\d+),(\\d+)')\n",
    "    funs = {'toggle':   lambda x: not x,\n",
    "            'turn on':  lambda x: True,\n",
    "            'turn off': lambda x: False\n",
    "           }\n",
    "    cmd, *rect = pattern.match(line).groups()\n",
    "    rect = tuple(int(x) for x in rect)\n",
    "    return (funs[cmd], rect)\n",
    "\n",
    "\n",
    "def run(grid, instructions):\n",
    "    for line in instructions.splitlines():\n",
    "        fun, rect = parse_line(line)\n",
    "        grid = grid_apply(grid, fun, rect)\n",
    "    return grid\n",
    "\n",
    "N = 1000\n",
    "grid = [[False for _ in range(N)] for _ in range(N)]\n",
    "result = run(grid, Input(6))\n",
    "print_result(6,1,'{} lights are turned on'.format(sum(result,[]).count(True)))"
   ]
  },
  {
   "cell_type": "markdown",
   "metadata": {
    "hidden": true
   },
   "source": [
    "Let's see if that looks fancy in any way..."
   ]
  },
  {
   "cell_type": "code",
   "execution_count": 83,
   "metadata": {
    "hidden": true
   },
   "outputs": [
    {
     "data": {
      "image/png": "[encoded data removed]",
      "text/plain": [
       "<matplotlib.figure.Figure at 0xbf6ee48>"
      ]
     },
     "metadata": {},
     "output_type": "display_data"
    }
   ],
   "source": [
    "plt.imshow(result, cmap='Greys',  interpolation='nearest')\n",
    "plt.show()"
   ]
  },
  {
   "cell_type": "markdown",
   "metadata": {
    "hidden": true
   },
   "source": [
    "It does not.\n",
    "\n",
    "On to part two... new rules.\n",
    "- The light grid you bought actually has individual brightness controls; each light can have a brightness of zero or more. The lights all start at zero.\n",
    "- The phrase turn on actually means that you should increase the brightness of those lights by 1. \n",
    "- The phrase turn off actually means that you should decrease the brightness of those lights by 1, to a minimum of zero.\n",
    "- The phrase toggle actually means that you should increase the brightness of those lights by 2."
   ]
  },
  {
   "cell_type": "code",
   "execution_count": 77,
   "metadata": {
    "hidden": true
   },
   "outputs": [
    {
     "name": "stdout",
     "output_type": "stream",
     "text": [
      "Day 6 part 2: brightness of 14687245 has been achieved\n",
      "======================================================\n",
      "\n"
     ]
    }
   ],
   "source": [
    "def parse_line(line):\n",
    "    pattern = re.compile(r'(.+) (\\d+),(\\d+) through (\\d+),(\\d+)')\n",
    "    funs = {'toggle': lambda x: x + 2,\n",
    "            'turn on': lambda x: x + 1,\n",
    "            'turn off': lambda x: max(0, x - 1)\n",
    "            }\n",
    "    cmd, *rect = pattern.match(line).groups()\n",
    "    rect = tuple(int(x) for x in rect)\n",
    "    return (funs[cmd], rect)\n",
    "\n",
    "\n",
    "def run(grid, instructions):\n",
    "    for line in instructions.splitlines():\n",
    "        fun, rect = parse_line(line)\n",
    "        grid = grid_apply(grid, fun, rect)\n",
    "    return grid\n",
    "\n",
    "\n",
    "N = 1000\n",
    "grid = [[0 for _ in range(N)] for _ in range(N)]\n",
    "result = run(grid, Input(6))\n",
    "print_result(6, 2, 'brightness of {} has been achieved'.format(\n",
    "    sum(sum(result, []))))"
   ]
  },
  {
   "cell_type": "code",
   "execution_count": 80,
   "metadata": {
    "hidden": true
   },
   "outputs": [
    {
     "data": {
      "image/png": "[encoded data removed]",
      "text/plain": [
       "<matplotlib.figure.Figure at 0xb6745f8>"
      ]
     },
     "metadata": {},
     "output_type": "display_data"
    }
   ],
   "source": [
    "plt.imshow(result, cmap='Greys',  interpolation='nearest')\n",
    "plt.show()"
   ]
  },
  {
   "cell_type": "markdown",
   "metadata": {
    "hidden": true
   },
   "source": [
    "Still doesnt look like much."
   ]
  },
  {
   "cell_type": "markdown",
   "metadata": {
    "heading_collapsed": true
   },
   "source": [
    "## [Day 7: Some Assembly Required](http://adventofcode.com/2015/day/7)"
   ]
  },
  {
   "cell_type": "markdown",
   "metadata": {
    "hidden": true
   },
   "source": [
    "Run some logic code on registers.\n",
    "\n",
    "A line of code can only be evaluated once all registers it depends on have values.\n",
    "\n",
    "Sample input looks like this:\n",
    "    \n",
    "```af AND ah -> ai\n",
    "NOT lk -> ll\n",
    "hz RSHIFT 1 -> is\n",
    "NOT go -> gp\n",
    "du OR dt -> dv\n",
    "x RSHIFT 5 -> aa\n",
    "at OR az -> ba\n",
    "eo LSHIFT 15 -> es\n",
    "ci OR ct -> cu\n",
    "14146 -> b\n",
    "[...]```\n",
    "\n",
    "This could be a tough problem if we had to actually run the instructions in the appropriate order.\n",
    "\n",
    "Just trying to run them and postponing them if the register-lookup fails works too, and is way easier."
   ]
  },
  {
   "cell_type": "code",
   "execution_count": 117,
   "metadata": {
    "hidden": true
   },
   "outputs": [],
   "source": [
    "ops = {'AND': lambda x, y: x & y,\n",
    "       'OR': lambda x, y: x | y,\n",
    "       'LSHIFT': lambda x, y: x << y,\n",
    "       'RSHIFT': lambda x, y: x >> y,\n",
    "       'NOT': lambda x: ~x + (1 << 16),\n",
    "       'ASGN': lambda x: x,\n",
    "       }\n",
    "\n",
    "assert ops['AND'](123, 456) == 72\n",
    "assert ops['OR'](123, 456) == 507\n",
    "assert ops['LSHIFT'](123, 2) == 492\n",
    "assert ops['RSHIFT'](456, 2) == 114\n",
    "assert ops['NOT'](123) == 65412\n",
    "assert ops['NOT'](456) == 65079\n",
    "\n",
    "\n",
    "def regeval(reg, s):\n",
    "    if not s.isalpha():\n",
    "        s = int(s)\n",
    "    else:\n",
    "        s = reg[s]\n",
    "    return s\n",
    "\n",
    "\n",
    "def parse_input(text):\n",
    "    asign_pattern = re.compile(r'^(\\S+) -> (\\S+)$', re.MULTILINE)\n",
    "    for source, dest in asign_pattern.findall(text):\n",
    "        yield (dest, 'ASGN', source)\n",
    "    unary_pattern = re.compile(r'^([A-Z]+) (\\S+) -> (\\S+)$', re.MULTILINE)\n",
    "    for op, x, dest in unary_pattern.findall(text):\n",
    "        yield (dest, op, x)\n",
    "    binary_pattern = re.compile(\n",
    "        r'^(\\S+) ([A-Z]+) (\\S+) -> (\\S+)$', re.MULTILINE)\n",
    "    for x, op, y, dest in binary_pattern.findall(text):\n",
    "        yield (dest, op, x, y)\n",
    "\n",
    "\n",
    "def run(text, register=None):\n",
    "    instructions = deque(parse_input(text))\n",
    "    reg = dict()\n",
    "    if register is not None:\n",
    "        reg.update(register)\n",
    "    while len(instructions) > 0:\n",
    "        instr = instructions.popleft()\n",
    "        dest, op, *args = instr\n",
    "        try:\n",
    "            if dest not in reg:\n",
    "                reg[dest] = ops[op](*(regeval(reg, arg) for arg in args))\n",
    "        except KeyError:\n",
    "            instructions.append(instr)\n",
    "    return reg\n",
    "\n",
    "\n",
    "test = '''123 -> x\n",
    "456 -> y\n",
    "x AND y -> d\n",
    "x OR y -> e\n",
    "x LSHIFT 2 -> f\n",
    "y RSHIFT 2 -> g\n",
    "NOT x -> h\n",
    "NOT y -> i'''\n",
    "\n",
    "test_result = {'d': 72, 'e': 507, 'f': 492, 'g': 114,\n",
    "               'h': 65412, 'i': 65079, 'x': 123, 'y': 456}\n",
    "\n",
    "assert run(text) == test_result"
   ]
  },
  {
   "cell_type": "code",
   "execution_count": 141,
   "metadata": {
    "hidden": true
   },
   "outputs": [
    {
     "name": "stdout",
     "output_type": "stream",
     "text": [
      "Day 7 part 1: final value of register a: 956\n",
      "============================================\n",
      "\n",
      "Day 7 part 2: final value of register a: 40149\n",
      "==============================================\n",
      "\n"
     ]
    }
   ],
   "source": [
    "result = run(Input(7))\n",
    "print_result(7, 1, 'final value of register a: ' + str(result['a']))\n",
    "result = run(Input(7), register={'b': result['a']})\n",
    "print_result(7, 2, 'final value of register a: ' + str(result['a']))"
   ]
  },
  {
   "cell_type": "markdown",
   "metadata": {
    "heading_collapsed": true
   },
   "source": [
    "## [Day 8: Matchsticks](http://adventofcode.com/2015/day/8)"
   ]
  },
  {
   "cell_type": "markdown",
   "metadata": {
    "hidden": true
   },
   "source": [
    "Sample input looks like this:\n",
    "\n",
    "```\"qxfcsmh\"\n",
    "\"ffsfyxbyuhqkpwatkjgudo\"\n",
    "\"byc\\x9dyxuafof\\\\\\xa6uf\\\\axfozomj\\\\olh\\x6a\"\n",
    "\"jtqvz\"```\n",
    "\n",
    "It's string sizes.\n",
    "\n",
    "Everybody hates string sizes."
   ]
  },
  {
   "cell_type": "code",
   "execution_count": 187,
   "metadata": {
    "hidden": true
   },
   "outputs": [
    {
     "name": "stdout",
     "output_type": "stream",
     "text": [
      "Day 8 part 1: answer is 1350\n",
      "============================\n",
      "\n",
      "Day 8 part 2: answer is 2085\n",
      "============================\n",
      "\n"
     ]
    }
   ],
   "source": [
    "len1 = sum(len(l) - len(eval(l)) for l in Input(8).splitlines())\n",
    "print_result(8, 1, 'answer is ' + str(len1))\n",
    "len2 = sum(l.count('\\\\') + l.count('\"') + 2 for l in Input(8).splitlines())\n",
    "print_result(8, 2, 'answer is ' + str(len2))"
   ]
  },
  {
   "cell_type": "markdown",
   "metadata": {
    "heading_collapsed": true
   },
   "source": [
    "## [Day 9: All in a Single Night](http://adventofcode.com/2015/day/9)"
   ]
  },
  {
   "cell_type": "markdown",
   "metadata": {
    "hidden": true
   },
   "source": [
    "Traveling Salesman Problem with just 40320 possible routes.\n",
    "\n",
    "-> we bruteforce that shit"
   ]
  },
  {
   "cell_type": "code",
   "execution_count": 203,
   "metadata": {
    "hidden": true
   },
   "outputs": [
    {
     "name": "stdout",
     "output_type": "stream",
     "text": [
      "Day 9 part 1: length of shortest route is 207\n",
      "=============================================\n",
      "\n",
      "Day 9 part 2: length of longest route is 804\n",
      "============================================\n",
      "\n"
     ]
    }
   ],
   "source": [
    "def parse_input(text):\n",
    "    dists = dict()\n",
    "    cities = set()\n",
    "    for line in text.splitlines():\n",
    "        city1, _, city2, _, dist = line.split(' ')\n",
    "        cities.add(city1)\n",
    "        cities.add(city2)\n",
    "        dists[(city1, city2)] = int(dist)\n",
    "        dists[(city2, city1)] = int(dist)\n",
    "    return cities, dists\n",
    "\n",
    "def gen_routes(cities, dists):\n",
    "    for stops in permutations(cities):\n",
    "        dist = sum(dists[(a,b)] for a,b in zip(stops[:-1],stops[1:]))\n",
    "        yield dist, stops\n",
    "\n",
    "print_result(9,1,'length of shortest route is ' \n",
    "                 + str(min(gen_routes(*parse_input(Input(9))))[0]))\n",
    "\n",
    "print_result(9,2,'length of longest route is ' \n",
    "                 + str(max(gen_routes(*parse_input(Input(9))))[0]))"
   ]
  },
  {
   "cell_type": "markdown",
   "metadata": {
    "heading_collapsed": true
   },
   "source": [
    "## [Day 10: Elves Look, Elves Say](http://adventofcode.com/2015/day/10)"
   ]
  },
  {
   "cell_type": "markdown",
   "metadata": {
    "hidden": true
   },
   "source": [
    "Input for today is just\n",
    "`1321131112`\n",
    "\n",
    "The task is applying the look-and-say sequence 40 and then 50 times."
   ]
  },
  {
   "cell_type": "code",
   "execution_count": 13,
   "metadata": {
    "hidden": true
   },
   "outputs": [
    {
     "name": "stdout",
     "output_type": "stream",
     "text": [
      "Day 10 part 1: result is 492982\n",
      "===============================\n",
      "\n",
      "Day 10 part 2: result is 6989950\n",
      "================================\n",
      "\n"
     ]
    }
   ],
   "source": [
    "def look_and_say(num):\n",
    "    seq_pattern = re.compile(r'((\\d)\\2*)')\n",
    "    seq = seq_pattern.findall(str(num))\n",
    "    return ''.join(str(len(s)) + n for s, n in seq)\n",
    "\n",
    "\n",
    "assert look_and_say('1211') == '111221'\n",
    "assert look_and_say('111221') == '312211'\n",
    "\n",
    "num = Input(10)\n",
    "for _ in range(40):\n",
    "    num = look_and_say(num)\n",
    "print_result(10, 1, 'result is ' + str(len(num)))\n",
    "\n",
    "for _ in range(10):\n",
    "    num = look_and_say(num)\n",
    "print_result(10, 2, 'result is ' + str(len(num)))"
   ]
  },
  {
   "cell_type": "markdown",
   "metadata": {
    "heading_collapsed": true
   },
   "source": [
    "## [Day 11: Corporate Policy](http://adventofcode.com/2015/day/11)"
   ]
  },
  {
   "cell_type": "markdown",
   "metadata": {
    "hidden": true
   },
   "source": [
    "Generate a new password based on an old one by incrementing (rotating the letters up and carrying over if increasing beyond z).\n",
    "\n",
    "The password has to match the following criteria:\n",
    "\n",
    "1. must include consecutive increasing triplet (abc, cde,..).\n",
    "1. _i_, _o_, or _l_ are forbidden\n",
    "1. must contain at least two different, non-overlapping pairs of letters, like aa, bb, or zz.\n",
    "\n",
    "Current password is `vzbxkghb`."
   ]
  },
  {
   "cell_type": "code",
   "execution_count": 75,
   "metadata": {
    "hidden": true
   },
   "outputs": [],
   "source": [
    "def str_inc(s):\n",
    "    l = list(string.ascii_lowercase)\n",
    "    translation = {a: b for a, b in zip(l, l[1:] + [l[0]])}\n",
    "    carry = True\n",
    "    new_s = ''\n",
    "    for c in s[::-1]:\n",
    "        if carry:\n",
    "            new_s += translation[c]\n",
    "            if c != 'z':\n",
    "                carry = False\n",
    "        else:\n",
    "            new_s += c\n",
    "    return new_s[::-1]\n",
    "\n",
    "\n",
    "def crit1(s):\n",
    "    triplets = [''.join(chr(i+j+ord('a')) for j in range(3))\n",
    "                for i in range(24)]\n",
    "    return any(trip in s for trip in triplets)\n",
    "\n",
    "def crit2(s):\n",
    "    return all(c not in s for c in 'iol')\n",
    "\n",
    "def crit3(s):\n",
    "    pair_pattern = re.compile(r'(.)\\1')\n",
    "    return 2 <= len(set(pair_pattern.findall(s)))\n",
    "\n",
    "def is_secure(s):\n",
    "    return crit1(s) and crit2(s) and crit3(s)\n",
    "\n",
    "def gen_pw(pw):\n",
    "    while True:\n",
    "        pw = str_inc(pw)\n",
    "        if is_secure(pw):\n",
    "            yield pw\n",
    "            \n",
    "assert str_inc('a') == 'b'\n",
    "assert str_inc('az') == 'ba'\n",
    "assert str_inc('azz') == 'baa'\n",
    "assert crit1('asabcafsdg') == True\n",
    "assert crit1('aceg') == False\n",
    "assert crit2('abi') == False\n",
    "assert crit2('abc') == True\n",
    "assert crit3('aabb') == True\n",
    "assert crit3('aabb') == True\n",
    "assert crit3('aacaa') == False\n",
    "assert crit3('abcde') == False\n",
    "assert next(gen_pw('abcdefgh')) == 'abcdffaa'\n",
    "# assert next(gen_pw('ghijklmn')) == 'ghjaabcc' #takes ages."
   ]
  },
  {
   "cell_type": "code",
   "execution_count": 77,
   "metadata": {
    "hidden": true
   },
   "outputs": [
    {
     "name": "stdout",
     "output_type": "stream",
     "text": [
      "CPU times: user 8.96 s, sys: 40 ms, total: 9 s\n",
      "Wall time: 9 s\n",
      "Day 11 part 1: next secure password is vzbxxyzz\n",
      "===============================================\n",
      "\n"
     ]
    }
   ],
   "source": [
    "pw_gen = gen_pw(Input(11))\n",
    "%time next_pw = next(pw_gen)\n",
    "print_result(11, 1, 'next secure password is ' + next_pw)"
   ]
  },
  {
   "cell_type": "code",
   "execution_count": 78,
   "metadata": {
    "hidden": true
   },
   "outputs": [
    {
     "name": "stdout",
     "output_type": "stream",
     "text": [
      "CPU times: user 35.2 s, sys: 68 ms, total: 35.3 s\n",
      "Wall time: 35.3 s\n",
      "Day 11 part 2: next secure password is vzcaabcc\n",
      "===============================================\n",
      "\n"
     ]
    }
   ],
   "source": [
    "%time next_pw = next(pw_gen)\n",
    "print_result(11, 2, 'next secure password is ' + next_pw)"
   ]
  },
  {
   "cell_type": "markdown",
   "metadata": {},
   "source": [
    "## [Day 12: JSAbacusFramework.io](http://adventofcode.com/2015/day/12)"
   ]
  },
  {
   "cell_type": "markdown",
   "metadata": {},
   "source": [
    "Parse a JSON document that contains arrays, objects, numbers and strings.\n",
    "\n",
    "Input starts with:\n",
    "\n",
    "```{\"e\":{\"a\":{\"e\":-39,\"c\":119,\"a\":{\"c\":65,\"a\":\"orange\",\"b\":\"green\",\"d\":\"orange\"},\"g\":\"violet\",\"b\":{\"e\":6,\"c\":{\"c\":\"violet\",\"a\":8,\"b\":[\"red\",{\"a\":37},\"green\",84,\"yellow\",\"green\",[24,45,\"blue\",\"blue\",56,\"yellow\"],\"orange\"]},\"a\":\"violet\",\"b\":{\"a\":85}, [...]```\n",
    "\n",
    "First, find all numbers and add them."
   ]
  },
  {
   "cell_type": "code",
   "execution_count": 90,
   "metadata": {},
   "outputs": [
    {
     "name": "stdout",
     "output_type": "stream",
     "text": [
      "Day 12 part 1: sum of all numbers is 119433\n",
      "===========================================\n",
      "\n"
     ]
    }
   ],
   "source": [
    "def sum_numbers(json_doc):\n",
    "    numbers = re.findall(r'-?\\d+', json_doc)\n",
    "    return sum(int(i) for i in numbers)\n",
    "\n",
    "assert sum_numbers('[1,2,3]') == 6\n",
    "assert sum_numbers('{\"a\":2,\"b\":4}') == 6\n",
    "assert sum_numbers('[[[3]]]') == 3\n",
    "assert sum_numbers('{\"a\":{\"b\":4},\"c\":-1}') == 3\n",
    "assert sum_numbers('{\"a\":[-1,1]}') == 0\n",
    "assert sum_numbers('[-1,{\"a\":1}]') == 0\n",
    "assert sum_numbers('[]') == 0\n",
    "\n",
    "result = sum_numbers(Input(12))\n",
    "print_result(12, 1, 'sum of all numbers is '+str(result))"
   ]
  },
  {
   "cell_type": "code",
   "execution_count": 92,
   "metadata": {},
   "outputs": [
    {
     "name": "stdout",
     "output_type": "stream",
     "text": [
      "False\n"
     ]
    }
   ],
   "source": [
    "import json\n",
    "json.loads(Input(12))"
   ]
  },
  {
   "cell_type": "code",
   "execution_count": null,
   "metadata": {},
   "outputs": [],
   "source": []
  }
 ],
 "metadata": {
  "kernelspec": {
   "display_name": "Python 3",
   "language": "python",
   "name": "python3"
  },
  "language_info": {
   "codemirror_mode": {
    "name": "ipython",
    "version": 3
   },
   "file_extension": ".py",
   "mimetype": "text/x-python",
   "name": "python",
   "nbconvert_exporter": "python",
   "pygments_lexer": "ipython3",
   "version": "3.5.2"
  },
  "varInspector": {
   "cols": {
    "lenName": 16,
    "lenType": 16,
    "lenVar": "120"
   },
   "kernels_config": {
    "python": {
     "delete_cmd_postfix": "",
     "delete_cmd_prefix": "del ",
     "library": "var_list.py",
     "varRefreshCmd": "print(var_dic_list())"
    },
    "r": {
     "delete_cmd_postfix": ") ",
     "delete_cmd_prefix": "rm(",
     "library": "var_list.r",
     "varRefreshCmd": "cat(var_dic_list()) "
    }
   },
   "types_to_exclude": [
    "module",
    "function",
    "builtin_function_or_method",
    "instance",
    "_Feature"
   ],
   "window_display": false
  }
 },
 "nbformat": 4,
 "nbformat_minor": 2
}
